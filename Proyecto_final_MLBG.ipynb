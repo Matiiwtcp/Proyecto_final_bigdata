{
  "nbformat": 4,
  "nbformat_minor": 0,
  "metadata": {
    "colab": {
      "provenance": [],
      "include_colab_link": true
    },
    "kernelspec": {
      "name": "python3",
      "display_name": "Python 3"
    },
    "language_info": {
      "name": "python"
    }
  },
  "cells": [
    {
      "cell_type": "markdown",
      "metadata": {
        "id": "view-in-github",
        "colab_type": "text"
      },
      "source": [
        "<a href=\"https://colab.research.google.com/github/Matiiwtcp/Proyecto_final_bigdata/blob/main/Proyecto_final_MLBG.ipynb\" target=\"_parent\"><img src=\"https://colab.research.google.com/assets/colab-badge.svg\" alt=\"Open In Colab\"/></a>"
      ]
    },
    {
      "cell_type": "markdown",
      "source": [
        "# Carga, estructurado y limpieza de datos"
      ],
      "metadata": {
        "id": "qHw_iDsCvZtz"
      }
    },
    {
      "cell_type": "markdown",
      "source": [
        "## Conectarse a Drive"
      ],
      "metadata": {
        "id": "hb-XLtXYv2_g"
      }
    },
    {
      "cell_type": "code",
      "execution_count": 107,
      "metadata": {
        "colab": {
          "base_uri": "https://localhost:8080/"
        },
        "id": "4JPl6rq9FSFj",
        "outputId": "6eaf1cc4-523c-40e8-8888-dfbe241f1f09"
      },
      "outputs": [
        {
          "output_type": "stream",
          "name": "stdout",
          "text": [
            "Drive already mounted at /content/drive; to attempt to forcibly remount, call drive.mount(\"/content/drive\", force_remount=True).\n"
          ]
        }
      ],
      "source": [
        "from google.colab import drive\n",
        "drive.mount('/content/drive')"
      ]
    },
    {
      "cell_type": "markdown",
      "source": [
        "## Importación de librerias"
      ],
      "metadata": {
        "id": "AoPejPh8v7y7"
      }
    },
    {
      "cell_type": "code",
      "source": [
        "import pandas as pd\n",
        "import geopandas as gpd\n",
        "import numpy as np\n",
        "import matplotlib.pyplot as plt\n",
        "import plotly.express as px\n",
        "import pandas as pd\n",
        "import geopandas as gpd\n",
        "import numpy as np\n",
        "import matplotlib.pyplot as plt\n",
        "import plotly.express as px\n",
        "import plotly.graph_objects as go\n",
        "from plotly.subplots import make_subplots\n",
        "\n",
        "#WIKIPEDIA\n",
        "#PBI, Esperanza de vida (2020) : https://www.kaggle.com/datasets/daniboy370/world-data-by-country-2020\n",
        "\n",
        "# https://www.kaggle.com/code/noobiedatascientist/explaining-happiness\n",
        "\n",
        "#Indice publicado por el Instituto Fraser mide el grado en que las políticas e instituciones de los países apoyan la libertad económica.\n",
        "#Libertad Economica: (2018) https://www.kaggle.com/datasets/gsutters/economic-freedom/data\n",
        "\n",
        "#Tasa de finalización - Base de datos mundial de UNICEF (abril de 2021)\n",
        "#Tasa de niños y jóvenes sin escolarizar - Instituto de Estadística de la UNESCO (marzo de 2021).\n",
        "#Tasa de NO Escolaridad y de Finalizacion https://www.kaggle.com/datasets/nelgiriyewithana/world-educational-data"
      ],
      "metadata": {
        "id": "qwx-QSb1GtWB"
      },
      "execution_count": 108,
      "outputs": []
    },
    {
      "cell_type": "markdown",
      "source": [
        "## Carga de Datasets y preparado de datos."
      ],
      "metadata": {
        "id": "LgrN68fdwC4J"
      }
    },
    {
      "cell_type": "markdown",
      "source": [
        "#### Libertad Económica - csv"
      ],
      "metadata": {
        "id": "D0eaHJE1u_TB"
      }
    },
    {
      "cell_type": "code",
      "source": [
        "# Principal medida mundial de la libertad económica, clasificando a los países en función de cinco áreas:\n",
        "# Área 1: Tamaño del gobierno - A medida que aumentan el gasto público, los impuestos y el tamaño de las empresas controladas por el gobierno,\n",
        "# la toma de decisiones del gobierno es sustituida por la elección individual y la libertad económica se reduce.\n",
        "\n",
        "# Área 2: Sistema legal y derechos de propiedad - La protección de las personas y sus bienes legítimamente adquiridos es un elemento central tanto de\n",
        "# la libertad económica como de la sociedad civil. De hecho, es la función más importante del gobierno.\n",
        "\n",
        "# Área 3: Dinero sólido - La inflación erosiona el valor de los salarios y ahorros ganados legítimamente.\n",
        "# Por lo tanto, el dinero sólido es esencial para proteger los derechos de propiedad. Cuando la inflación no solo es alta, sino también volátil,\n",
        "# se vuelve difícil para las personas planificar el futuro y, por lo tanto, utilizar la libertad económica de manera efectiva.\n",
        "\n",
        "# Área 4: Libertad para comerciar internacionalmente - La libertad de intercambio, en su sentido más amplio, comprar, vender, hacer contratos, etc.,\n",
        "# es esencial para la libertad económica, que se reduce cuando la libertad de intercambio no incluye a las empresas y a los individuos de\n",
        "# otras naciones.\n",
        "\n",
        "# Área 5: Regulación - Los gobiernos no solo utilizan una serie de herramientas para limitar el derecho a intercambiar internacionalmente,\n",
        "# sino que también pueden desarrollar regulaciones onerosas que limitan el derecho a intercambiar, obtener crédito, contratar o trabajar para\n",
        "# quien usted desee, o operar libremente su negocio.\n",
        "\n",
        "\n",
        "ruta_de_archivo = '/content/drive/MyDrive/libertadeconomica.csv'\n",
        "dataframeLibertadEconomica = pd.read_csv(ruta_de_archivo, encoding='latin1')\n",
        "df_le = dataframeLibertadEconomica.copy()\n",
        "\n",
        "# Convertir valores nulos a NaN\n",
        "df_le.replace('Datos nulos', np.nan, inplace=True)\n",
        "\n",
        "# Filtrar las filas donde 'year' sea igual a 2016\n",
        "df_le = df_le[df_le['year'] == 2016]\n",
        "\n",
        "# Seleccionar las columnas 'ECONOMIC FREEDOM' y 'countries'\n",
        "df_le = df_le[['ECONOMIC FREEDOM', 'countries']]\n",
        "\n",
        "# Diccionario que se utiliza para cambiar los nombres de las columnas\n",
        "nuevos_nombres = {\n",
        "    'countries': 'Paises',\n",
        "    'ECONOMIC FREEDOM': \"Libertad Economica\" }\n",
        "\n",
        "# Eliminar filas con NaN\n",
        "df_le = df_le.dropna()\n",
        "\n",
        "# Renombrar las columnas en el DataFrame\n",
        "df_le.rename(columns=nuevos_nombres, inplace=True)"
      ],
      "metadata": {
        "id": "2KE7Nsq9GZ4P"
      },
      "execution_count": 109,
      "outputs": []
    },
    {
      "cell_type": "markdown",
      "source": [
        "#### Felicidad global - csv"
      ],
      "metadata": {
        "id": "TZg0E2jBy_n0"
      }
    },
    {
      "cell_type": "code",
      "source": [
        "ruta_de_archivo = '/content/drive/MyDrive/world-happiness-report-2021.csv'\n",
        "dataframeFelicidad = pd.read_csv(ruta_de_archivo, encoding='latin1')\n",
        "df_f = dataframeFelicidad.copy()\n",
        "\n",
        "# Convertir valores nulos a NaN\n",
        "df_f.replace('Datos nulos', np.nan, inplace=True)\n",
        "\n",
        "df_f= df_f[['ï»¿Country name', 'Ladder score']]\n",
        "\n",
        "# Eliminar filas con NaN\n",
        "df_f= df_f.dropna()\n",
        "\n",
        "# Diccionario que se utiliza para cambiar los nombres de las columnas\n",
        "nuevos_nombres = {\n",
        "    'ï»¿Country name': 'Paises',\n",
        "    'Ladder score': 'Felicidad' }\n",
        "\n",
        "# Renombrar las columnas en el DataFrame\n",
        "df_f.rename(columns=nuevos_nombres, inplace=True)"
      ],
      "metadata": {
        "id": "_yfkIxLnxmKh"
      },
      "execution_count": 110,
      "outputs": []
    },
    {
      "cell_type": "markdown",
      "source": [
        "#### Experanza de vida - csv"
      ],
      "metadata": {
        "id": "3eemBMHgvg_f"
      }
    },
    {
      "cell_type": "code",
      "source": [
        "# La esperanza de vida es una medida estadística del tiempo promedio (ver más abajo) que se espera que viva un organismo\n",
        "\n",
        "ruta_de_archivo = '/content/drive/MyDrive/Lifeexpectancy.csv'\n",
        "dataframeEsperanzaVida = pd.read_csv(ruta_de_archivo, encoding='latin1')\n",
        "df_ev = dataframeEsperanzaVida.copy()\n",
        "\n",
        "\n",
        "df_ev= df_ev[['Country', 'Life expectancy']]\n",
        "\n",
        "# Diccionario que se utiliza para cambiar los nombres de las columnas\n",
        "nuevos_nombres = {\n",
        "    'Country': 'Paises',\n",
        "    'Life expectancy': 'Esperanza de vida' }\n",
        "\n",
        "# Renombrar las columnas en el DataFrame\n",
        "df_ev.rename(columns=nuevos_nombres, inplace=True)\n",
        "\n",
        "# Convertir valores nulos a NaN\n",
        "df_ev.replace('Datos nulos', np.nan, inplace=True)\n",
        "\n",
        "# Eliminar filas con NaN\n",
        "df_ev= df_ev.dropna()"
      ],
      "metadata": {
        "id": "6uufyVBfaoxY"
      },
      "execution_count": 111,
      "outputs": []
    },
    {
      "cell_type": "markdown",
      "source": [
        "#### PBI per capita - csv"
      ],
      "metadata": {
        "id": "URvdPcgFvT-6"
      }
    },
    {
      "cell_type": "code",
      "source": [
        "# Una lista de países del mundo por producto interno bruto (en paridad de poder adquisitivo) per cápita,\n",
        "# es decir, el valor de paridad de poder adquisitivo (PPA) de todos los bienes y servicios finales producidos dentro de un país en un año determinado.\n",
        "\n",
        "ruta_de_archivo = '/content/drive/MyDrive/PBIpercapita.csv'\n",
        "dataframePBIpercapita = pd.read_csv(ruta_de_archivo, encoding='latin1')\n",
        "df_pbi = dataframePBIpercapita.copy()\n",
        "\n",
        "# Convertir valores nulos a NaN\n",
        "df_pbi.replace('Datos nulos', np.nan, inplace=True)\n",
        "\n",
        "df_pbi= df_pbi[['Country', 'GDP per capita']]\n",
        "\n",
        "# Diccionario que se utiliza para cambiar los nombres de las columnas\n",
        "nuevos_nombres = {\n",
        "    'Country': 'Paises',\n",
        "    'GDP per capita': 'PBI' }\n",
        "\n",
        "# Renombrar las columnas en el DataFrame\n",
        "df_pbi.rename(columns=nuevos_nombres, inplace=True)\n",
        "\n",
        "# Eliminar filas con NaN\n",
        "df_pbi= df_pbi.dropna()"
      ],
      "metadata": {
        "id": "otwgKcehWTW_"
      },
      "execution_count": 112,
      "outputs": []
    },
    {
      "cell_type": "markdown",
      "source": [
        "#### Tasa suicidio - csv"
      ],
      "metadata": {
        "id": "LQlXVGVDvtrd"
      }
    },
    {
      "cell_type": "code",
      "source": [
        "# Esta lista de países contiene la tasa de suicidios según los datos publicados por la Organización Mundial de la Salud (OMS).\n",
        "ruta_de_archivo = '/content/drive/MyDrive/Suicide rate.csv'\n",
        "dataframeSuicidios = pd.read_csv(ruta_de_archivo, encoding='latin1')\n",
        "df_s = dataframeSuicidios.copy()\n",
        "\n",
        "df_s = df_s [['Country', 'Suicide rate']]\n",
        "\n",
        "# Diccionario que se utiliza para cambiar los nombres de las columnas\n",
        "nuevos_nombres = {\n",
        "    'Country': 'Paises',\n",
        "    'Suicide rate': 'Ratio de suicidios'}\n",
        "\n",
        "# Renombrar las columnas en el DataFrame\n",
        "df_s .rename(columns=nuevos_nombres, inplace=True)\n",
        "\n",
        "# Convertir valores nulos a NaN\n",
        "df_s.replace('Datos nulos', np.nan, inplace=True)\n",
        "\n",
        "# Eliminar filas con NaN\n",
        "df_s= df_s.dropna()"
      ],
      "metadata": {
        "id": "2PeOFuTxprCM"
      },
      "execution_count": 113,
      "outputs": []
    },
    {
      "cell_type": "markdown",
      "source": [
        "#### Educación global - csv"
      ],
      "metadata": {
        "id": "UREBc4jZvJ3r"
      }
    },
    {
      "cell_type": "code",
      "source": [
        "ruta_de_archivo = '/content/drive/MyDrive/Global_Education.csv'\n",
        "dataframeEducacionGlobal = pd.read_csv(ruta_de_archivo, encoding='latin1')\n",
        "df_eg = dataframeEducacionGlobal.copy ()\n",
        "\n",
        "# Convertir valores nulos a NaN\n",
        "df_eg.replace('Datos nulos', np.nan, inplace=True)\n",
        "\n",
        "# Eliminar filas con NaN\n",
        "df_eg = df_eg.dropna()\n",
        "\n",
        "# Ajustar nombres de columnas eliminando espacios adicionales\n",
        "df_eg.columns = df_eg.columns.str.strip()\n",
        "\n",
        "# Diccionario de traducción de nombres de columnas\n",
        "nuevos_nombres = {\n",
        "    'Countries and areas': 'Paises',\n",
        "    'OOSR_Pre0Primary_Age_Male': 'Tasa No Escolarización Preescolar (Varones)',\n",
        "    'OOSR_Pre0Primary_Age_Female': 'Tasa No Escolarización Preescolar (Mujeres)',\n",
        "    'OOSR_Primary_Age_Male': 'Tasa No Escolarización Primaria (Varones)',\n",
        "    'OOSR_Primary_Age_Female': 'Tasa No Escolarización Primaria (Mujeres)',\n",
        "    'OOSR_Lower_Secondary_Age_Male': 'Tasa No Escolarización Primer Ciclo Secundaria (Varones)',\n",
        "    'OOSR_Lower_Secondary_Age_Female': 'Tasa No Escolarización Primer Ciclo Secundaria (Mujeres)',\n",
        "    'OOSR_Upper_Secondary_Age_Male': 'Tasa No Escolarización Segundo Ciclo Secundaria (Varones)',\n",
        "    'OOSR_Upper_Secondary_Age_Female': 'Tasa No Escolarización Segundo Ciclo Secundaria (Mujeres)',\n",
        "    'Completion_Rate_Primary_Male': 'Tasa Finalización Educación Primaria (Varones)',\n",
        "    'Completion_Rate_Primary_Female': 'Tasa Finalización Educación Primaria (Mujeres)',\n",
        "    'Completion_Rate_Lower_Secondary_Male': 'Tasa Finalización Primer Ciclo Secundaria (Varones)',\n",
        "    'Completion_Rate_Lower_Secondary_Female': 'Tasa Finalización Primer Ciclo Secundaria (Mujeres)',\n",
        "    'Completion_Rate_Upper_Secondary_Male': 'Tasa Finalización Segundo Ciclo Secundaria (Varones)',\n",
        "    'Completion_Rate_Upper_Secondary_Female': 'Tasa Finalización Segundo Ciclo Secundaria (Mujeres)',\n",
        "    'Unemployment_Rate': 'Tasa Desempleo'\n",
        "    }\n",
        "\n",
        "# Renombrar las columnas en el DataFrame\n",
        "df_eg.rename(columns=nuevos_nombres, inplace=True)\n",
        "\n",
        "df_eg = df_eg[['Paises', 'Tasa No Escolarización Preescolar (Varones)',\n",
        "               'Tasa No Escolarización Preescolar (Mujeres)','Tasa No Escolarización Primaria (Varones)',\n",
        "               'Tasa No Escolarización Primaria (Mujeres)','Tasa No Escolarización Primer Ciclo Secundaria (Varones)',\n",
        "               'Tasa No Escolarización Primer Ciclo Secundaria (Mujeres)',\n",
        "               'Tasa No Escolarización Segundo Ciclo Secundaria (Varones)',\n",
        "               'Tasa No Escolarización Segundo Ciclo Secundaria (Varones)',\n",
        "               'Tasa No Escolarización Segundo Ciclo Secundaria (Mujeres)',\n",
        "               'Tasa Finalización Educación Primaria (Varones)',\n",
        "               'Tasa Finalización Educación Primaria (Mujeres)',\n",
        "               'Tasa Finalización Primer Ciclo Secundaria (Varones)',\n",
        "               'Tasa Finalización Primer Ciclo Secundaria (Mujeres)',\n",
        "               'Tasa Finalización Segundo Ciclo Secundaria (Varones)',\n",
        "               'Tasa Finalización Segundo Ciclo Secundaria (Mujeres)',\n",
        "               'Tasa Desempleo'\n",
        "               ]]"
      ],
      "metadata": {
        "id": "IqItajNPSX9x"
      },
      "execution_count": 114,
      "outputs": []
    },
    {
      "cell_type": "markdown",
      "source": [
        "##Funciones para graficar"
      ],
      "metadata": {
        "id": "jnej30-fwSg4"
      }
    },
    {
      "cell_type": "code",
      "source": [
        "def create_choropleth(df, location_column, z_column, title, colorbar_title, zmin=None, zmax=None):\n",
        "    data = go.Choropleth(\n",
        "        locations=df[location_column],\n",
        "        locationmode='country names',\n",
        "        z=df[z_column],\n",
        "        colorscale='Viridis',\n",
        "        colorbar={'title': colorbar_title}\n",
        "    )\n",
        "\n",
        "    fig = go.Figure(data=[data])\n",
        "    fig.update_geos(projection_type='natural earth')\n",
        "    fig.update_layout(\n",
        "        title_text=title,\n",
        "        geo=dict(showframe=False, coastlinecolor='white', showcoastlines=True)\n",
        "    )\n",
        "\n",
        "    if zmin is not None:\n",
        "        fig.update_traces(zmin=zmin)\n",
        "\n",
        "    if zmax is not None:\n",
        "        fig.update_traces(zmax=zmax)\n",
        "\n",
        "    return fig\n",
        "\n",
        "\n",
        "# Función para graficar varios\n",
        "def create_multi_choropleth(df, location_column, z_column, title, colorbar_title, zmin=None, zmax=None):\n",
        "    data = go.Choropleth(\n",
        "        locations=df[location_column],\n",
        "        locationmode='country names',\n",
        "        z=df[z_column],\n",
        "        colorscale='Viridis',\n",
        "        colorbar={'title': colorbar_title},\n",
        "        zmin=zmin,\n",
        "        zmax=zmax\n",
        "    )\n",
        "\n",
        "    return data"
      ],
      "metadata": {
        "id": "dz-WRI4TeDCf"
      },
      "execution_count": 115,
      "outputs": []
    },
    {
      "cell_type": "markdown",
      "source": [
        "# Gráficos"
      ],
      "metadata": {
        "id": "u3UTbpHtwXwh"
      }
    },
    {
      "cell_type": "markdown",
      "source": [
        "#### Libertad económica - gráfico\n"
      ],
      "metadata": {
        "id": "zLEfE4IL4C-2"
      }
    },
    {
      "cell_type": "code",
      "source": [
        "fig_economic_freedom = create_choropleth(df_le, 'Paises', 'Libertad Economica', 'Mapa de Libertad Económica', 'Libertad Economica',zmax=8,zmin=2)\n",
        "fig_economic_freedom.data[0].colorscale = 'Inferno'\n",
        "fig_economic_freedom.show()"
      ],
      "metadata": {
        "colab": {
          "base_uri": "https://localhost:8080/",
          "height": 542
        },
        "id": "yTjECQxneVwI",
        "outputId": "35de4143-2579-4a88-b21b-691ff11d0f98"
      },
      "execution_count": 116,
      "outputs": [
        {
          "output_type": "display_data",
          "data": {
            "text/html": [
              "<html>\n",
              "<head><meta charset=\"utf-8\" /></head>\n",
              "<body>\n",
              "    <div>            <script src=\"https://cdnjs.cloudflare.com/ajax/libs/mathjax/2.7.5/MathJax.js?config=TeX-AMS-MML_SVG\"></script><script type=\"text/javascript\">if (window.MathJax && window.MathJax.Hub && window.MathJax.Hub.Config) {window.MathJax.Hub.Config({SVG: {font: \"STIX-Web\"}});}</script>                <script type=\"text/javascript\">window.PlotlyConfig = {MathJaxConfig: 'local'};</script>\n",
              "        <script charset=\"utf-8\" src=\"https://cdn.plot.ly/plotly-2.24.1.min.js\"></script>                <div id=\"aa4f6ea6-9028-4faf-ba00-4bb345c5f1ca\" class=\"plotly-graph-div\" style=\"height:525px; width:100%;\"></div>            <script type=\"text/javascript\">                                    window.PLOTLYENV=window.PLOTLYENV || {};                                    if (document.getElementById(\"aa4f6ea6-9028-4faf-ba00-4bb345c5f1ca\")) {                    Plotly.newPlot(                        \"aa4f6ea6-9028-4faf-ba00-4bb345c5f1ca\",                        [{\"colorbar\":{\"title\":{\"text\":\"Libertad Economica\"}},\"colorscale\":[[0.0,\"#000004\"],[0.1111111111111111,\"#1b0c41\"],[0.2222222222222222,\"#4a0c6b\"],[0.3333333333333333,\"#781c6d\"],[0.4444444444444444,\"#a52c60\"],[0.5555555555555556,\"#cf4446\"],[0.6666666666666666,\"#ed6925\"],[0.7777777777777778,\"#fb9b06\"],[0.8888888888888888,\"#f7d13d\"],[1.0,\"#fcffa4\"]],\"locationmode\":\"country names\",\"locations\":[\"Albania\",\"Algeria\",\"Angola\",\"Argentina\",\"Armenia\",\"Australia\",\"Austria\",\"Azerbaijan\",\"Bahamas\",\"Bahrain\",\"Bangladesh\",\"Barbados\",\"Belarus\",\"Belgium\",\"Belize\",\"Benin\",\"Bhutan\",\"Bolivia\",\"Bosnia and Herzegovina\",\"Botswana\",\"Brazil\",\"Brunei Darussalam\",\"Bulgaria\",\"Burkina Faso\",\"Burundi\",\"Cambodia\",\"Cameroon\",\"Canada\",\"Cape Verde\",\"Central Afr. Rep.\",\"Chad\",\"Chile\",\"China\",\"Colombia\",\"Congo, Dem. R.\",\"Congo, Rep. Of\",\"Costa Rica\",\"Cote d'Ivoire\",\"Croatia\",\"Cyprus\",\"Czech Rep.\",\"Denmark\",\"Dominican Rep.\",\"Ecuador\",\"Egypt\",\"El Salvador\",\"Estonia\",\"Ethiopia\",\"Fiji\",\"Finland\",\"France\",\"Gabon\",\"Gambia, The\",\"Georgia\",\"Germany\",\"Ghana\",\"Greece\",\"Guatemala\",\"Guinea\",\"Guinea-Bissau\",\"Guyana\",\"Haiti\",\"Honduras\",\"Hong Kong\",\"Hungary\",\"Iceland\",\"India\",\"Indonesia\",\"Iran\",\"Iraq\",\"Ireland\",\"Israel\",\"Italy\",\"Jamaica\",\"Japan\",\"Jordan\",\"Kazakhstan\",\"Kenya\",\"Korea, South\",\"Kuwait\",\"Kyrgyz Republic\",\"Laos\",\"Latvia\",\"Lebanon\",\"Lesotho\",\"Liberia\",\"Libya\",\"Lithuania\",\"Luxembourg\",\"Macedonia\",\"Madagascar\",\"Malawi\",\"Malaysia\",\"Mali\",\"Malta\",\"Mauritania\",\"Mauritius\",\"Mexico\",\"Moldova\",\"Mongolia\",\"Montenegro\",\"Morocco\",\"Mozambique\",\"Myanmar\",\"Namibia\",\"Nepal\",\"Netherlands\",\"New Zealand\",\"Nicaragua\",\"Niger\",\"Nigeria\",\"Norway\",\"Oman\",\"Pakistan\",\"Panama\",\"Pap. New Guinea\",\"Paraguay\",\"Peru\",\"Philippines\",\"Poland\",\"Portugal\",\"Qatar\",\"Romania\",\"Russia\",\"Rwanda\",\"Saudi Arabia\",\"Senegal\",\"Serbia\",\"Seychelles\",\"Sierra Leone\",\"Singapore\",\"Slovak Rep\",\"Slovenia\",\"South Africa\",\"Spain\",\"Sri Lanka\",\"Sudan\",\"Suriname\",\"Swaziland\",\"Sweden\",\"Switzerland\",\"Syria\",\"Taiwan\",\"Tajikistan\",\"Tanzania\",\"Thailand\",\"Timor-Leste\",\"Togo\",\"Trinidad & Tob.\",\"Tunisia\",\"Turkey\",\"Uganda\",\"Ukraine\",\"Unit. Arab Em.\",\"United Kingdom\",\"United States\",\"Uruguay\",\"Venezuela\",\"Vietnam\",\"Yemen, Rep.\",\"Zambia\",\"Zimbabwe\"],\"z\":[7.54,4.99,5.17,4.84,7.57,7.98,7.58,6.49,7.34,7.56,6.3,6.43,6.23,7.32,6.86,5.98,7.02,6.23,6.6,7.43,5.75,6.93,7.41,6.05,5.92,7.17,5.82,7.98,6.68,5.11,5.44,7.8,6.46,6.5,5.67,5.02,7.55,6.0,6.96,7.71,7.56,7.77,7.18,6.06,5.72,7.15,7.86,5.73,6.79,7.65,7.25,5.84,7.34,8.02,7.69,6.6,6.46,7.64,5.93,5.25,6.31,6.51,7.06,8.97,7.22,7.22,6.63,7.16,6.03,5.4,8.07,7.49,7.27,7.18,7.47,7.46,7.11,7.2,7.53,6.75,6.93,6.91,7.64,6.99,6.38,6.56,4.74,7.86,7.6,7.13,6.19,5.86,6.92,5.8,7.73,5.96,8.01,6.9,6.64,7.4,7.04,6.37,5.5,5.42,6.4,6.53,7.71,8.49,7.27,6.01,6.32,7.6,6.76,6.0,7.58,6.25,6.95,7.43,7.34,7.27,7.51,7.49,7.69,6.83,7.48,6.52,6.22,6.85,7.23,5.75,8.84,7.3,7.05,6.65,7.56,6.49,5.36,6.36,6.46,7.44,8.39,5.02,7.89,6.72,6.92,6.85,6.55,5.82,6.73,6.29,6.84,7.41,5.98,7.5,8.0,8.03,7.16,2.88,6.42,6.34,6.61,6.06],\"type\":\"choropleth\",\"zmin\":2,\"zmax\":8}],                        {\"template\":{\"data\":{\"histogram2dcontour\":[{\"type\":\"histogram2dcontour\",\"colorbar\":{\"outlinewidth\":0,\"ticks\":\"\"},\"colorscale\":[[0.0,\"#0d0887\"],[0.1111111111111111,\"#46039f\"],[0.2222222222222222,\"#7201a8\"],[0.3333333333333333,\"#9c179e\"],[0.4444444444444444,\"#bd3786\"],[0.5555555555555556,\"#d8576b\"],[0.6666666666666666,\"#ed7953\"],[0.7777777777777778,\"#fb9f3a\"],[0.8888888888888888,\"#fdca26\"],[1.0,\"#f0f921\"]]}],\"choropleth\":[{\"type\":\"choropleth\",\"colorbar\":{\"outlinewidth\":0,\"ticks\":\"\"}}],\"histogram2d\":[{\"type\":\"histogram2d\",\"colorbar\":{\"outlinewidth\":0,\"ticks\":\"\"},\"colorscale\":[[0.0,\"#0d0887\"],[0.1111111111111111,\"#46039f\"],[0.2222222222222222,\"#7201a8\"],[0.3333333333333333,\"#9c179e\"],[0.4444444444444444,\"#bd3786\"],[0.5555555555555556,\"#d8576b\"],[0.6666666666666666,\"#ed7953\"],[0.7777777777777778,\"#fb9f3a\"],[0.8888888888888888,\"#fdca26\"],[1.0,\"#f0f921\"]]}],\"heatmap\":[{\"type\":\"heatmap\",\"colorbar\":{\"outlinewidth\":0,\"ticks\":\"\"},\"colorscale\":[[0.0,\"#0d0887\"],[0.1111111111111111,\"#46039f\"],[0.2222222222222222,\"#7201a8\"],[0.3333333333333333,\"#9c179e\"],[0.4444444444444444,\"#bd3786\"],[0.5555555555555556,\"#d8576b\"],[0.6666666666666666,\"#ed7953\"],[0.7777777777777778,\"#fb9f3a\"],[0.8888888888888888,\"#fdca26\"],[1.0,\"#f0f921\"]]}],\"heatmapgl\":[{\"type\":\"heatmapgl\",\"colorbar\":{\"outlinewidth\":0,\"ticks\":\"\"},\"colorscale\":[[0.0,\"#0d0887\"],[0.1111111111111111,\"#46039f\"],[0.2222222222222222,\"#7201a8\"],[0.3333333333333333,\"#9c179e\"],[0.4444444444444444,\"#bd3786\"],[0.5555555555555556,\"#d8576b\"],[0.6666666666666666,\"#ed7953\"],[0.7777777777777778,\"#fb9f3a\"],[0.8888888888888888,\"#fdca26\"],[1.0,\"#f0f921\"]]}],\"contourcarpet\":[{\"type\":\"contourcarpet\",\"colorbar\":{\"outlinewidth\":0,\"ticks\":\"\"}}],\"contour\":[{\"type\":\"contour\",\"colorbar\":{\"outlinewidth\":0,\"ticks\":\"\"},\"colorscale\":[[0.0,\"#0d0887\"],[0.1111111111111111,\"#46039f\"],[0.2222222222222222,\"#7201a8\"],[0.3333333333333333,\"#9c179e\"],[0.4444444444444444,\"#bd3786\"],[0.5555555555555556,\"#d8576b\"],[0.6666666666666666,\"#ed7953\"],[0.7777777777777778,\"#fb9f3a\"],[0.8888888888888888,\"#fdca26\"],[1.0,\"#f0f921\"]]}],\"surface\":[{\"type\":\"surface\",\"colorbar\":{\"outlinewidth\":0,\"ticks\":\"\"},\"colorscale\":[[0.0,\"#0d0887\"],[0.1111111111111111,\"#46039f\"],[0.2222222222222222,\"#7201a8\"],[0.3333333333333333,\"#9c179e\"],[0.4444444444444444,\"#bd3786\"],[0.5555555555555556,\"#d8576b\"],[0.6666666666666666,\"#ed7953\"],[0.7777777777777778,\"#fb9f3a\"],[0.8888888888888888,\"#fdca26\"],[1.0,\"#f0f921\"]]}],\"mesh3d\":[{\"type\":\"mesh3d\",\"colorbar\":{\"outlinewidth\":0,\"ticks\":\"\"}}],\"scatter\":[{\"fillpattern\":{\"fillmode\":\"overlay\",\"size\":10,\"solidity\":0.2},\"type\":\"scatter\"}],\"parcoords\":[{\"type\":\"parcoords\",\"line\":{\"colorbar\":{\"outlinewidth\":0,\"ticks\":\"\"}}}],\"scatterpolargl\":[{\"type\":\"scatterpolargl\",\"marker\":{\"colorbar\":{\"outlinewidth\":0,\"ticks\":\"\"}}}],\"bar\":[{\"error_x\":{\"color\":\"#2a3f5f\"},\"error_y\":{\"color\":\"#2a3f5f\"},\"marker\":{\"line\":{\"color\":\"#E5ECF6\",\"width\":0.5},\"pattern\":{\"fillmode\":\"overlay\",\"size\":10,\"solidity\":0.2}},\"type\":\"bar\"}],\"scattergeo\":[{\"type\":\"scattergeo\",\"marker\":{\"colorbar\":{\"outlinewidth\":0,\"ticks\":\"\"}}}],\"scatterpolar\":[{\"type\":\"scatterpolar\",\"marker\":{\"colorbar\":{\"outlinewidth\":0,\"ticks\":\"\"}}}],\"histogram\":[{\"marker\":{\"pattern\":{\"fillmode\":\"overlay\",\"size\":10,\"solidity\":0.2}},\"type\":\"histogram\"}],\"scattergl\":[{\"type\":\"scattergl\",\"marker\":{\"colorbar\":{\"outlinewidth\":0,\"ticks\":\"\"}}}],\"scatter3d\":[{\"type\":\"scatter3d\",\"line\":{\"colorbar\":{\"outlinewidth\":0,\"ticks\":\"\"}},\"marker\":{\"colorbar\":{\"outlinewidth\":0,\"ticks\":\"\"}}}],\"scattermapbox\":[{\"type\":\"scattermapbox\",\"marker\":{\"colorbar\":{\"outlinewidth\":0,\"ticks\":\"\"}}}],\"scatterternary\":[{\"type\":\"scatterternary\",\"marker\":{\"colorbar\":{\"outlinewidth\":0,\"ticks\":\"\"}}}],\"scattercarpet\":[{\"type\":\"scattercarpet\",\"marker\":{\"colorbar\":{\"outlinewidth\":0,\"ticks\":\"\"}}}],\"carpet\":[{\"aaxis\":{\"endlinecolor\":\"#2a3f5f\",\"gridcolor\":\"white\",\"linecolor\":\"white\",\"minorgridcolor\":\"white\",\"startlinecolor\":\"#2a3f5f\"},\"baxis\":{\"endlinecolor\":\"#2a3f5f\",\"gridcolor\":\"white\",\"linecolor\":\"white\",\"minorgridcolor\":\"white\",\"startlinecolor\":\"#2a3f5f\"},\"type\":\"carpet\"}],\"table\":[{\"cells\":{\"fill\":{\"color\":\"#EBF0F8\"},\"line\":{\"color\":\"white\"}},\"header\":{\"fill\":{\"color\":\"#C8D4E3\"},\"line\":{\"color\":\"white\"}},\"type\":\"table\"}],\"barpolar\":[{\"marker\":{\"line\":{\"color\":\"#E5ECF6\",\"width\":0.5},\"pattern\":{\"fillmode\":\"overlay\",\"size\":10,\"solidity\":0.2}},\"type\":\"barpolar\"}],\"pie\":[{\"automargin\":true,\"type\":\"pie\"}]},\"layout\":{\"autotypenumbers\":\"strict\",\"colorway\":[\"#636efa\",\"#EF553B\",\"#00cc96\",\"#ab63fa\",\"#FFA15A\",\"#19d3f3\",\"#FF6692\",\"#B6E880\",\"#FF97FF\",\"#FECB52\"],\"font\":{\"color\":\"#2a3f5f\"},\"hovermode\":\"closest\",\"hoverlabel\":{\"align\":\"left\"},\"paper_bgcolor\":\"white\",\"plot_bgcolor\":\"#E5ECF6\",\"polar\":{\"bgcolor\":\"#E5ECF6\",\"angularaxis\":{\"gridcolor\":\"white\",\"linecolor\":\"white\",\"ticks\":\"\"},\"radialaxis\":{\"gridcolor\":\"white\",\"linecolor\":\"white\",\"ticks\":\"\"}},\"ternary\":{\"bgcolor\":\"#E5ECF6\",\"aaxis\":{\"gridcolor\":\"white\",\"linecolor\":\"white\",\"ticks\":\"\"},\"baxis\":{\"gridcolor\":\"white\",\"linecolor\":\"white\",\"ticks\":\"\"},\"caxis\":{\"gridcolor\":\"white\",\"linecolor\":\"white\",\"ticks\":\"\"}},\"coloraxis\":{\"colorbar\":{\"outlinewidth\":0,\"ticks\":\"\"}},\"colorscale\":{\"sequential\":[[0.0,\"#0d0887\"],[0.1111111111111111,\"#46039f\"],[0.2222222222222222,\"#7201a8\"],[0.3333333333333333,\"#9c179e\"],[0.4444444444444444,\"#bd3786\"],[0.5555555555555556,\"#d8576b\"],[0.6666666666666666,\"#ed7953\"],[0.7777777777777778,\"#fb9f3a\"],[0.8888888888888888,\"#fdca26\"],[1.0,\"#f0f921\"]],\"sequentialminus\":[[0.0,\"#0d0887\"],[0.1111111111111111,\"#46039f\"],[0.2222222222222222,\"#7201a8\"],[0.3333333333333333,\"#9c179e\"],[0.4444444444444444,\"#bd3786\"],[0.5555555555555556,\"#d8576b\"],[0.6666666666666666,\"#ed7953\"],[0.7777777777777778,\"#fb9f3a\"],[0.8888888888888888,\"#fdca26\"],[1.0,\"#f0f921\"]],\"diverging\":[[0,\"#8e0152\"],[0.1,\"#c51b7d\"],[0.2,\"#de77ae\"],[0.3,\"#f1b6da\"],[0.4,\"#fde0ef\"],[0.5,\"#f7f7f7\"],[0.6,\"#e6f5d0\"],[0.7,\"#b8e186\"],[0.8,\"#7fbc41\"],[0.9,\"#4d9221\"],[1,\"#276419\"]]},\"xaxis\":{\"gridcolor\":\"white\",\"linecolor\":\"white\",\"ticks\":\"\",\"title\":{\"standoff\":15},\"zerolinecolor\":\"white\",\"automargin\":true,\"zerolinewidth\":2},\"yaxis\":{\"gridcolor\":\"white\",\"linecolor\":\"white\",\"ticks\":\"\",\"title\":{\"standoff\":15},\"zerolinecolor\":\"white\",\"automargin\":true,\"zerolinewidth\":2},\"scene\":{\"xaxis\":{\"backgroundcolor\":\"#E5ECF6\",\"gridcolor\":\"white\",\"linecolor\":\"white\",\"showbackground\":true,\"ticks\":\"\",\"zerolinecolor\":\"white\",\"gridwidth\":2},\"yaxis\":{\"backgroundcolor\":\"#E5ECF6\",\"gridcolor\":\"white\",\"linecolor\":\"white\",\"showbackground\":true,\"ticks\":\"\",\"zerolinecolor\":\"white\",\"gridwidth\":2},\"zaxis\":{\"backgroundcolor\":\"#E5ECF6\",\"gridcolor\":\"white\",\"linecolor\":\"white\",\"showbackground\":true,\"ticks\":\"\",\"zerolinecolor\":\"white\",\"gridwidth\":2}},\"shapedefaults\":{\"line\":{\"color\":\"#2a3f5f\"}},\"annotationdefaults\":{\"arrowcolor\":\"#2a3f5f\",\"arrowhead\":0,\"arrowwidth\":1},\"geo\":{\"bgcolor\":\"white\",\"landcolor\":\"#E5ECF6\",\"subunitcolor\":\"white\",\"showland\":true,\"showlakes\":true,\"lakecolor\":\"white\"},\"title\":{\"x\":0.05},\"mapbox\":{\"style\":\"light\"}}},\"geo\":{\"projection\":{\"type\":\"natural earth\"},\"showframe\":false,\"coastlinecolor\":\"white\",\"showcoastlines\":true},\"title\":{\"text\":\"Mapa de Libertad Econ\\u00f3mica\"}},                        {\"responsive\": true}                    ).then(function(){\n",
              "                            \n",
              "var gd = document.getElementById('aa4f6ea6-9028-4faf-ba00-4bb345c5f1ca');\n",
              "var x = new MutationObserver(function (mutations, observer) {{\n",
              "        var display = window.getComputedStyle(gd).display;\n",
              "        if (!display || display === 'none') {{\n",
              "            console.log([gd, 'removed!']);\n",
              "            Plotly.purge(gd);\n",
              "            observer.disconnect();\n",
              "        }}\n",
              "}});\n",
              "\n",
              "// Listen for the removal of the full notebook cells\n",
              "var notebookContainer = gd.closest('#notebook-container');\n",
              "if (notebookContainer) {{\n",
              "    x.observe(notebookContainer, {childList: true});\n",
              "}}\n",
              "\n",
              "// Listen for the clearing of the current output cell\n",
              "var outputEl = gd.closest('.output');\n",
              "if (outputEl) {{\n",
              "    x.observe(outputEl, {childList: true});\n",
              "}}\n",
              "\n",
              "                        })                };                            </script>        </div>\n",
              "</body>\n",
              "</html>"
            ]
          },
          "metadata": {}
        }
      ]
    },
    {
      "cell_type": "markdown",
      "source": [
        "#### Felicidad - gráfico"
      ],
      "metadata": {
        "id": "8KbUxtap4JKL"
      }
    },
    {
      "cell_type": "code",
      "source": [
        "fig_happines = create_choropleth(df_f, 'Paises', 'Felicidad', 'Mapa de la Felicidad', 'Felicidad')\n",
        "fig_happines.data[0].colorscale = 'Inferno'\n",
        "fig_happines.show()"
      ],
      "metadata": {
        "id": "_m2x4LNxxXie",
        "outputId": "a793cc16-a000-417d-86aa-c091ff9110f5",
        "colab": {
          "base_uri": "https://localhost:8080/",
          "height": 542
        }
      },
      "execution_count": 117,
      "outputs": [
        {
          "output_type": "display_data",
          "data": {
            "text/html": [
              "<html>\n",
              "<head><meta charset=\"utf-8\" /></head>\n",
              "<body>\n",
              "    <div>            <script src=\"https://cdnjs.cloudflare.com/ajax/libs/mathjax/2.7.5/MathJax.js?config=TeX-AMS-MML_SVG\"></script><script type=\"text/javascript\">if (window.MathJax && window.MathJax.Hub && window.MathJax.Hub.Config) {window.MathJax.Hub.Config({SVG: {font: \"STIX-Web\"}});}</script>                <script type=\"text/javascript\">window.PlotlyConfig = {MathJaxConfig: 'local'};</script>\n",
              "        <script charset=\"utf-8\" src=\"https://cdn.plot.ly/plotly-2.24.1.min.js\"></script>                <div id=\"eab1bc8b-f869-41d7-b82f-bdb890e56a4e\" class=\"plotly-graph-div\" style=\"height:525px; width:100%;\"></div>            <script type=\"text/javascript\">                                    window.PLOTLYENV=window.PLOTLYENV || {};                                    if (document.getElementById(\"eab1bc8b-f869-41d7-b82f-bdb890e56a4e\")) {                    Plotly.newPlot(                        \"eab1bc8b-f869-41d7-b82f-bdb890e56a4e\",                        [{\"colorbar\":{\"title\":{\"text\":\"Felicidad\"}},\"colorscale\":[[0.0,\"#000004\"],[0.1111111111111111,\"#1b0c41\"],[0.2222222222222222,\"#4a0c6b\"],[0.3333333333333333,\"#781c6d\"],[0.4444444444444444,\"#a52c60\"],[0.5555555555555556,\"#cf4446\"],[0.6666666666666666,\"#ed6925\"],[0.7777777777777778,\"#fb9b06\"],[0.8888888888888888,\"#f7d13d\"],[1.0,\"#fcffa4\"]],\"locationmode\":\"country names\",\"locations\":[\"Finland\",\"Denmark\",\"Switzerland\",\"Iceland\",\"Netherlands\",\"Norway\",\"Sweden\",\"Luxembourg\",\"New Zealand\",\"Austria\",\"Australia\",\"Israel\",\"Germany\",\"Canada\",\"Ireland\",\"Costa Rica\",\"United Kingdom\",\"Czech Republic\",\"United States\",\"Belgium\",\"France\",\"Bahrain\",\"Malta\",\"Taiwan Province of China\",\"United Arab Emirates\",\"Saudi Arabia\",\"Spain\",\"Italy\",\"Slovenia\",\"Guatemala\",\"Uruguay\",\"Singapore\",\"Kosovo\",\"Slovakia\",\"Brazil\",\"Mexico\",\"Jamaica\",\"Lithuania\",\"Cyprus\",\"Estonia\",\"Panama\",\"Uzbekistan\",\"Chile\",\"Poland\",\"Kazakhstan\",\"Romania\",\"Kuwait\",\"Serbia\",\"El Salvador\",\"Mauritius\",\"Latvia\",\"Colombia\",\"Hungary\",\"Thailand\",\"Nicaragua\",\"Japan\",\"Argentina\",\"Portugal\",\"Honduras\",\"Croatia\",\"Philippines\",\"South Korea\",\"Peru\",\"Bosnia and Herzegovina\",\"Moldova\",\"Ecuador\",\"Kyrgyzstan\",\"Greece\",\"Bolivia\",\"Mongolia\",\"Paraguay\",\"Montenegro\",\"Dominican Republic\",\"North Cyprus\",\"Belarus\",\"Russia\",\"Hong Kong S.A.R. of China\",\"Tajikistan\",\"Vietnam\",\"Libya\",\"Malaysia\",\"Indonesia\",\"Congo (Brazzaville)\",\"China\",\"Ivory Coast\",\"Armenia\",\"Nepal\",\"Bulgaria\",\"Maldives\",\"Azerbaijan\",\"Cameroon\",\"Senegal\",\"Albania\",\"North Macedonia\",\"Ghana\",\"Niger\",\"Turkmenistan\",\"Gambia\",\"Benin\",\"Laos\",\"Bangladesh\",\"Guinea\",\"South Africa\",\"Turkey\",\"Pakistan\",\"Morocco\",\"Venezuela\",\"Georgia\",\"Algeria\",\"Ukraine\",\"Iraq\",\"Gabon\",\"Burkina Faso\",\"Cambodia\",\"Mozambique\",\"Nigeria\",\"Mali\",\"Iran\",\"Uganda\",\"Liberia\",\"Kenya\",\"Tunisia\",\"Lebanon\",\"Namibia\",\"Palestinian Territories\",\"Myanmar\",\"Jordan\",\"Chad\",\"Sri Lanka\",\"Swaziland\",\"Comoros\",\"Egypt\",\"Ethiopia\",\"Mauritania\",\"Madagascar\",\"Togo\",\"Zambia\",\"Sierra Leone\",\"India\",\"Burundi\",\"Yemen\",\"Tanzania\",\"Haiti\",\"Malawi\",\"Lesotho\",\"Botswana\",\"Rwanda\",\"Zimbabwe\",\"Afghanistan\"],\"z\":[7.842,7.62,7.571,7.554,7.464,7.392,7.363,7.324,7.277,7.268,7.183,7.157,7.155,7.103,7.085,7.069,7.064,6.965,6.951,6.834,6.69,6.647,6.602,6.584,6.561,6.494,6.491,6.483,6.461,6.435,6.431,6.377,6.372,6.331,6.33,6.317,6.309,6.255,6.223,6.189,6.18,6.179,6.172,6.166,6.152,6.14,6.106,6.078,6.061,6.049,6.032,6.012,5.992,5.985,5.972,5.94,5.929,5.929,5.919,5.882,5.88,5.845,5.84,5.813,5.766,5.764,5.744,5.723,5.716,5.677,5.653,5.581,5.545,5.536,5.534,5.477,5.477,5.466,5.411,5.41,5.384,5.345,5.342,5.339,5.306,5.283,5.269,5.266,5.198,5.171,5.142,5.132,5.117,5.101,5.088,5.074,5.066,5.051,5.045,5.03,5.025,4.984,4.956,4.948,4.934,4.918,4.892,4.891,4.887,4.875,4.854,4.852,4.834,4.83,4.794,4.759,4.723,4.721,4.636,4.625,4.607,4.596,4.584,4.574,4.517,4.426,4.395,4.355,4.325,4.308,4.289,4.283,4.275,4.227,4.208,4.107,4.073,3.849,3.819,3.775,3.658,3.623,3.615,3.6,3.512,3.467,3.415,3.145,2.523],\"type\":\"choropleth\"}],                        {\"template\":{\"data\":{\"histogram2dcontour\":[{\"type\":\"histogram2dcontour\",\"colorbar\":{\"outlinewidth\":0,\"ticks\":\"\"},\"colorscale\":[[0.0,\"#0d0887\"],[0.1111111111111111,\"#46039f\"],[0.2222222222222222,\"#7201a8\"],[0.3333333333333333,\"#9c179e\"],[0.4444444444444444,\"#bd3786\"],[0.5555555555555556,\"#d8576b\"],[0.6666666666666666,\"#ed7953\"],[0.7777777777777778,\"#fb9f3a\"],[0.8888888888888888,\"#fdca26\"],[1.0,\"#f0f921\"]]}],\"choropleth\":[{\"type\":\"choropleth\",\"colorbar\":{\"outlinewidth\":0,\"ticks\":\"\"}}],\"histogram2d\":[{\"type\":\"histogram2d\",\"colorbar\":{\"outlinewidth\":0,\"ticks\":\"\"},\"colorscale\":[[0.0,\"#0d0887\"],[0.1111111111111111,\"#46039f\"],[0.2222222222222222,\"#7201a8\"],[0.3333333333333333,\"#9c179e\"],[0.4444444444444444,\"#bd3786\"],[0.5555555555555556,\"#d8576b\"],[0.6666666666666666,\"#ed7953\"],[0.7777777777777778,\"#fb9f3a\"],[0.8888888888888888,\"#fdca26\"],[1.0,\"#f0f921\"]]}],\"heatmap\":[{\"type\":\"heatmap\",\"colorbar\":{\"outlinewidth\":0,\"ticks\":\"\"},\"colorscale\":[[0.0,\"#0d0887\"],[0.1111111111111111,\"#46039f\"],[0.2222222222222222,\"#7201a8\"],[0.3333333333333333,\"#9c179e\"],[0.4444444444444444,\"#bd3786\"],[0.5555555555555556,\"#d8576b\"],[0.6666666666666666,\"#ed7953\"],[0.7777777777777778,\"#fb9f3a\"],[0.8888888888888888,\"#fdca26\"],[1.0,\"#f0f921\"]]}],\"heatmapgl\":[{\"type\":\"heatmapgl\",\"colorbar\":{\"outlinewidth\":0,\"ticks\":\"\"},\"colorscale\":[[0.0,\"#0d0887\"],[0.1111111111111111,\"#46039f\"],[0.2222222222222222,\"#7201a8\"],[0.3333333333333333,\"#9c179e\"],[0.4444444444444444,\"#bd3786\"],[0.5555555555555556,\"#d8576b\"],[0.6666666666666666,\"#ed7953\"],[0.7777777777777778,\"#fb9f3a\"],[0.8888888888888888,\"#fdca26\"],[1.0,\"#f0f921\"]]}],\"contourcarpet\":[{\"type\":\"contourcarpet\",\"colorbar\":{\"outlinewidth\":0,\"ticks\":\"\"}}],\"contour\":[{\"type\":\"contour\",\"colorbar\":{\"outlinewidth\":0,\"ticks\":\"\"},\"colorscale\":[[0.0,\"#0d0887\"],[0.1111111111111111,\"#46039f\"],[0.2222222222222222,\"#7201a8\"],[0.3333333333333333,\"#9c179e\"],[0.4444444444444444,\"#bd3786\"],[0.5555555555555556,\"#d8576b\"],[0.6666666666666666,\"#ed7953\"],[0.7777777777777778,\"#fb9f3a\"],[0.8888888888888888,\"#fdca26\"],[1.0,\"#f0f921\"]]}],\"surface\":[{\"type\":\"surface\",\"colorbar\":{\"outlinewidth\":0,\"ticks\":\"\"},\"colorscale\":[[0.0,\"#0d0887\"],[0.1111111111111111,\"#46039f\"],[0.2222222222222222,\"#7201a8\"],[0.3333333333333333,\"#9c179e\"],[0.4444444444444444,\"#bd3786\"],[0.5555555555555556,\"#d8576b\"],[0.6666666666666666,\"#ed7953\"],[0.7777777777777778,\"#fb9f3a\"],[0.8888888888888888,\"#fdca26\"],[1.0,\"#f0f921\"]]}],\"mesh3d\":[{\"type\":\"mesh3d\",\"colorbar\":{\"outlinewidth\":0,\"ticks\":\"\"}}],\"scatter\":[{\"fillpattern\":{\"fillmode\":\"overlay\",\"size\":10,\"solidity\":0.2},\"type\":\"scatter\"}],\"parcoords\":[{\"type\":\"parcoords\",\"line\":{\"colorbar\":{\"outlinewidth\":0,\"ticks\":\"\"}}}],\"scatterpolargl\":[{\"type\":\"scatterpolargl\",\"marker\":{\"colorbar\":{\"outlinewidth\":0,\"ticks\":\"\"}}}],\"bar\":[{\"error_x\":{\"color\":\"#2a3f5f\"},\"error_y\":{\"color\":\"#2a3f5f\"},\"marker\":{\"line\":{\"color\":\"#E5ECF6\",\"width\":0.5},\"pattern\":{\"fillmode\":\"overlay\",\"size\":10,\"solidity\":0.2}},\"type\":\"bar\"}],\"scattergeo\":[{\"type\":\"scattergeo\",\"marker\":{\"colorbar\":{\"outlinewidth\":0,\"ticks\":\"\"}}}],\"scatterpolar\":[{\"type\":\"scatterpolar\",\"marker\":{\"colorbar\":{\"outlinewidth\":0,\"ticks\":\"\"}}}],\"histogram\":[{\"marker\":{\"pattern\":{\"fillmode\":\"overlay\",\"size\":10,\"solidity\":0.2}},\"type\":\"histogram\"}],\"scattergl\":[{\"type\":\"scattergl\",\"marker\":{\"colorbar\":{\"outlinewidth\":0,\"ticks\":\"\"}}}],\"scatter3d\":[{\"type\":\"scatter3d\",\"line\":{\"colorbar\":{\"outlinewidth\":0,\"ticks\":\"\"}},\"marker\":{\"colorbar\":{\"outlinewidth\":0,\"ticks\":\"\"}}}],\"scattermapbox\":[{\"type\":\"scattermapbox\",\"marker\":{\"colorbar\":{\"outlinewidth\":0,\"ticks\":\"\"}}}],\"scatterternary\":[{\"type\":\"scatterternary\",\"marker\":{\"colorbar\":{\"outlinewidth\":0,\"ticks\":\"\"}}}],\"scattercarpet\":[{\"type\":\"scattercarpet\",\"marker\":{\"colorbar\":{\"outlinewidth\":0,\"ticks\":\"\"}}}],\"carpet\":[{\"aaxis\":{\"endlinecolor\":\"#2a3f5f\",\"gridcolor\":\"white\",\"linecolor\":\"white\",\"minorgridcolor\":\"white\",\"startlinecolor\":\"#2a3f5f\"},\"baxis\":{\"endlinecolor\":\"#2a3f5f\",\"gridcolor\":\"white\",\"linecolor\":\"white\",\"minorgridcolor\":\"white\",\"startlinecolor\":\"#2a3f5f\"},\"type\":\"carpet\"}],\"table\":[{\"cells\":{\"fill\":{\"color\":\"#EBF0F8\"},\"line\":{\"color\":\"white\"}},\"header\":{\"fill\":{\"color\":\"#C8D4E3\"},\"line\":{\"color\":\"white\"}},\"type\":\"table\"}],\"barpolar\":[{\"marker\":{\"line\":{\"color\":\"#E5ECF6\",\"width\":0.5},\"pattern\":{\"fillmode\":\"overlay\",\"size\":10,\"solidity\":0.2}},\"type\":\"barpolar\"}],\"pie\":[{\"automargin\":true,\"type\":\"pie\"}]},\"layout\":{\"autotypenumbers\":\"strict\",\"colorway\":[\"#636efa\",\"#EF553B\",\"#00cc96\",\"#ab63fa\",\"#FFA15A\",\"#19d3f3\",\"#FF6692\",\"#B6E880\",\"#FF97FF\",\"#FECB52\"],\"font\":{\"color\":\"#2a3f5f\"},\"hovermode\":\"closest\",\"hoverlabel\":{\"align\":\"left\"},\"paper_bgcolor\":\"white\",\"plot_bgcolor\":\"#E5ECF6\",\"polar\":{\"bgcolor\":\"#E5ECF6\",\"angularaxis\":{\"gridcolor\":\"white\",\"linecolor\":\"white\",\"ticks\":\"\"},\"radialaxis\":{\"gridcolor\":\"white\",\"linecolor\":\"white\",\"ticks\":\"\"}},\"ternary\":{\"bgcolor\":\"#E5ECF6\",\"aaxis\":{\"gridcolor\":\"white\",\"linecolor\":\"white\",\"ticks\":\"\"},\"baxis\":{\"gridcolor\":\"white\",\"linecolor\":\"white\",\"ticks\":\"\"},\"caxis\":{\"gridcolor\":\"white\",\"linecolor\":\"white\",\"ticks\":\"\"}},\"coloraxis\":{\"colorbar\":{\"outlinewidth\":0,\"ticks\":\"\"}},\"colorscale\":{\"sequential\":[[0.0,\"#0d0887\"],[0.1111111111111111,\"#46039f\"],[0.2222222222222222,\"#7201a8\"],[0.3333333333333333,\"#9c179e\"],[0.4444444444444444,\"#bd3786\"],[0.5555555555555556,\"#d8576b\"],[0.6666666666666666,\"#ed7953\"],[0.7777777777777778,\"#fb9f3a\"],[0.8888888888888888,\"#fdca26\"],[1.0,\"#f0f921\"]],\"sequentialminus\":[[0.0,\"#0d0887\"],[0.1111111111111111,\"#46039f\"],[0.2222222222222222,\"#7201a8\"],[0.3333333333333333,\"#9c179e\"],[0.4444444444444444,\"#bd3786\"],[0.5555555555555556,\"#d8576b\"],[0.6666666666666666,\"#ed7953\"],[0.7777777777777778,\"#fb9f3a\"],[0.8888888888888888,\"#fdca26\"],[1.0,\"#f0f921\"]],\"diverging\":[[0,\"#8e0152\"],[0.1,\"#c51b7d\"],[0.2,\"#de77ae\"],[0.3,\"#f1b6da\"],[0.4,\"#fde0ef\"],[0.5,\"#f7f7f7\"],[0.6,\"#e6f5d0\"],[0.7,\"#b8e186\"],[0.8,\"#7fbc41\"],[0.9,\"#4d9221\"],[1,\"#276419\"]]},\"xaxis\":{\"gridcolor\":\"white\",\"linecolor\":\"white\",\"ticks\":\"\",\"title\":{\"standoff\":15},\"zerolinecolor\":\"white\",\"automargin\":true,\"zerolinewidth\":2},\"yaxis\":{\"gridcolor\":\"white\",\"linecolor\":\"white\",\"ticks\":\"\",\"title\":{\"standoff\":15},\"zerolinecolor\":\"white\",\"automargin\":true,\"zerolinewidth\":2},\"scene\":{\"xaxis\":{\"backgroundcolor\":\"#E5ECF6\",\"gridcolor\":\"white\",\"linecolor\":\"white\",\"showbackground\":true,\"ticks\":\"\",\"zerolinecolor\":\"white\",\"gridwidth\":2},\"yaxis\":{\"backgroundcolor\":\"#E5ECF6\",\"gridcolor\":\"white\",\"linecolor\":\"white\",\"showbackground\":true,\"ticks\":\"\",\"zerolinecolor\":\"white\",\"gridwidth\":2},\"zaxis\":{\"backgroundcolor\":\"#E5ECF6\",\"gridcolor\":\"white\",\"linecolor\":\"white\",\"showbackground\":true,\"ticks\":\"\",\"zerolinecolor\":\"white\",\"gridwidth\":2}},\"shapedefaults\":{\"line\":{\"color\":\"#2a3f5f\"}},\"annotationdefaults\":{\"arrowcolor\":\"#2a3f5f\",\"arrowhead\":0,\"arrowwidth\":1},\"geo\":{\"bgcolor\":\"white\",\"landcolor\":\"#E5ECF6\",\"subunitcolor\":\"white\",\"showland\":true,\"showlakes\":true,\"lakecolor\":\"white\"},\"title\":{\"x\":0.05},\"mapbox\":{\"style\":\"light\"}}},\"geo\":{\"projection\":{\"type\":\"natural earth\"},\"showframe\":false,\"coastlinecolor\":\"white\",\"showcoastlines\":true},\"title\":{\"text\":\"Mapa de la Felicidad\"}},                        {\"responsive\": true}                    ).then(function(){\n",
              "                            \n",
              "var gd = document.getElementById('eab1bc8b-f869-41d7-b82f-bdb890e56a4e');\n",
              "var x = new MutationObserver(function (mutations, observer) {{\n",
              "        var display = window.getComputedStyle(gd).display;\n",
              "        if (!display || display === 'none') {{\n",
              "            console.log([gd, 'removed!']);\n",
              "            Plotly.purge(gd);\n",
              "            observer.disconnect();\n",
              "        }}\n",
              "}});\n",
              "\n",
              "// Listen for the removal of the full notebook cells\n",
              "var notebookContainer = gd.closest('#notebook-container');\n",
              "if (notebookContainer) {{\n",
              "    x.observe(notebookContainer, {childList: true});\n",
              "}}\n",
              "\n",
              "// Listen for the clearing of the current output cell\n",
              "var outputEl = gd.closest('.output');\n",
              "if (outputEl) {{\n",
              "    x.observe(outputEl, {childList: true});\n",
              "}}\n",
              "\n",
              "                        })                };                            </script>        </div>\n",
              "</body>\n",
              "</html>"
            ]
          },
          "metadata": {}
        }
      ]
    },
    {
      "cell_type": "markdown",
      "source": [
        "#### Esperanza de vida - gráfico"
      ],
      "metadata": {
        "id": "S4_i4M3I4LHJ"
      }
    },
    {
      "cell_type": "code",
      "source": [
        "fig_life_expectancy = create_choropleth(df_ev, 'Paises', 'Esperanza de vida', 'Mapa de Esperanza de vida', 'Esperanza de vida',zmax=85,zmin=50)\n",
        "fig_life_expectancy.show()"
      ],
      "metadata": {
        "colab": {
          "base_uri": "https://localhost:8080/",
          "height": 542
        },
        "id": "OHSwb4TUeTe-",
        "outputId": "9e70210d-111d-4874-86c3-847534bd4425"
      },
      "execution_count": 118,
      "outputs": [
        {
          "output_type": "display_data",
          "data": {
            "text/html": [
              "<html>\n",
              "<head><meta charset=\"utf-8\" /></head>\n",
              "<body>\n",
              "    <div>            <script src=\"https://cdnjs.cloudflare.com/ajax/libs/mathjax/2.7.5/MathJax.js?config=TeX-AMS-MML_SVG\"></script><script type=\"text/javascript\">if (window.MathJax && window.MathJax.Hub && window.MathJax.Hub.Config) {window.MathJax.Hub.Config({SVG: {font: \"STIX-Web\"}});}</script>                <script type=\"text/javascript\">window.PlotlyConfig = {MathJaxConfig: 'local'};</script>\n",
              "        <script charset=\"utf-8\" src=\"https://cdn.plot.ly/plotly-2.24.1.min.js\"></script>                <div id=\"63f8b11f-3939-4c00-9157-bbf5f9ac5965\" class=\"plotly-graph-div\" style=\"height:525px; width:100%;\"></div>            <script type=\"text/javascript\">                                    window.PLOTLYENV=window.PLOTLYENV || {};                                    if (document.getElementById(\"63f8b11f-3939-4c00-9157-bbf5f9ac5965\")) {                    Plotly.newPlot(                        \"63f8b11f-3939-4c00-9157-bbf5f9ac5965\",                        [{\"colorbar\":{\"title\":{\"text\":\"Esperanza de vida\"}},\"colorscale\":[[0.0,\"#440154\"],[0.1111111111111111,\"#482878\"],[0.2222222222222222,\"#3e4989\"],[0.3333333333333333,\"#31688e\"],[0.4444444444444444,\"#26828e\"],[0.5555555555555556,\"#1f9e89\"],[0.6666666666666666,\"#35b779\"],[0.7777777777777778,\"#6ece58\"],[0.8888888888888888,\"#b5de2b\"],[1.0,\"#fde725\"]],\"locationmode\":\"country names\",\"locations\":[\"Afghanistan\",\"Algeria\",\"Andorra\",\"Angola\",\"Antigua and Barbuda\",\"Argentina\",\"Armenia\",\"Australia\",\"Austria\",\"Azerbaijan\",\"Bahrain\",\"Bangladesh\",\"Barbados\",\"Belarus\",\"Belgium\",\"Belize\",\"Benin\",\"Bhutan\",\"Bolivia\",\"Bosnia and Herzegovina\",\"Botswana\",\"Brazil\",\"Brunei\",\"Bulgaria\",\"Burkina Faso\",\"Burundi\",\"Cambodia\",\"Cameroon\",\"Canada\",\"Cape Verde\",\"Central African Republic\",\"Chad\",\"Chile\",\"China\",\"Colombia\",\"Comoros\",\"Costa Rica\",\"Croatia\",\"Cuba\",\"Cyprus\",\"Czech Republic\",\"Democratic Republic of the Congo\",\"Denmark\",\"Djibouti\",\"Dominican Republic\",\"East Timor\",\"Ecuador\",\"Egypt\",\"El Salvador\",\"Equatorial Guinea\",\"Eritrea\",\"Estonia\",\"Eswatini\",\"Ethiopia\",\"Fiji\",\"Finland\",\"France\",\"Gabon\",\"Georgia\",\"Germany\",\"Ghana\",\"Greece\",\"Greenland\",\"Grenada\",\"Guatemala\",\"Guinea\",\"Guinea\",\"Guyana\",\"Haiti\",\"Honduras\",\"Hong Kong\",\"Hungary\",\"Iceland\",\"India\",\"Indonesia\",\"Iran\",\"Iraq\",\"Ireland\",\"Israel\",\"Italy\",\"Ivory Coast\",\"Jamaica\",\"Japan\",\"Jordan\",\"Kazakhstan\",\"Kenya\",\"Kiribati\",\"Kuwait\",\"Kyrgyzstan\",\"Laos\",\"Latvia\",\"Lebanon\",\"Lesotho\",\"Liberia\",\"Libya\",\"Liechtenstein\",\"Lithuania\",\"Luxembourg\",\"Madagascar\",\"Malawi\",\"Malaysia\",\"Mali\",\"Malta\",\"Marshall Islands\",\"Mauritania\",\"Mauritius\",\"Mexico\",\"Micronesia\",\"Moldova\",\"Mongolia\",\"Montenegro\",\"Morocco\",\"Mozambique\",\"Myanmar\",\"Namibia\",\"Nepal\",\"Netherlands\",\"New Zealand\",\"Nicaragua\",\"Niger\",\"Nigeria\",\"North Macedonia\",\"Norway\",\"Oman\",\"Pakistan\",\"Palau\",\"Palestine\",\"Panama\",\"Papua New Guinea\",\"Paraguay\",\"Peru\",\"Philippines\",\"Poland\",\"Portugal\",\"Republic of the Congo\",\"Romania\",\"Russia\",\"Rwanda\",\"Saint Kitts and Nevis\",\"Saint Lucia\",\"Saint Vincent and the Grenadines\",\"Samoa\",\"Sao Tome and Principe\",\"Saudi Arabia\",\"Senegal\",\"Serbia\",\"Seychelles\",\"Sierra Leone\",\"Singapore\",\"Slovakia\",\"Slovenia\",\"Solomon Islands\",\"Somalia\",\"South Africa\",\"South Sudan\",\"Spain\",\"Sri Lanka\",\"Sudan\",\"Suriname\",\"Sweden\",\"Syria\",\"Tajikistan\",\"Tanzania\",\"Thailand\",\"The Bahamas\",\"The Gambia\",\"Togo\",\"Tonga\",\"Trinidad and Tobago\",\"Tunisia\",\"Turkey\",\"Turkmenistan\",\"Uganda\",\"Ukraine\",\"United Arab Emirates\",\"United Kingdom\",\"United States\",\"Uruguay\",\"Uzbekistan\",\"Vanuatu\",\"Venezuela\",\"Vietnam\",\"Yemen\",\"Zambia\",\"Zimbabwe\"],\"z\":[64.5,76.7,81.8,60.8,76.9,76.5,74.9,83.3,81.4,72.9,77.2,72.3,79.1,74.6,81.5,74.5,61.5,71.5,71.2,77.3,69.3,75.7,75.7,74.9,61.2,61.2,69.6,58.9,82.3,72.8,52.8,54.0,80.0,76.7,77.1,64.1,80.1,78.3,78.6,80.8,79.2,60.4,80.8,66.6,73.9,69.3,76.8,71.8,73.1,58.4,65.9,78.6,59.4,66.2,67.3,81.7,82.5,66.2,73.6,81.2,63.8,82.1,71.25,72.4,74.1,61.2,58.0,69.8,63.7,75.1,84.7,76.7,82.9,69.4,71.5,76.5,70.5,82.1,82.8,83.6,57.4,74.4,84.5,74.4,73.2,63.3,68.1,75.4,71.3,67.6,75.2,78.9,53.7,63.7,72.7,80.5,75.7,82.1,66.7,63.8,76.1,58.9,82.4,73.9,64.7,74.9,75.0,67.8,71.8,69.7,76.8,76.5,60.2,66.9,63.4,70.5,82.1,82.1,74.3,62.0,54.3,75.7,82.5,77.6,67.1,73.7,73.9,78.3,64.3,74.1,76.5,71.1,78.5,81.9,64.3,75.9,72.4,68.7,74.6,76.1,72.4,73.2,70.2,75.0,67.7,75.8,73.3,54.3,83.8,77.4,81.2,72.8,56.7,63.9,57.6,83.4,76.8,65.1,71.6,82.7,71.8,70.9,65.0,76.9,73.8,61.7,60.8,70.8,73.4,76.5,78.3,68.1,63.0,72.0,77.8,81.2,78.9,77.8,71.5,70.3,72.1,75.3,66.1,63.5,61.2],\"type\":\"choropleth\",\"zmin\":50,\"zmax\":85}],                        {\"template\":{\"data\":{\"histogram2dcontour\":[{\"type\":\"histogram2dcontour\",\"colorbar\":{\"outlinewidth\":0,\"ticks\":\"\"},\"colorscale\":[[0.0,\"#0d0887\"],[0.1111111111111111,\"#46039f\"],[0.2222222222222222,\"#7201a8\"],[0.3333333333333333,\"#9c179e\"],[0.4444444444444444,\"#bd3786\"],[0.5555555555555556,\"#d8576b\"],[0.6666666666666666,\"#ed7953\"],[0.7777777777777778,\"#fb9f3a\"],[0.8888888888888888,\"#fdca26\"],[1.0,\"#f0f921\"]]}],\"choropleth\":[{\"type\":\"choropleth\",\"colorbar\":{\"outlinewidth\":0,\"ticks\":\"\"}}],\"histogram2d\":[{\"type\":\"histogram2d\",\"colorbar\":{\"outlinewidth\":0,\"ticks\":\"\"},\"colorscale\":[[0.0,\"#0d0887\"],[0.1111111111111111,\"#46039f\"],[0.2222222222222222,\"#7201a8\"],[0.3333333333333333,\"#9c179e\"],[0.4444444444444444,\"#bd3786\"],[0.5555555555555556,\"#d8576b\"],[0.6666666666666666,\"#ed7953\"],[0.7777777777777778,\"#fb9f3a\"],[0.8888888888888888,\"#fdca26\"],[1.0,\"#f0f921\"]]}],\"heatmap\":[{\"type\":\"heatmap\",\"colorbar\":{\"outlinewidth\":0,\"ticks\":\"\"},\"colorscale\":[[0.0,\"#0d0887\"],[0.1111111111111111,\"#46039f\"],[0.2222222222222222,\"#7201a8\"],[0.3333333333333333,\"#9c179e\"],[0.4444444444444444,\"#bd3786\"],[0.5555555555555556,\"#d8576b\"],[0.6666666666666666,\"#ed7953\"],[0.7777777777777778,\"#fb9f3a\"],[0.8888888888888888,\"#fdca26\"],[1.0,\"#f0f921\"]]}],\"heatmapgl\":[{\"type\":\"heatmapgl\",\"colorbar\":{\"outlinewidth\":0,\"ticks\":\"\"},\"colorscale\":[[0.0,\"#0d0887\"],[0.1111111111111111,\"#46039f\"],[0.2222222222222222,\"#7201a8\"],[0.3333333333333333,\"#9c179e\"],[0.4444444444444444,\"#bd3786\"],[0.5555555555555556,\"#d8576b\"],[0.6666666666666666,\"#ed7953\"],[0.7777777777777778,\"#fb9f3a\"],[0.8888888888888888,\"#fdca26\"],[1.0,\"#f0f921\"]]}],\"contourcarpet\":[{\"type\":\"contourcarpet\",\"colorbar\":{\"outlinewidth\":0,\"ticks\":\"\"}}],\"contour\":[{\"type\":\"contour\",\"colorbar\":{\"outlinewidth\":0,\"ticks\":\"\"},\"colorscale\":[[0.0,\"#0d0887\"],[0.1111111111111111,\"#46039f\"],[0.2222222222222222,\"#7201a8\"],[0.3333333333333333,\"#9c179e\"],[0.4444444444444444,\"#bd3786\"],[0.5555555555555556,\"#d8576b\"],[0.6666666666666666,\"#ed7953\"],[0.7777777777777778,\"#fb9f3a\"],[0.8888888888888888,\"#fdca26\"],[1.0,\"#f0f921\"]]}],\"surface\":[{\"type\":\"surface\",\"colorbar\":{\"outlinewidth\":0,\"ticks\":\"\"},\"colorscale\":[[0.0,\"#0d0887\"],[0.1111111111111111,\"#46039f\"],[0.2222222222222222,\"#7201a8\"],[0.3333333333333333,\"#9c179e\"],[0.4444444444444444,\"#bd3786\"],[0.5555555555555556,\"#d8576b\"],[0.6666666666666666,\"#ed7953\"],[0.7777777777777778,\"#fb9f3a\"],[0.8888888888888888,\"#fdca26\"],[1.0,\"#f0f921\"]]}],\"mesh3d\":[{\"type\":\"mesh3d\",\"colorbar\":{\"outlinewidth\":0,\"ticks\":\"\"}}],\"scatter\":[{\"fillpattern\":{\"fillmode\":\"overlay\",\"size\":10,\"solidity\":0.2},\"type\":\"scatter\"}],\"parcoords\":[{\"type\":\"parcoords\",\"line\":{\"colorbar\":{\"outlinewidth\":0,\"ticks\":\"\"}}}],\"scatterpolargl\":[{\"type\":\"scatterpolargl\",\"marker\":{\"colorbar\":{\"outlinewidth\":0,\"ticks\":\"\"}}}],\"bar\":[{\"error_x\":{\"color\":\"#2a3f5f\"},\"error_y\":{\"color\":\"#2a3f5f\"},\"marker\":{\"line\":{\"color\":\"#E5ECF6\",\"width\":0.5},\"pattern\":{\"fillmode\":\"overlay\",\"size\":10,\"solidity\":0.2}},\"type\":\"bar\"}],\"scattergeo\":[{\"type\":\"scattergeo\",\"marker\":{\"colorbar\":{\"outlinewidth\":0,\"ticks\":\"\"}}}],\"scatterpolar\":[{\"type\":\"scatterpolar\",\"marker\":{\"colorbar\":{\"outlinewidth\":0,\"ticks\":\"\"}}}],\"histogram\":[{\"marker\":{\"pattern\":{\"fillmode\":\"overlay\",\"size\":10,\"solidity\":0.2}},\"type\":\"histogram\"}],\"scattergl\":[{\"type\":\"scattergl\",\"marker\":{\"colorbar\":{\"outlinewidth\":0,\"ticks\":\"\"}}}],\"scatter3d\":[{\"type\":\"scatter3d\",\"line\":{\"colorbar\":{\"outlinewidth\":0,\"ticks\":\"\"}},\"marker\":{\"colorbar\":{\"outlinewidth\":0,\"ticks\":\"\"}}}],\"scattermapbox\":[{\"type\":\"scattermapbox\",\"marker\":{\"colorbar\":{\"outlinewidth\":0,\"ticks\":\"\"}}}],\"scatterternary\":[{\"type\":\"scatterternary\",\"marker\":{\"colorbar\":{\"outlinewidth\":0,\"ticks\":\"\"}}}],\"scattercarpet\":[{\"type\":\"scattercarpet\",\"marker\":{\"colorbar\":{\"outlinewidth\":0,\"ticks\":\"\"}}}],\"carpet\":[{\"aaxis\":{\"endlinecolor\":\"#2a3f5f\",\"gridcolor\":\"white\",\"linecolor\":\"white\",\"minorgridcolor\":\"white\",\"startlinecolor\":\"#2a3f5f\"},\"baxis\":{\"endlinecolor\":\"#2a3f5f\",\"gridcolor\":\"white\",\"linecolor\":\"white\",\"minorgridcolor\":\"white\",\"startlinecolor\":\"#2a3f5f\"},\"type\":\"carpet\"}],\"table\":[{\"cells\":{\"fill\":{\"color\":\"#EBF0F8\"},\"line\":{\"color\":\"white\"}},\"header\":{\"fill\":{\"color\":\"#C8D4E3\"},\"line\":{\"color\":\"white\"}},\"type\":\"table\"}],\"barpolar\":[{\"marker\":{\"line\":{\"color\":\"#E5ECF6\",\"width\":0.5},\"pattern\":{\"fillmode\":\"overlay\",\"size\":10,\"solidity\":0.2}},\"type\":\"barpolar\"}],\"pie\":[{\"automargin\":true,\"type\":\"pie\"}]},\"layout\":{\"autotypenumbers\":\"strict\",\"colorway\":[\"#636efa\",\"#EF553B\",\"#00cc96\",\"#ab63fa\",\"#FFA15A\",\"#19d3f3\",\"#FF6692\",\"#B6E880\",\"#FF97FF\",\"#FECB52\"],\"font\":{\"color\":\"#2a3f5f\"},\"hovermode\":\"closest\",\"hoverlabel\":{\"align\":\"left\"},\"paper_bgcolor\":\"white\",\"plot_bgcolor\":\"#E5ECF6\",\"polar\":{\"bgcolor\":\"#E5ECF6\",\"angularaxis\":{\"gridcolor\":\"white\",\"linecolor\":\"white\",\"ticks\":\"\"},\"radialaxis\":{\"gridcolor\":\"white\",\"linecolor\":\"white\",\"ticks\":\"\"}},\"ternary\":{\"bgcolor\":\"#E5ECF6\",\"aaxis\":{\"gridcolor\":\"white\",\"linecolor\":\"white\",\"ticks\":\"\"},\"baxis\":{\"gridcolor\":\"white\",\"linecolor\":\"white\",\"ticks\":\"\"},\"caxis\":{\"gridcolor\":\"white\",\"linecolor\":\"white\",\"ticks\":\"\"}},\"coloraxis\":{\"colorbar\":{\"outlinewidth\":0,\"ticks\":\"\"}},\"colorscale\":{\"sequential\":[[0.0,\"#0d0887\"],[0.1111111111111111,\"#46039f\"],[0.2222222222222222,\"#7201a8\"],[0.3333333333333333,\"#9c179e\"],[0.4444444444444444,\"#bd3786\"],[0.5555555555555556,\"#d8576b\"],[0.6666666666666666,\"#ed7953\"],[0.7777777777777778,\"#fb9f3a\"],[0.8888888888888888,\"#fdca26\"],[1.0,\"#f0f921\"]],\"sequentialminus\":[[0.0,\"#0d0887\"],[0.1111111111111111,\"#46039f\"],[0.2222222222222222,\"#7201a8\"],[0.3333333333333333,\"#9c179e\"],[0.4444444444444444,\"#bd3786\"],[0.5555555555555556,\"#d8576b\"],[0.6666666666666666,\"#ed7953\"],[0.7777777777777778,\"#fb9f3a\"],[0.8888888888888888,\"#fdca26\"],[1.0,\"#f0f921\"]],\"diverging\":[[0,\"#8e0152\"],[0.1,\"#c51b7d\"],[0.2,\"#de77ae\"],[0.3,\"#f1b6da\"],[0.4,\"#fde0ef\"],[0.5,\"#f7f7f7\"],[0.6,\"#e6f5d0\"],[0.7,\"#b8e186\"],[0.8,\"#7fbc41\"],[0.9,\"#4d9221\"],[1,\"#276419\"]]},\"xaxis\":{\"gridcolor\":\"white\",\"linecolor\":\"white\",\"ticks\":\"\",\"title\":{\"standoff\":15},\"zerolinecolor\":\"white\",\"automargin\":true,\"zerolinewidth\":2},\"yaxis\":{\"gridcolor\":\"white\",\"linecolor\":\"white\",\"ticks\":\"\",\"title\":{\"standoff\":15},\"zerolinecolor\":\"white\",\"automargin\":true,\"zerolinewidth\":2},\"scene\":{\"xaxis\":{\"backgroundcolor\":\"#E5ECF6\",\"gridcolor\":\"white\",\"linecolor\":\"white\",\"showbackground\":true,\"ticks\":\"\",\"zerolinecolor\":\"white\",\"gridwidth\":2},\"yaxis\":{\"backgroundcolor\":\"#E5ECF6\",\"gridcolor\":\"white\",\"linecolor\":\"white\",\"showbackground\":true,\"ticks\":\"\",\"zerolinecolor\":\"white\",\"gridwidth\":2},\"zaxis\":{\"backgroundcolor\":\"#E5ECF6\",\"gridcolor\":\"white\",\"linecolor\":\"white\",\"showbackground\":true,\"ticks\":\"\",\"zerolinecolor\":\"white\",\"gridwidth\":2}},\"shapedefaults\":{\"line\":{\"color\":\"#2a3f5f\"}},\"annotationdefaults\":{\"arrowcolor\":\"#2a3f5f\",\"arrowhead\":0,\"arrowwidth\":1},\"geo\":{\"bgcolor\":\"white\",\"landcolor\":\"#E5ECF6\",\"subunitcolor\":\"white\",\"showland\":true,\"showlakes\":true,\"lakecolor\":\"white\"},\"title\":{\"x\":0.05},\"mapbox\":{\"style\":\"light\"}}},\"geo\":{\"projection\":{\"type\":\"natural earth\"},\"showframe\":false,\"coastlinecolor\":\"white\",\"showcoastlines\":true},\"title\":{\"text\":\"Mapa de Esperanza de vida\"}},                        {\"responsive\": true}                    ).then(function(){\n",
              "                            \n",
              "var gd = document.getElementById('63f8b11f-3939-4c00-9157-bbf5f9ac5965');\n",
              "var x = new MutationObserver(function (mutations, observer) {{\n",
              "        var display = window.getComputedStyle(gd).display;\n",
              "        if (!display || display === 'none') {{\n",
              "            console.log([gd, 'removed!']);\n",
              "            Plotly.purge(gd);\n",
              "            observer.disconnect();\n",
              "        }}\n",
              "}});\n",
              "\n",
              "// Listen for the removal of the full notebook cells\n",
              "var notebookContainer = gd.closest('#notebook-container');\n",
              "if (notebookContainer) {{\n",
              "    x.observe(notebookContainer, {childList: true});\n",
              "}}\n",
              "\n",
              "// Listen for the clearing of the current output cell\n",
              "var outputEl = gd.closest('.output');\n",
              "if (outputEl) {{\n",
              "    x.observe(outputEl, {childList: true});\n",
              "}}\n",
              "\n",
              "                        })                };                            </script>        </div>\n",
              "</body>\n",
              "</html>"
            ]
          },
          "metadata": {}
        }
      ]
    },
    {
      "cell_type": "markdown",
      "source": [
        "#### PBI per capita - gráfico"
      ],
      "metadata": {
        "id": "yIWqSYL14OFh"
      }
    },
    {
      "cell_type": "code",
      "source": [
        "fig_pbi_per_capita = create_choropleth(df_pbi, 'Paises', 'PBI', 'Mapa de PBI', 'PBI Per Capita',zmax=70000,zmin=2000)\n",
        "fig_pbi_per_capita .data[0].colorscale = 'Magma'\n",
        "fig_pbi_per_capita.show()"
      ],
      "metadata": {
        "colab": {
          "base_uri": "https://localhost:8080/",
          "height": 542
        },
        "id": "yyBmjGdweVO_",
        "outputId": "077a68e0-5179-43f3-8136-d38e0abd8640"
      },
      "execution_count": 119,
      "outputs": [
        {
          "output_type": "display_data",
          "data": {
            "text/html": [
              "<html>\n",
              "<head><meta charset=\"utf-8\" /></head>\n",
              "<body>\n",
              "    <div>            <script src=\"https://cdnjs.cloudflare.com/ajax/libs/mathjax/2.7.5/MathJax.js?config=TeX-AMS-MML_SVG\"></script><script type=\"text/javascript\">if (window.MathJax && window.MathJax.Hub && window.MathJax.Hub.Config) {window.MathJax.Hub.Config({SVG: {font: \"STIX-Web\"}});}</script>                <script type=\"text/javascript\">window.PlotlyConfig = {MathJaxConfig: 'local'};</script>\n",
              "        <script charset=\"utf-8\" src=\"https://cdn.plot.ly/plotly-2.24.1.min.js\"></script>                <div id=\"43e390e6-5b7a-459d-af10-1d4d8444ba65\" class=\"plotly-graph-div\" style=\"height:525px; width:100%;\"></div>            <script type=\"text/javascript\">                                    window.PLOTLYENV=window.PLOTLYENV || {};                                    if (document.getElementById(\"43e390e6-5b7a-459d-af10-1d4d8444ba65\")) {                    Plotly.newPlot(                        \"43e390e6-5b7a-459d-af10-1d4d8444ba65\",                        [{\"colorbar\":{\"title\":{\"text\":\"PBI Per Capita\"}},\"colorscale\":[[0.0,\"#000004\"],[0.1111111111111111,\"#180f3d\"],[0.2222222222222222,\"#440f76\"],[0.3333333333333333,\"#721f81\"],[0.4444444444444444,\"#9e2f7f\"],[0.5555555555555556,\"#cd4071\"],[0.6666666666666666,\"#f1605d\"],[0.7777777777777778,\"#fd9668\"],[0.8888888888888888,\"#feca8d\"],[1.0,\"#fcfdbf\"]],\"locationmode\":\"country names\",\"locations\":[\"Afghanistan\",\"Albania\",\"Algeria\",\"Angola\",\"Antigua and Barbuda\",\"Argentina\",\"Armenia\",\"Australia\",\"Austria\",\"Azerbaijan\",\"Bahrain\",\"Bangladesh\",\"Barbados\",\"Belarus\",\"Belgium\",\"Belize\",\"Benin\",\"Bhutan\",\"Bolivia\",\"Bosnia and Herzegovina\",\"Botswana\",\"Brazil\",\"Brunei\",\"Bulgaria\",\"Burkina Faso\",\"Burundi\",\"Cambodia\",\"Cameroon\",\"Canada\",\"Cape Verde\",\"Central African Republic\",\"Chad\",\"Chile\",\"China\",\"Colombia\",\"Comoros\",\"Costa Rica\",\"Croatia\",\"Cuba\",\"Cyprus\",\"Czech Republic\",\"Democratic Republic of the Congo\",\"Denmark\",\"Djibouti\",\"Dominica\",\"Dominican Republic\",\"East Timor\",\"Ecuador\",\"Egypt\",\"El Salvador\",\"Equatorial Guinea\",\"Eritrea\",\"Estonia\",\"Eswatini\",\"Ethiopia\",\"Fiji\",\"Finland\",\"France\",\"Gabon\",\"Georgia\",\"Germany\",\"Ghana\",\"Greece\",\"Greenland\",\"Grenada\",\"Guatemala\",\"Guinea\",\"Guinea\",\"Guyana\",\"Haiti\",\"Honduras\",\"Hong Kong\",\"Hungary\",\"Iceland\",\"India\",\"Indonesia\",\"Iran\",\"Iraq\",\"Ireland\",\"Israel\",\"Italy\",\"Ivory Coast\",\"Jamaica\",\"Japan\",\"Jordan\",\"Kazakhstan\",\"Kenya\",\"Kiribati\",\"Kuwait\",\"Kyrgyzstan\",\"Laos\",\"Latvia\",\"Lebanon\",\"Lesotho\",\"Liberia\",\"Libya\",\"Lithuania\",\"Luxembourg\",\"Macau\",\"Madagascar\",\"Malawi\",\"Malaysia\",\"Maldives\",\"Mali\",\"Malta\",\"Marshall Islands\",\"Mauritania\",\"Mauritius\",\"Mexico\",\"Micronesia\",\"Moldova\",\"Mongolia\",\"Montenegro\",\"Morocco\",\"Mozambique\",\"Myanmar\",\"Namibia\",\"Nauru\",\"Nepal\",\"Netherlands\",\"New Zealand\",\"Nicaragua\",\"Niger\",\"Nigeria\",\"North Macedonia\",\"Norway\",\"Oman\",\"Pakistan\",\"Palau\",\"Panama\",\"Papua New Guinea\",\"Paraguay\",\"Peru\",\"Philippines\",\"Poland\",\"Portugal\",\"Puerto Rico\",\"Republic of the Congo\",\"Romania\",\"Russia\",\"Rwanda\",\"Saint Kitts and Nevis\",\"Saint Lucia\",\"Saint Vincent and the Grenadines\",\"Samoa\",\"San Marino\",\"Saudi Arabia\",\"Senegal\",\"Serbia\",\"Seychelles\",\"Sierra Leone\",\"Singapore\",\"Slovakia\",\"Slovenia\",\"Solomon Islands\",\"Somalia\",\"South Africa\",\"South Korea\",\"South Sudan\",\"Spain\",\"Sri Lanka\",\"Sudan\",\"Suriname\",\"Sweden\",\"Switzerland\",\"Taiwan\",\"Tajikistan\",\"Tanzania\",\"Thailand\",\"The Bahamas\",\"The Gambia\",\"Togo\",\"Tonga\",\"Trinidad and Tobago\",\"Tunisia\",\"Turkey\",\"Turkmenistan\",\"Tuvalu\",\"Uganda\",\"Ukraine\",\"United Arab Emirates\",\"United Kingdom\",\"United States\",\"Uruguay\",\"Uzbekistan\",\"Vanuatu\",\"Venezuela\",\"Vietnam\",\"Yemen\",\"Zambia\",\"Zimbabwe\"],\"z\":[2182.0,14866.0,16091.0,6763.0,30593.0,19971.0,11845.0,54799.0,55171.0,19156.0,51991.0,5453.0,19364.0,21224.0,50904.0,8791.0,3648.0,10627.0,8525.0,14894.0,19388.0,17106.0,85011.0,26034.0,2181.0,724.0,5004.0,4099.0,52144.0,8716.0,864.0,2603.0,27150.0,20984.0,16265.0,2898.0,18651.0,29207.0,8822.0,42956.0,40585.0,873.0,55675.0,5855.0,12851.0,20625.0,5321.0,11866.0,14800.0,8593.0,19961.0,1103.0,37606.0,11139.0,2702.0,12689.0,49548.0,48640.0,19839.0,13200.0,55306.0,7343.0,31616.0,48182.0,17434.0,9009.0,2574.0,2113.0,17163.0,1916.0,5600.0,66527.0,35941.0,56974.0,9027.0,14841.0,17832.0,18755.0,86988.0,40337.0,41582.0,4754.0,9932.0,46827.0,9939.0,30178.0,4078.0,2193.0,67891.0,4193.0,8684.0,32987.0,15599.0,3655.0,1428.0,9446.0,38751.0,112045.0,113352.0,1776.0,1292.0,34567.0,24796.0,2569.0,49589.0,3972.0,5158.0,26461.0,21363.0,3657.0,8161.0,15089.0,21977.0,9667.0,1372.0,7220.0,11451.0,9073.0,3550.0,60299.0,42045.0,5297.0,1152.0,6172.0,17378.0,79638.0,48593.0,6016.0,16855.0,28456.0,4081.0,13213.0,15399.0,10094.0,35651.0,34936.0,41198.0,7336.0,29555.0,30820.0,2642.0,31950.0,15159.0,12983.0,6493.0,62913.0,56912.0,4079.0,19767.0,33118.0,1765.0,105689.0,38321.0,40344.0,2363.0,314.5,13965.0,46452.0,1715.0,43007.0,14509.0,3986.0,16044.0,55989.0,67558.0,57214.0,3751.0,3652.0,21361.0,33432.0,2892.0,1913.0,6867.0,33713.0,13093.0,29327.0,21855.0,4535.0,2753.0,10130.0,70441.0,48169.0,67426.0,24516.0,9595.0,3039.0,16055.0,8677.0,2312.0,4174.0,2778.0],\"type\":\"choropleth\",\"zmin\":2000,\"zmax\":70000}],                        {\"template\":{\"data\":{\"histogram2dcontour\":[{\"type\":\"histogram2dcontour\",\"colorbar\":{\"outlinewidth\":0,\"ticks\":\"\"},\"colorscale\":[[0.0,\"#0d0887\"],[0.1111111111111111,\"#46039f\"],[0.2222222222222222,\"#7201a8\"],[0.3333333333333333,\"#9c179e\"],[0.4444444444444444,\"#bd3786\"],[0.5555555555555556,\"#d8576b\"],[0.6666666666666666,\"#ed7953\"],[0.7777777777777778,\"#fb9f3a\"],[0.8888888888888888,\"#fdca26\"],[1.0,\"#f0f921\"]]}],\"choropleth\":[{\"type\":\"choropleth\",\"colorbar\":{\"outlinewidth\":0,\"ticks\":\"\"}}],\"histogram2d\":[{\"type\":\"histogram2d\",\"colorbar\":{\"outlinewidth\":0,\"ticks\":\"\"},\"colorscale\":[[0.0,\"#0d0887\"],[0.1111111111111111,\"#46039f\"],[0.2222222222222222,\"#7201a8\"],[0.3333333333333333,\"#9c179e\"],[0.4444444444444444,\"#bd3786\"],[0.5555555555555556,\"#d8576b\"],[0.6666666666666666,\"#ed7953\"],[0.7777777777777778,\"#fb9f3a\"],[0.8888888888888888,\"#fdca26\"],[1.0,\"#f0f921\"]]}],\"heatmap\":[{\"type\":\"heatmap\",\"colorbar\":{\"outlinewidth\":0,\"ticks\":\"\"},\"colorscale\":[[0.0,\"#0d0887\"],[0.1111111111111111,\"#46039f\"],[0.2222222222222222,\"#7201a8\"],[0.3333333333333333,\"#9c179e\"],[0.4444444444444444,\"#bd3786\"],[0.5555555555555556,\"#d8576b\"],[0.6666666666666666,\"#ed7953\"],[0.7777777777777778,\"#fb9f3a\"],[0.8888888888888888,\"#fdca26\"],[1.0,\"#f0f921\"]]}],\"heatmapgl\":[{\"type\":\"heatmapgl\",\"colorbar\":{\"outlinewidth\":0,\"ticks\":\"\"},\"colorscale\":[[0.0,\"#0d0887\"],[0.1111111111111111,\"#46039f\"],[0.2222222222222222,\"#7201a8\"],[0.3333333333333333,\"#9c179e\"],[0.4444444444444444,\"#bd3786\"],[0.5555555555555556,\"#d8576b\"],[0.6666666666666666,\"#ed7953\"],[0.7777777777777778,\"#fb9f3a\"],[0.8888888888888888,\"#fdca26\"],[1.0,\"#f0f921\"]]}],\"contourcarpet\":[{\"type\":\"contourcarpet\",\"colorbar\":{\"outlinewidth\":0,\"ticks\":\"\"}}],\"contour\":[{\"type\":\"contour\",\"colorbar\":{\"outlinewidth\":0,\"ticks\":\"\"},\"colorscale\":[[0.0,\"#0d0887\"],[0.1111111111111111,\"#46039f\"],[0.2222222222222222,\"#7201a8\"],[0.3333333333333333,\"#9c179e\"],[0.4444444444444444,\"#bd3786\"],[0.5555555555555556,\"#d8576b\"],[0.6666666666666666,\"#ed7953\"],[0.7777777777777778,\"#fb9f3a\"],[0.8888888888888888,\"#fdca26\"],[1.0,\"#f0f921\"]]}],\"surface\":[{\"type\":\"surface\",\"colorbar\":{\"outlinewidth\":0,\"ticks\":\"\"},\"colorscale\":[[0.0,\"#0d0887\"],[0.1111111111111111,\"#46039f\"],[0.2222222222222222,\"#7201a8\"],[0.3333333333333333,\"#9c179e\"],[0.4444444444444444,\"#bd3786\"],[0.5555555555555556,\"#d8576b\"],[0.6666666666666666,\"#ed7953\"],[0.7777777777777778,\"#fb9f3a\"],[0.8888888888888888,\"#fdca26\"],[1.0,\"#f0f921\"]]}],\"mesh3d\":[{\"type\":\"mesh3d\",\"colorbar\":{\"outlinewidth\":0,\"ticks\":\"\"}}],\"scatter\":[{\"fillpattern\":{\"fillmode\":\"overlay\",\"size\":10,\"solidity\":0.2},\"type\":\"scatter\"}],\"parcoords\":[{\"type\":\"parcoords\",\"line\":{\"colorbar\":{\"outlinewidth\":0,\"ticks\":\"\"}}}],\"scatterpolargl\":[{\"type\":\"scatterpolargl\",\"marker\":{\"colorbar\":{\"outlinewidth\":0,\"ticks\":\"\"}}}],\"bar\":[{\"error_x\":{\"color\":\"#2a3f5f\"},\"error_y\":{\"color\":\"#2a3f5f\"},\"marker\":{\"line\":{\"color\":\"#E5ECF6\",\"width\":0.5},\"pattern\":{\"fillmode\":\"overlay\",\"size\":10,\"solidity\":0.2}},\"type\":\"bar\"}],\"scattergeo\":[{\"type\":\"scattergeo\",\"marker\":{\"colorbar\":{\"outlinewidth\":0,\"ticks\":\"\"}}}],\"scatterpolar\":[{\"type\":\"scatterpolar\",\"marker\":{\"colorbar\":{\"outlinewidth\":0,\"ticks\":\"\"}}}],\"histogram\":[{\"marker\":{\"pattern\":{\"fillmode\":\"overlay\",\"size\":10,\"solidity\":0.2}},\"type\":\"histogram\"}],\"scattergl\":[{\"type\":\"scattergl\",\"marker\":{\"colorbar\":{\"outlinewidth\":0,\"ticks\":\"\"}}}],\"scatter3d\":[{\"type\":\"scatter3d\",\"line\":{\"colorbar\":{\"outlinewidth\":0,\"ticks\":\"\"}},\"marker\":{\"colorbar\":{\"outlinewidth\":0,\"ticks\":\"\"}}}],\"scattermapbox\":[{\"type\":\"scattermapbox\",\"marker\":{\"colorbar\":{\"outlinewidth\":0,\"ticks\":\"\"}}}],\"scatterternary\":[{\"type\":\"scatterternary\",\"marker\":{\"colorbar\":{\"outlinewidth\":0,\"ticks\":\"\"}}}],\"scattercarpet\":[{\"type\":\"scattercarpet\",\"marker\":{\"colorbar\":{\"outlinewidth\":0,\"ticks\":\"\"}}}],\"carpet\":[{\"aaxis\":{\"endlinecolor\":\"#2a3f5f\",\"gridcolor\":\"white\",\"linecolor\":\"white\",\"minorgridcolor\":\"white\",\"startlinecolor\":\"#2a3f5f\"},\"baxis\":{\"endlinecolor\":\"#2a3f5f\",\"gridcolor\":\"white\",\"linecolor\":\"white\",\"minorgridcolor\":\"white\",\"startlinecolor\":\"#2a3f5f\"},\"type\":\"carpet\"}],\"table\":[{\"cells\":{\"fill\":{\"color\":\"#EBF0F8\"},\"line\":{\"color\":\"white\"}},\"header\":{\"fill\":{\"color\":\"#C8D4E3\"},\"line\":{\"color\":\"white\"}},\"type\":\"table\"}],\"barpolar\":[{\"marker\":{\"line\":{\"color\":\"#E5ECF6\",\"width\":0.5},\"pattern\":{\"fillmode\":\"overlay\",\"size\":10,\"solidity\":0.2}},\"type\":\"barpolar\"}],\"pie\":[{\"automargin\":true,\"type\":\"pie\"}]},\"layout\":{\"autotypenumbers\":\"strict\",\"colorway\":[\"#636efa\",\"#EF553B\",\"#00cc96\",\"#ab63fa\",\"#FFA15A\",\"#19d3f3\",\"#FF6692\",\"#B6E880\",\"#FF97FF\",\"#FECB52\"],\"font\":{\"color\":\"#2a3f5f\"},\"hovermode\":\"closest\",\"hoverlabel\":{\"align\":\"left\"},\"paper_bgcolor\":\"white\",\"plot_bgcolor\":\"#E5ECF6\",\"polar\":{\"bgcolor\":\"#E5ECF6\",\"angularaxis\":{\"gridcolor\":\"white\",\"linecolor\":\"white\",\"ticks\":\"\"},\"radialaxis\":{\"gridcolor\":\"white\",\"linecolor\":\"white\",\"ticks\":\"\"}},\"ternary\":{\"bgcolor\":\"#E5ECF6\",\"aaxis\":{\"gridcolor\":\"white\",\"linecolor\":\"white\",\"ticks\":\"\"},\"baxis\":{\"gridcolor\":\"white\",\"linecolor\":\"white\",\"ticks\":\"\"},\"caxis\":{\"gridcolor\":\"white\",\"linecolor\":\"white\",\"ticks\":\"\"}},\"coloraxis\":{\"colorbar\":{\"outlinewidth\":0,\"ticks\":\"\"}},\"colorscale\":{\"sequential\":[[0.0,\"#0d0887\"],[0.1111111111111111,\"#46039f\"],[0.2222222222222222,\"#7201a8\"],[0.3333333333333333,\"#9c179e\"],[0.4444444444444444,\"#bd3786\"],[0.5555555555555556,\"#d8576b\"],[0.6666666666666666,\"#ed7953\"],[0.7777777777777778,\"#fb9f3a\"],[0.8888888888888888,\"#fdca26\"],[1.0,\"#f0f921\"]],\"sequentialminus\":[[0.0,\"#0d0887\"],[0.1111111111111111,\"#46039f\"],[0.2222222222222222,\"#7201a8\"],[0.3333333333333333,\"#9c179e\"],[0.4444444444444444,\"#bd3786\"],[0.5555555555555556,\"#d8576b\"],[0.6666666666666666,\"#ed7953\"],[0.7777777777777778,\"#fb9f3a\"],[0.8888888888888888,\"#fdca26\"],[1.0,\"#f0f921\"]],\"diverging\":[[0,\"#8e0152\"],[0.1,\"#c51b7d\"],[0.2,\"#de77ae\"],[0.3,\"#f1b6da\"],[0.4,\"#fde0ef\"],[0.5,\"#f7f7f7\"],[0.6,\"#e6f5d0\"],[0.7,\"#b8e186\"],[0.8,\"#7fbc41\"],[0.9,\"#4d9221\"],[1,\"#276419\"]]},\"xaxis\":{\"gridcolor\":\"white\",\"linecolor\":\"white\",\"ticks\":\"\",\"title\":{\"standoff\":15},\"zerolinecolor\":\"white\",\"automargin\":true,\"zerolinewidth\":2},\"yaxis\":{\"gridcolor\":\"white\",\"linecolor\":\"white\",\"ticks\":\"\",\"title\":{\"standoff\":15},\"zerolinecolor\":\"white\",\"automargin\":true,\"zerolinewidth\":2},\"scene\":{\"xaxis\":{\"backgroundcolor\":\"#E5ECF6\",\"gridcolor\":\"white\",\"linecolor\":\"white\",\"showbackground\":true,\"ticks\":\"\",\"zerolinecolor\":\"white\",\"gridwidth\":2},\"yaxis\":{\"backgroundcolor\":\"#E5ECF6\",\"gridcolor\":\"white\",\"linecolor\":\"white\",\"showbackground\":true,\"ticks\":\"\",\"zerolinecolor\":\"white\",\"gridwidth\":2},\"zaxis\":{\"backgroundcolor\":\"#E5ECF6\",\"gridcolor\":\"white\",\"linecolor\":\"white\",\"showbackground\":true,\"ticks\":\"\",\"zerolinecolor\":\"white\",\"gridwidth\":2}},\"shapedefaults\":{\"line\":{\"color\":\"#2a3f5f\"}},\"annotationdefaults\":{\"arrowcolor\":\"#2a3f5f\",\"arrowhead\":0,\"arrowwidth\":1},\"geo\":{\"bgcolor\":\"white\",\"landcolor\":\"#E5ECF6\",\"subunitcolor\":\"white\",\"showland\":true,\"showlakes\":true,\"lakecolor\":\"white\"},\"title\":{\"x\":0.05},\"mapbox\":{\"style\":\"light\"}}},\"geo\":{\"projection\":{\"type\":\"natural earth\"},\"showframe\":false,\"coastlinecolor\":\"white\",\"showcoastlines\":true},\"title\":{\"text\":\"Mapa de PBI\"}},                        {\"responsive\": true}                    ).then(function(){\n",
              "                            \n",
              "var gd = document.getElementById('43e390e6-5b7a-459d-af10-1d4d8444ba65');\n",
              "var x = new MutationObserver(function (mutations, observer) {{\n",
              "        var display = window.getComputedStyle(gd).display;\n",
              "        if (!display || display === 'none') {{\n",
              "            console.log([gd, 'removed!']);\n",
              "            Plotly.purge(gd);\n",
              "            observer.disconnect();\n",
              "        }}\n",
              "}});\n",
              "\n",
              "// Listen for the removal of the full notebook cells\n",
              "var notebookContainer = gd.closest('#notebook-container');\n",
              "if (notebookContainer) {{\n",
              "    x.observe(notebookContainer, {childList: true});\n",
              "}}\n",
              "\n",
              "// Listen for the clearing of the current output cell\n",
              "var outputEl = gd.closest('.output');\n",
              "if (outputEl) {{\n",
              "    x.observe(outputEl, {childList: true});\n",
              "}}\n",
              "\n",
              "                        })                };                            </script>        </div>\n",
              "</body>\n",
              "</html>"
            ]
          },
          "metadata": {}
        }
      ]
    },
    {
      "cell_type": "markdown",
      "source": [
        "#### Ratio de suicidios - gráfico"
      ],
      "metadata": {
        "id": "N-u0fprd4TlT"
      }
    },
    {
      "cell_type": "code",
      "source": [
        "fig_suicidios = create_choropleth(df_s, 'Paises', 'Ratio de suicidios', 'Mapa de Ratio de Suicidios', 'Suicidios c/100k Habitantes')\n",
        "fig_suicidios.data[0].colorscale = 'YlGnBu'\n",
        "fig_suicidios.show()"
      ],
      "metadata": {
        "colab": {
          "base_uri": "https://localhost:8080/",
          "height": 542
        },
        "id": "85E0arzfqMdj",
        "outputId": "b765514d-50a3-4eaf-c9cd-da9c329b8678"
      },
      "execution_count": 120,
      "outputs": [
        {
          "output_type": "display_data",
          "data": {
            "text/html": [
              "<html>\n",
              "<head><meta charset=\"utf-8\" /></head>\n",
              "<body>\n",
              "    <div>            <script src=\"https://cdnjs.cloudflare.com/ajax/libs/mathjax/2.7.5/MathJax.js?config=TeX-AMS-MML_SVG\"></script><script type=\"text/javascript\">if (window.MathJax && window.MathJax.Hub && window.MathJax.Hub.Config) {window.MathJax.Hub.Config({SVG: {font: \"STIX-Web\"}});}</script>                <script type=\"text/javascript\">window.PlotlyConfig = {MathJaxConfig: 'local'};</script>\n",
              "        <script charset=\"utf-8\" src=\"https://cdn.plot.ly/plotly-2.24.1.min.js\"></script>                <div id=\"c21d5693-9f14-4199-a3ca-025bc950a746\" class=\"plotly-graph-div\" style=\"height:525px; width:100%;\"></div>            <script type=\"text/javascript\">                                    window.PLOTLYENV=window.PLOTLYENV || {};                                    if (document.getElementById(\"c21d5693-9f14-4199-a3ca-025bc950a746\")) {                    Plotly.newPlot(                        \"c21d5693-9f14-4199-a3ca-025bc950a746\",                        [{\"colorbar\":{\"title\":{\"text\":\"Suicidios c\\u002f100k Habitantes\"}},\"colorscale\":[[0.0,\"rgb(255,255,217)\"],[0.125,\"rgb(237,248,177)\"],[0.25,\"rgb(199,233,180)\"],[0.375,\"rgb(127,205,187)\"],[0.5,\"rgb(65,182,196)\"],[0.625,\"rgb(29,145,192)\"],[0.75,\"rgb(34,94,168)\"],[0.875,\"rgb(37,52,148)\"],[1.0,\"rgb(8,29,88)\"]],\"locationmode\":\"country names\",\"locations\":[\"Afghanistan\",\"Albania\",\"Algeria\",\"Angola\",\"Antigua and Barbuda\",\"Argentina\",\"Armenia\",\"Australia\",\"Austria\",\"Azerbaijan\",\"Bahrain\",\"Bangladesh\",\"Barbados\",\"Belarus\",\"Belgium\",\"Belize\",\"Benin\",\"Bhutan\",\"Bolivia\",\"Bosnia and Herzegovina\",\"Botswana\",\"Brazil\",\"Brunei\",\"Bulgaria\",\"Burkina Faso\",\"Burundi\",\"Cambodia\",\"Cameroon\",\"Canada\",\"Cape Verde\",\"Central African Republic\",\"Chad\",\"Chile\",\"China\",\"Colombia\",\"Comoros\",\"Costa Rica\",\"Croatia\",\"Cuba\",\"Cyprus\",\"Czech Republic\",\"Democratic Republic of the Congo\",\"Denmark\",\"Djibouti\",\"Dominican Republic\",\"East Timor\",\"Ecuador\",\"Egypt\",\"El Salvador\",\"Equatorial Guinea\",\"Eritrea\",\"Estonia\",\"Eswatini\",\"Ethiopia\",\"Fiji\",\"Finland\",\"France\",\"Gabon\",\"Georgia\",\"Germany\",\"Ghana\",\"Greece\",\"Greenland\",\"Grenada\",\"Guatemala\",\"Guinea\",\"Guinea\",\"Guyana\",\"Haiti\",\"Honduras\",\"Hungary\",\"Iceland\",\"India\",\"Indonesia\",\"Iran\",\"Iraq\",\"Ireland\",\"Israel\",\"Italy\",\"Ivory Coast\",\"Jamaica\",\"Japan\",\"Jordan\",\"Kazakhstan\",\"Kenya\",\"Kiribati\",\"Kuwait\",\"Kyrgyzstan\",\"Laos\",\"Latvia\",\"Lebanon\",\"Lesotho\",\"Liberia\",\"Libya\",\"Lithuania\",\"Luxembourg\",\"Madagascar\",\"Malawi\",\"Malaysia\",\"Maldives\",\"Mali\",\"Malta\",\"Mauritania\",\"Mauritius\",\"Mexico\",\"Moldova\",\"Mongolia\",\"Montenegro\",\"Morocco\",\"Mozambique\",\"Myanmar\",\"Namibia\",\"Nepal\",\"Netherlands\",\"New Zealand\",\"Nicaragua\",\"Niger\",\"Nigeria\",\"North Korea\",\"North Macedonia\",\"Norway\",\"Oman\",\"Pakistan\",\"Panama\",\"Papua New Guinea\",\"Paraguay\",\"Peru\",\"Philippines\",\"Poland\",\"Portugal\",\"Qatar\",\"Republic of the Congo\",\"Romania\",\"Russia\",\"Rwanda\",\"Saint Lucia\",\"Saint Vincent and the Grenadines\",\"Samoa\",\"Saudi Arabia\",\"Senegal\",\"Serbia\",\"Seychelles\",\"Sierra Leone\",\"Singapore\",\"Slovakia\",\"Slovenia\",\"Solomon Islands\",\"Somalia\",\"South Africa\",\"South Korea\",\"South Sudan\",\"Spain\",\"Sri Lanka\",\"Sudan\",\"Suriname\",\"Sweden\",\"Switzerland\",\"Syria\",\"Tajikistan\",\"Tanzania\",\"Thailand\",\"The Bahamas\",\"The Gambia\",\"Togo\",\"Tonga\",\"Trinidad and Tobago\",\"Tunisia\",\"Turkey\",\"Turkmenistan\",\"Uganda\",\"Ukraine\",\"United Arab Emirates\",\"United Kingdom\",\"United States\",\"Uruguay\",\"Uzbekistan\",\"Vanuatu\",\"Venezuela\",\"Vietnam\",\"Yemen\",\"Zambia\",\"Zimbabwe\"],\"z\":[6.4,5.6,3.3,8.9,0.5,9.1,5.7,11.7,11.4,2.6,5.7,6.1,0.4,21.4,15.7,5.9,15.7,11.6,12.9,6.4,11.5,6.1,4.5,7.9,14.8,15.0,5.9,19.5,10.4,15.1,11.6,15.5,9.7,8.0,7.0,11.1,7.5,11.5,10.1,4.5,10.5,9.7,9.2,8.5,10.5,6.4,7.2,4.4,13.5,22.0,13.8,14.4,16.7,11.4,5.5,11.7,12.1,9.6,6.7,9.1,8.7,3.8,11.3,1.7,2.9,10.5,7.4,30.2,12.2,3.4,13.6,13.3,16.5,3.7,4.0,4.1,10.9,5.2,5.5,23.0,2.0,14.3,3.7,22.8,5.6,15.2,2.2,9.1,9.3,17.2,3.2,28.9,13.4,5.5,25.7,10.4,6.9,7.8,6.2,2.7,8.9,6.5,7.5,7.3,5.2,13.4,13.3,7.9,3.1,8.4,8.1,11.5,9.6,9.6,11.6,11.9,9.0,17.3,10.6,6.2,10.1,3.5,3.1,4.4,7.0,9.3,5.1,3.7,13.4,8.6,5.8,9.3,8.0,26.5,11.0,7.3,2.4,5.4,3.4,11.8,10.9,8.3,16.1,7.9,10.1,13.3,5.9,8.3,12.8,20.2,6.1,6.1,14.2,9.5,23.2,13.8,11.3,2.4,3.3,9.6,12.9,1.6,10.0,16.6,4.0,12.9,3.2,7.2,7.2,20.0,18.5,2.7,7.6,13.7,16.5,7.4,5.4,3.8,7.0,9.8,11.3,19.1],\"type\":\"choropleth\"}],                        {\"template\":{\"data\":{\"histogram2dcontour\":[{\"type\":\"histogram2dcontour\",\"colorbar\":{\"outlinewidth\":0,\"ticks\":\"\"},\"colorscale\":[[0.0,\"#0d0887\"],[0.1111111111111111,\"#46039f\"],[0.2222222222222222,\"#7201a8\"],[0.3333333333333333,\"#9c179e\"],[0.4444444444444444,\"#bd3786\"],[0.5555555555555556,\"#d8576b\"],[0.6666666666666666,\"#ed7953\"],[0.7777777777777778,\"#fb9f3a\"],[0.8888888888888888,\"#fdca26\"],[1.0,\"#f0f921\"]]}],\"choropleth\":[{\"type\":\"choropleth\",\"colorbar\":{\"outlinewidth\":0,\"ticks\":\"\"}}],\"histogram2d\":[{\"type\":\"histogram2d\",\"colorbar\":{\"outlinewidth\":0,\"ticks\":\"\"},\"colorscale\":[[0.0,\"#0d0887\"],[0.1111111111111111,\"#46039f\"],[0.2222222222222222,\"#7201a8\"],[0.3333333333333333,\"#9c179e\"],[0.4444444444444444,\"#bd3786\"],[0.5555555555555556,\"#d8576b\"],[0.6666666666666666,\"#ed7953\"],[0.7777777777777778,\"#fb9f3a\"],[0.8888888888888888,\"#fdca26\"],[1.0,\"#f0f921\"]]}],\"heatmap\":[{\"type\":\"heatmap\",\"colorbar\":{\"outlinewidth\":0,\"ticks\":\"\"},\"colorscale\":[[0.0,\"#0d0887\"],[0.1111111111111111,\"#46039f\"],[0.2222222222222222,\"#7201a8\"],[0.3333333333333333,\"#9c179e\"],[0.4444444444444444,\"#bd3786\"],[0.5555555555555556,\"#d8576b\"],[0.6666666666666666,\"#ed7953\"],[0.7777777777777778,\"#fb9f3a\"],[0.8888888888888888,\"#fdca26\"],[1.0,\"#f0f921\"]]}],\"heatmapgl\":[{\"type\":\"heatmapgl\",\"colorbar\":{\"outlinewidth\":0,\"ticks\":\"\"},\"colorscale\":[[0.0,\"#0d0887\"],[0.1111111111111111,\"#46039f\"],[0.2222222222222222,\"#7201a8\"],[0.3333333333333333,\"#9c179e\"],[0.4444444444444444,\"#bd3786\"],[0.5555555555555556,\"#d8576b\"],[0.6666666666666666,\"#ed7953\"],[0.7777777777777778,\"#fb9f3a\"],[0.8888888888888888,\"#fdca26\"],[1.0,\"#f0f921\"]]}],\"contourcarpet\":[{\"type\":\"contourcarpet\",\"colorbar\":{\"outlinewidth\":0,\"ticks\":\"\"}}],\"contour\":[{\"type\":\"contour\",\"colorbar\":{\"outlinewidth\":0,\"ticks\":\"\"},\"colorscale\":[[0.0,\"#0d0887\"],[0.1111111111111111,\"#46039f\"],[0.2222222222222222,\"#7201a8\"],[0.3333333333333333,\"#9c179e\"],[0.4444444444444444,\"#bd3786\"],[0.5555555555555556,\"#d8576b\"],[0.6666666666666666,\"#ed7953\"],[0.7777777777777778,\"#fb9f3a\"],[0.8888888888888888,\"#fdca26\"],[1.0,\"#f0f921\"]]}],\"surface\":[{\"type\":\"surface\",\"colorbar\":{\"outlinewidth\":0,\"ticks\":\"\"},\"colorscale\":[[0.0,\"#0d0887\"],[0.1111111111111111,\"#46039f\"],[0.2222222222222222,\"#7201a8\"],[0.3333333333333333,\"#9c179e\"],[0.4444444444444444,\"#bd3786\"],[0.5555555555555556,\"#d8576b\"],[0.6666666666666666,\"#ed7953\"],[0.7777777777777778,\"#fb9f3a\"],[0.8888888888888888,\"#fdca26\"],[1.0,\"#f0f921\"]]}],\"mesh3d\":[{\"type\":\"mesh3d\",\"colorbar\":{\"outlinewidth\":0,\"ticks\":\"\"}}],\"scatter\":[{\"fillpattern\":{\"fillmode\":\"overlay\",\"size\":10,\"solidity\":0.2},\"type\":\"scatter\"}],\"parcoords\":[{\"type\":\"parcoords\",\"line\":{\"colorbar\":{\"outlinewidth\":0,\"ticks\":\"\"}}}],\"scatterpolargl\":[{\"type\":\"scatterpolargl\",\"marker\":{\"colorbar\":{\"outlinewidth\":0,\"ticks\":\"\"}}}],\"bar\":[{\"error_x\":{\"color\":\"#2a3f5f\"},\"error_y\":{\"color\":\"#2a3f5f\"},\"marker\":{\"line\":{\"color\":\"#E5ECF6\",\"width\":0.5},\"pattern\":{\"fillmode\":\"overlay\",\"size\":10,\"solidity\":0.2}},\"type\":\"bar\"}],\"scattergeo\":[{\"type\":\"scattergeo\",\"marker\":{\"colorbar\":{\"outlinewidth\":0,\"ticks\":\"\"}}}],\"scatterpolar\":[{\"type\":\"scatterpolar\",\"marker\":{\"colorbar\":{\"outlinewidth\":0,\"ticks\":\"\"}}}],\"histogram\":[{\"marker\":{\"pattern\":{\"fillmode\":\"overlay\",\"size\":10,\"solidity\":0.2}},\"type\":\"histogram\"}],\"scattergl\":[{\"type\":\"scattergl\",\"marker\":{\"colorbar\":{\"outlinewidth\":0,\"ticks\":\"\"}}}],\"scatter3d\":[{\"type\":\"scatter3d\",\"line\":{\"colorbar\":{\"outlinewidth\":0,\"ticks\":\"\"}},\"marker\":{\"colorbar\":{\"outlinewidth\":0,\"ticks\":\"\"}}}],\"scattermapbox\":[{\"type\":\"scattermapbox\",\"marker\":{\"colorbar\":{\"outlinewidth\":0,\"ticks\":\"\"}}}],\"scatterternary\":[{\"type\":\"scatterternary\",\"marker\":{\"colorbar\":{\"outlinewidth\":0,\"ticks\":\"\"}}}],\"scattercarpet\":[{\"type\":\"scattercarpet\",\"marker\":{\"colorbar\":{\"outlinewidth\":0,\"ticks\":\"\"}}}],\"carpet\":[{\"aaxis\":{\"endlinecolor\":\"#2a3f5f\",\"gridcolor\":\"white\",\"linecolor\":\"white\",\"minorgridcolor\":\"white\",\"startlinecolor\":\"#2a3f5f\"},\"baxis\":{\"endlinecolor\":\"#2a3f5f\",\"gridcolor\":\"white\",\"linecolor\":\"white\",\"minorgridcolor\":\"white\",\"startlinecolor\":\"#2a3f5f\"},\"type\":\"carpet\"}],\"table\":[{\"cells\":{\"fill\":{\"color\":\"#EBF0F8\"},\"line\":{\"color\":\"white\"}},\"header\":{\"fill\":{\"color\":\"#C8D4E3\"},\"line\":{\"color\":\"white\"}},\"type\":\"table\"}],\"barpolar\":[{\"marker\":{\"line\":{\"color\":\"#E5ECF6\",\"width\":0.5},\"pattern\":{\"fillmode\":\"overlay\",\"size\":10,\"solidity\":0.2}},\"type\":\"barpolar\"}],\"pie\":[{\"automargin\":true,\"type\":\"pie\"}]},\"layout\":{\"autotypenumbers\":\"strict\",\"colorway\":[\"#636efa\",\"#EF553B\",\"#00cc96\",\"#ab63fa\",\"#FFA15A\",\"#19d3f3\",\"#FF6692\",\"#B6E880\",\"#FF97FF\",\"#FECB52\"],\"font\":{\"color\":\"#2a3f5f\"},\"hovermode\":\"closest\",\"hoverlabel\":{\"align\":\"left\"},\"paper_bgcolor\":\"white\",\"plot_bgcolor\":\"#E5ECF6\",\"polar\":{\"bgcolor\":\"#E5ECF6\",\"angularaxis\":{\"gridcolor\":\"white\",\"linecolor\":\"white\",\"ticks\":\"\"},\"radialaxis\":{\"gridcolor\":\"white\",\"linecolor\":\"white\",\"ticks\":\"\"}},\"ternary\":{\"bgcolor\":\"#E5ECF6\",\"aaxis\":{\"gridcolor\":\"white\",\"linecolor\":\"white\",\"ticks\":\"\"},\"baxis\":{\"gridcolor\":\"white\",\"linecolor\":\"white\",\"ticks\":\"\"},\"caxis\":{\"gridcolor\":\"white\",\"linecolor\":\"white\",\"ticks\":\"\"}},\"coloraxis\":{\"colorbar\":{\"outlinewidth\":0,\"ticks\":\"\"}},\"colorscale\":{\"sequential\":[[0.0,\"#0d0887\"],[0.1111111111111111,\"#46039f\"],[0.2222222222222222,\"#7201a8\"],[0.3333333333333333,\"#9c179e\"],[0.4444444444444444,\"#bd3786\"],[0.5555555555555556,\"#d8576b\"],[0.6666666666666666,\"#ed7953\"],[0.7777777777777778,\"#fb9f3a\"],[0.8888888888888888,\"#fdca26\"],[1.0,\"#f0f921\"]],\"sequentialminus\":[[0.0,\"#0d0887\"],[0.1111111111111111,\"#46039f\"],[0.2222222222222222,\"#7201a8\"],[0.3333333333333333,\"#9c179e\"],[0.4444444444444444,\"#bd3786\"],[0.5555555555555556,\"#d8576b\"],[0.6666666666666666,\"#ed7953\"],[0.7777777777777778,\"#fb9f3a\"],[0.8888888888888888,\"#fdca26\"],[1.0,\"#f0f921\"]],\"diverging\":[[0,\"#8e0152\"],[0.1,\"#c51b7d\"],[0.2,\"#de77ae\"],[0.3,\"#f1b6da\"],[0.4,\"#fde0ef\"],[0.5,\"#f7f7f7\"],[0.6,\"#e6f5d0\"],[0.7,\"#b8e186\"],[0.8,\"#7fbc41\"],[0.9,\"#4d9221\"],[1,\"#276419\"]]},\"xaxis\":{\"gridcolor\":\"white\",\"linecolor\":\"white\",\"ticks\":\"\",\"title\":{\"standoff\":15},\"zerolinecolor\":\"white\",\"automargin\":true,\"zerolinewidth\":2},\"yaxis\":{\"gridcolor\":\"white\",\"linecolor\":\"white\",\"ticks\":\"\",\"title\":{\"standoff\":15},\"zerolinecolor\":\"white\",\"automargin\":true,\"zerolinewidth\":2},\"scene\":{\"xaxis\":{\"backgroundcolor\":\"#E5ECF6\",\"gridcolor\":\"white\",\"linecolor\":\"white\",\"showbackground\":true,\"ticks\":\"\",\"zerolinecolor\":\"white\",\"gridwidth\":2},\"yaxis\":{\"backgroundcolor\":\"#E5ECF6\",\"gridcolor\":\"white\",\"linecolor\":\"white\",\"showbackground\":true,\"ticks\":\"\",\"zerolinecolor\":\"white\",\"gridwidth\":2},\"zaxis\":{\"backgroundcolor\":\"#E5ECF6\",\"gridcolor\":\"white\",\"linecolor\":\"white\",\"showbackground\":true,\"ticks\":\"\",\"zerolinecolor\":\"white\",\"gridwidth\":2}},\"shapedefaults\":{\"line\":{\"color\":\"#2a3f5f\"}},\"annotationdefaults\":{\"arrowcolor\":\"#2a3f5f\",\"arrowhead\":0,\"arrowwidth\":1},\"geo\":{\"bgcolor\":\"white\",\"landcolor\":\"#E5ECF6\",\"subunitcolor\":\"white\",\"showland\":true,\"showlakes\":true,\"lakecolor\":\"white\"},\"title\":{\"x\":0.05},\"mapbox\":{\"style\":\"light\"}}},\"geo\":{\"projection\":{\"type\":\"natural earth\"},\"showframe\":false,\"coastlinecolor\":\"white\",\"showcoastlines\":true},\"title\":{\"text\":\"Mapa de Ratio de Suicidios\"}},                        {\"responsive\": true}                    ).then(function(){\n",
              "                            \n",
              "var gd = document.getElementById('c21d5693-9f14-4199-a3ca-025bc950a746');\n",
              "var x = new MutationObserver(function (mutations, observer) {{\n",
              "        var display = window.getComputedStyle(gd).display;\n",
              "        if (!display || display === 'none') {{\n",
              "            console.log([gd, 'removed!']);\n",
              "            Plotly.purge(gd);\n",
              "            observer.disconnect();\n",
              "        }}\n",
              "}});\n",
              "\n",
              "// Listen for the removal of the full notebook cells\n",
              "var notebookContainer = gd.closest('#notebook-container');\n",
              "if (notebookContainer) {{\n",
              "    x.observe(notebookContainer, {childList: true});\n",
              "}}\n",
              "\n",
              "// Listen for the clearing of the current output cell\n",
              "var outputEl = gd.closest('.output');\n",
              "if (outputEl) {{\n",
              "    x.observe(outputEl, {childList: true});\n",
              "}}\n",
              "\n",
              "                        })                };                            </script>        </div>\n",
              "</body>\n",
              "</html>"
            ]
          },
          "metadata": {}
        }
      ]
    },
    {
      "cell_type": "markdown",
      "source": [
        "#### Escolarización por niveles - gráfico"
      ],
      "metadata": {
        "id": "AnXj8COL4fFa"
      }
    },
    {
      "cell_type": "markdown",
      "source": [
        "#### Desempleo - gráfico"
      ],
      "metadata": {
        "id": "jjhjc6h74Q4_"
      }
    },
    {
      "cell_type": "code",
      "source": [
        "fig_tasa_desempleo = create_choropleth(df_eg, 'Paises', 'Tasa Desempleo', 'Tasa Desempleo', '%')\n",
        "fig_tasa_desempleo.data[0].colorscale = 'Reds'\n",
        "fig_tasa_desempleo.show()"
      ],
      "metadata": {
        "id": "flU97PYm5qGv",
        "outputId": "f39bbf9d-67be-4a2f-b438-797fa7ad4a95",
        "colab": {
          "base_uri": "https://localhost:8080/",
          "height": 542
        }
      },
      "execution_count": 121,
      "outputs": [
        {
          "output_type": "display_data",
          "data": {
            "text/html": [
              "<html>\n",
              "<head><meta charset=\"utf-8\" /></head>\n",
              "<body>\n",
              "    <div>            <script src=\"https://cdnjs.cloudflare.com/ajax/libs/mathjax/2.7.5/MathJax.js?config=TeX-AMS-MML_SVG\"></script><script type=\"text/javascript\">if (window.MathJax && window.MathJax.Hub && window.MathJax.Hub.Config) {window.MathJax.Hub.Config({SVG: {font: \"STIX-Web\"}});}</script>                <script type=\"text/javascript\">window.PlotlyConfig = {MathJaxConfig: 'local'};</script>\n",
              "        <script charset=\"utf-8\" src=\"https://cdn.plot.ly/plotly-2.24.1.min.js\"></script>                <div id=\"60ebf67d-4c97-4ecf-8503-1f90bbc13341\" class=\"plotly-graph-div\" style=\"height:525px; width:100%;\"></div>            <script type=\"text/javascript\">                                    window.PLOTLYENV=window.PLOTLYENV || {};                                    if (document.getElementById(\"60ebf67d-4c97-4ecf-8503-1f90bbc13341\")) {                    Plotly.newPlot(                        \"60ebf67d-4c97-4ecf-8503-1f90bbc13341\",                        [{\"colorbar\":{\"title\":{\"text\":\"%\"}},\"colorscale\":[[0.0,\"rgb(255,245,240)\"],[0.125,\"rgb(254,224,210)\"],[0.25,\"rgb(252,187,161)\"],[0.375,\"rgb(252,146,114)\"],[0.5,\"rgb(251,106,74)\"],[0.625,\"rgb(239,59,44)\"],[0.75,\"rgb(203,24,29)\"],[0.875,\"rgb(165,15,21)\"],[1.0,\"rgb(103,0,13)\"]],\"locationmode\":\"country names\",\"locations\":[\"Afghanistan\",\"Albania\",\"Algeria\",\"Andorra\",\"Angola\",\"Anguilla\",\"Antigua and Barbuda\",\"Argentina\",\"Armenia\",\"Australia\",\"Austria\",\"Azerbaijan\",\"The Bahamas\",\"Bahrain\",\"Bangladesh\",\"Barbados\",\"Belarus\",\"Belgium\",\"Belize\",\"Benin\",\"Bhutan\",\"Bolivia\",\"Bosnia and Herzegovina\",\"Botswana\",\"Brazil\",\"British Virgin Islands\",\"Brunei\",\"Bulgaria\",\"Burkina Faso\",\"Burundi\",\"Cape Verde\",\"Cambodia\",\"Cameroon\",\"Canada\",\"Central African Republic\",\"Chad\",\"Chile\",\"China\",\"Colombia\",\"Comoros\",\"Republic of the Congo\",\"Cook Islands\",\"Costa Rica\",\"Ivory Coast\",\"Croatia\",\"Cuba\",\"Cyprus\",\"Czech Republic\",\"North Korea\",\"Democratic Republic of the Congo\",\"Denmark\",\"Djibouti\",\"Dominica\",\"Dominican Republic\",\"Ecuador\",\"Egypt\",\"El Salvador\",\"Equatorial Guinea\",\"Eritrea\",\"Estonia\",\"Eswatini\",\"Ethiopia\",\"Fiji\",\"Finland\",\"France\",\"Gabon\",\"The Gambia\",\"Georgia\",\"Germany\",\"Ghana\",\"Greece\",\"Grenada\",\"Guatemala\",\"Guinea\",\"Guinea0Bissau\",\"Guyana\",\"Haiti\",\"Vatican City\",\"Honduras\",\"Hungary\",\"Iceland\",\"India\",\"Indonesia\",\"Iran\",\"Iraq\",\"Republic of Ireland\",\"Israel\",\"Italy\",\"Jamaica\",\"Japan\",\"Jordan\",\"Kazakhstan\",\"Kenya\",\"Kiribati\",\"Kuwait\",\"Kyrgyzstan\",\"Laos\",\"Latvia\",\"Lebanon\",\"Lesotho\",\"Liberia\",\"Libya\",\"Liechtenstein\",\"Lithuania\",\"Luxembourg\",\"Madagascar\",\"Malawi\",\"Malaysia\",\"Maldives\",\"Mali\",\"Malta\",\"Marshall Islands\",\"Mauritania\",\"Mauritius\",\"Mexico\",\"Federated States of Micronesia\",\"Monaco\",\"Mongolia\",\"Montenegro\",\"Montserrat\",\"Morocco\",\"Mozambique\",\"Myanmar\",\"Namibia\",\"Nauru\",\"Nepal\",\"Netherlands\",\"New Zealand\",\"Nicaragua\",\"Niger\",\"Nigeria\",\"Niue\",\"North Macedonia\",\"Norway\",\"Oman\",\"Pakistan\",\"Palau\",\"Panama\",\"Papua New Guinea\",\"Paraguay\",\"Peru\",\"Philippines\",\"Poland\",\"Portugal\",\"Qatar\",\"South Korea\",\"Moldova\",\"Romania\",\"Russia\",\"Rwanda\",\"Saint Kitts and Nevis\",\"Saint Lucia\",\"Saint Vincent and the Grenadines\",\"Samoa\",\"San Marino\",\"S\\u00ef\\u00bf\\u00bd\\u00ef\\u00bf\\u00bd\\u00ef\\u00bf\\u00bd\\u00ef\\u00bf\\u00bd\\u00ef\\u00bf\\u00bd\\u00ef\\u00bf\\u00bd\\u00ef\\u00bf\\u00bd\\u00ef\\u00bf\",\"Saudi Arabia\",\"Senegal\",\"Serbia\",\"Seychelles\",\"Sierra Leone\",\"Singapore\",\"Slovakia\",\"Slovenia\",\"Solomon Islands\",\"Somalia\",\"South Africa\",\"South Sudan\",\"Spain\",\"Sri Lanka\",\"Palestinian National Authority\",\"Sudan\",\"Suriname\",\"Sweden\",\"Switzerland\",\"Syria\",\"Tajikistan\",\"Thailand\",\"East Timor\",\"Togo\",\"Tokelau\",\"Tonga\",\"Trinidad and Tobago\",\"Tunisia\",\"Turkey\",\"Turkmenistan\",\"Turks and Caicos Islands\",\"Tuvalu\",\"Uganda\",\"Ukraine\",\"United Arab Emirates\",\"United Kingdom\",\"Tanzania\",\"United States\",\"Uruguay\",\"Uzbekistan\",\"Vanuatu\",\"Venezuela\",\"Vietnam\",\"Yemen\",\"Zambia\",\"Zimbabwe\"],\"z\":[11.12,12.33,11.7,0.0,6.89,0.0,0.0,9.79,16.99,5.27,4.67,5.51,10.36,0.71,4.19,10.33,4.59,5.59,6.41,2.23,2.34,3.5,18.42,18.19,12.08,0.0,9.12,4.34,6.26,1.43,12.25,0.68,3.38,5.56,3.68,1.89,7.09,4.32,9.71,4.34,9.47,0.0,11.85,3.32,6.93,1.64,7.27,1.93,2.74,4.24,4.91,10.3,0.0,5.84,3.97,10.76,4.11,6.43,5.14,5.11,0.0,2.08,4.1,6.59,8.43,20.0,9.06,14.4,3.04,4.33,17.24,0.0,2.46,4.3,2.47,11.85,13.78,0.0,5.39,3.4,2.84,5.36,4.69,11.38,12.82,4.93,3.86,9.89,8.0,2.29,14.72,4.59,2.64,0.0,2.18,6.33,0.63,6.52,6.23,23.41,2.81,18.56,0.0,6.35,5.36,1.76,5.65,3.32,6.14,7.22,3.47,0.0,9.55,6.67,3.42,0.0,0.0,6.01,14.88,0.0,9.02,3.24,1.58,20.27,0.0,1.41,3.2,4.07,6.84,0.47,8.1,0.0,0.0,3.35,2.67,4.45,0.0,3.9,2.46,4.81,3.31,2.15,3.47,6.33,0.09,4.15,5.47,3.98,4.59,1.03,0.0,20.71,18.88,8.36,0.0,13.37,5.93,6.6,12.69,0.0,4.43,4.11,5.56,4.2,0.58,11.35,28.18,12.24,13.96,4.2,0.0,16.53,7.33,6.48,4.58,8.37,11.02,0.75,4.55,2.04,0.0,1.12,2.69,16.02,13.49,3.91,0.0,0.0,1.84,8.88,2.35,3.85,1.98,14.7,8.73,5.92,4.39,8.8,2.01,12.91,11.43,4.95],\"type\":\"choropleth\"}],                        {\"template\":{\"data\":{\"histogram2dcontour\":[{\"type\":\"histogram2dcontour\",\"colorbar\":{\"outlinewidth\":0,\"ticks\":\"\"},\"colorscale\":[[0.0,\"#0d0887\"],[0.1111111111111111,\"#46039f\"],[0.2222222222222222,\"#7201a8\"],[0.3333333333333333,\"#9c179e\"],[0.4444444444444444,\"#bd3786\"],[0.5555555555555556,\"#d8576b\"],[0.6666666666666666,\"#ed7953\"],[0.7777777777777778,\"#fb9f3a\"],[0.8888888888888888,\"#fdca26\"],[1.0,\"#f0f921\"]]}],\"choropleth\":[{\"type\":\"choropleth\",\"colorbar\":{\"outlinewidth\":0,\"ticks\":\"\"}}],\"histogram2d\":[{\"type\":\"histogram2d\",\"colorbar\":{\"outlinewidth\":0,\"ticks\":\"\"},\"colorscale\":[[0.0,\"#0d0887\"],[0.1111111111111111,\"#46039f\"],[0.2222222222222222,\"#7201a8\"],[0.3333333333333333,\"#9c179e\"],[0.4444444444444444,\"#bd3786\"],[0.5555555555555556,\"#d8576b\"],[0.6666666666666666,\"#ed7953\"],[0.7777777777777778,\"#fb9f3a\"],[0.8888888888888888,\"#fdca26\"],[1.0,\"#f0f921\"]]}],\"heatmap\":[{\"type\":\"heatmap\",\"colorbar\":{\"outlinewidth\":0,\"ticks\":\"\"},\"colorscale\":[[0.0,\"#0d0887\"],[0.1111111111111111,\"#46039f\"],[0.2222222222222222,\"#7201a8\"],[0.3333333333333333,\"#9c179e\"],[0.4444444444444444,\"#bd3786\"],[0.5555555555555556,\"#d8576b\"],[0.6666666666666666,\"#ed7953\"],[0.7777777777777778,\"#fb9f3a\"],[0.8888888888888888,\"#fdca26\"],[1.0,\"#f0f921\"]]}],\"heatmapgl\":[{\"type\":\"heatmapgl\",\"colorbar\":{\"outlinewidth\":0,\"ticks\":\"\"},\"colorscale\":[[0.0,\"#0d0887\"],[0.1111111111111111,\"#46039f\"],[0.2222222222222222,\"#7201a8\"],[0.3333333333333333,\"#9c179e\"],[0.4444444444444444,\"#bd3786\"],[0.5555555555555556,\"#d8576b\"],[0.6666666666666666,\"#ed7953\"],[0.7777777777777778,\"#fb9f3a\"],[0.8888888888888888,\"#fdca26\"],[1.0,\"#f0f921\"]]}],\"contourcarpet\":[{\"type\":\"contourcarpet\",\"colorbar\":{\"outlinewidth\":0,\"ticks\":\"\"}}],\"contour\":[{\"type\":\"contour\",\"colorbar\":{\"outlinewidth\":0,\"ticks\":\"\"},\"colorscale\":[[0.0,\"#0d0887\"],[0.1111111111111111,\"#46039f\"],[0.2222222222222222,\"#7201a8\"],[0.3333333333333333,\"#9c179e\"],[0.4444444444444444,\"#bd3786\"],[0.5555555555555556,\"#d8576b\"],[0.6666666666666666,\"#ed7953\"],[0.7777777777777778,\"#fb9f3a\"],[0.8888888888888888,\"#fdca26\"],[1.0,\"#f0f921\"]]}],\"surface\":[{\"type\":\"surface\",\"colorbar\":{\"outlinewidth\":0,\"ticks\":\"\"},\"colorscale\":[[0.0,\"#0d0887\"],[0.1111111111111111,\"#46039f\"],[0.2222222222222222,\"#7201a8\"],[0.3333333333333333,\"#9c179e\"],[0.4444444444444444,\"#bd3786\"],[0.5555555555555556,\"#d8576b\"],[0.6666666666666666,\"#ed7953\"],[0.7777777777777778,\"#fb9f3a\"],[0.8888888888888888,\"#fdca26\"],[1.0,\"#f0f921\"]]}],\"mesh3d\":[{\"type\":\"mesh3d\",\"colorbar\":{\"outlinewidth\":0,\"ticks\":\"\"}}],\"scatter\":[{\"fillpattern\":{\"fillmode\":\"overlay\",\"size\":10,\"solidity\":0.2},\"type\":\"scatter\"}],\"parcoords\":[{\"type\":\"parcoords\",\"line\":{\"colorbar\":{\"outlinewidth\":0,\"ticks\":\"\"}}}],\"scatterpolargl\":[{\"type\":\"scatterpolargl\",\"marker\":{\"colorbar\":{\"outlinewidth\":0,\"ticks\":\"\"}}}],\"bar\":[{\"error_x\":{\"color\":\"#2a3f5f\"},\"error_y\":{\"color\":\"#2a3f5f\"},\"marker\":{\"line\":{\"color\":\"#E5ECF6\",\"width\":0.5},\"pattern\":{\"fillmode\":\"overlay\",\"size\":10,\"solidity\":0.2}},\"type\":\"bar\"}],\"scattergeo\":[{\"type\":\"scattergeo\",\"marker\":{\"colorbar\":{\"outlinewidth\":0,\"ticks\":\"\"}}}],\"scatterpolar\":[{\"type\":\"scatterpolar\",\"marker\":{\"colorbar\":{\"outlinewidth\":0,\"ticks\":\"\"}}}],\"histogram\":[{\"marker\":{\"pattern\":{\"fillmode\":\"overlay\",\"size\":10,\"solidity\":0.2}},\"type\":\"histogram\"}],\"scattergl\":[{\"type\":\"scattergl\",\"marker\":{\"colorbar\":{\"outlinewidth\":0,\"ticks\":\"\"}}}],\"scatter3d\":[{\"type\":\"scatter3d\",\"line\":{\"colorbar\":{\"outlinewidth\":0,\"ticks\":\"\"}},\"marker\":{\"colorbar\":{\"outlinewidth\":0,\"ticks\":\"\"}}}],\"scattermapbox\":[{\"type\":\"scattermapbox\",\"marker\":{\"colorbar\":{\"outlinewidth\":0,\"ticks\":\"\"}}}],\"scatterternary\":[{\"type\":\"scatterternary\",\"marker\":{\"colorbar\":{\"outlinewidth\":0,\"ticks\":\"\"}}}],\"scattercarpet\":[{\"type\":\"scattercarpet\",\"marker\":{\"colorbar\":{\"outlinewidth\":0,\"ticks\":\"\"}}}],\"carpet\":[{\"aaxis\":{\"endlinecolor\":\"#2a3f5f\",\"gridcolor\":\"white\",\"linecolor\":\"white\",\"minorgridcolor\":\"white\",\"startlinecolor\":\"#2a3f5f\"},\"baxis\":{\"endlinecolor\":\"#2a3f5f\",\"gridcolor\":\"white\",\"linecolor\":\"white\",\"minorgridcolor\":\"white\",\"startlinecolor\":\"#2a3f5f\"},\"type\":\"carpet\"}],\"table\":[{\"cells\":{\"fill\":{\"color\":\"#EBF0F8\"},\"line\":{\"color\":\"white\"}},\"header\":{\"fill\":{\"color\":\"#C8D4E3\"},\"line\":{\"color\":\"white\"}},\"type\":\"table\"}],\"barpolar\":[{\"marker\":{\"line\":{\"color\":\"#E5ECF6\",\"width\":0.5},\"pattern\":{\"fillmode\":\"overlay\",\"size\":10,\"solidity\":0.2}},\"type\":\"barpolar\"}],\"pie\":[{\"automargin\":true,\"type\":\"pie\"}]},\"layout\":{\"autotypenumbers\":\"strict\",\"colorway\":[\"#636efa\",\"#EF553B\",\"#00cc96\",\"#ab63fa\",\"#FFA15A\",\"#19d3f3\",\"#FF6692\",\"#B6E880\",\"#FF97FF\",\"#FECB52\"],\"font\":{\"color\":\"#2a3f5f\"},\"hovermode\":\"closest\",\"hoverlabel\":{\"align\":\"left\"},\"paper_bgcolor\":\"white\",\"plot_bgcolor\":\"#E5ECF6\",\"polar\":{\"bgcolor\":\"#E5ECF6\",\"angularaxis\":{\"gridcolor\":\"white\",\"linecolor\":\"white\",\"ticks\":\"\"},\"radialaxis\":{\"gridcolor\":\"white\",\"linecolor\":\"white\",\"ticks\":\"\"}},\"ternary\":{\"bgcolor\":\"#E5ECF6\",\"aaxis\":{\"gridcolor\":\"white\",\"linecolor\":\"white\",\"ticks\":\"\"},\"baxis\":{\"gridcolor\":\"white\",\"linecolor\":\"white\",\"ticks\":\"\"},\"caxis\":{\"gridcolor\":\"white\",\"linecolor\":\"white\",\"ticks\":\"\"}},\"coloraxis\":{\"colorbar\":{\"outlinewidth\":0,\"ticks\":\"\"}},\"colorscale\":{\"sequential\":[[0.0,\"#0d0887\"],[0.1111111111111111,\"#46039f\"],[0.2222222222222222,\"#7201a8\"],[0.3333333333333333,\"#9c179e\"],[0.4444444444444444,\"#bd3786\"],[0.5555555555555556,\"#d8576b\"],[0.6666666666666666,\"#ed7953\"],[0.7777777777777778,\"#fb9f3a\"],[0.8888888888888888,\"#fdca26\"],[1.0,\"#f0f921\"]],\"sequentialminus\":[[0.0,\"#0d0887\"],[0.1111111111111111,\"#46039f\"],[0.2222222222222222,\"#7201a8\"],[0.3333333333333333,\"#9c179e\"],[0.4444444444444444,\"#bd3786\"],[0.5555555555555556,\"#d8576b\"],[0.6666666666666666,\"#ed7953\"],[0.7777777777777778,\"#fb9f3a\"],[0.8888888888888888,\"#fdca26\"],[1.0,\"#f0f921\"]],\"diverging\":[[0,\"#8e0152\"],[0.1,\"#c51b7d\"],[0.2,\"#de77ae\"],[0.3,\"#f1b6da\"],[0.4,\"#fde0ef\"],[0.5,\"#f7f7f7\"],[0.6,\"#e6f5d0\"],[0.7,\"#b8e186\"],[0.8,\"#7fbc41\"],[0.9,\"#4d9221\"],[1,\"#276419\"]]},\"xaxis\":{\"gridcolor\":\"white\",\"linecolor\":\"white\",\"ticks\":\"\",\"title\":{\"standoff\":15},\"zerolinecolor\":\"white\",\"automargin\":true,\"zerolinewidth\":2},\"yaxis\":{\"gridcolor\":\"white\",\"linecolor\":\"white\",\"ticks\":\"\",\"title\":{\"standoff\":15},\"zerolinecolor\":\"white\",\"automargin\":true,\"zerolinewidth\":2},\"scene\":{\"xaxis\":{\"backgroundcolor\":\"#E5ECF6\",\"gridcolor\":\"white\",\"linecolor\":\"white\",\"showbackground\":true,\"ticks\":\"\",\"zerolinecolor\":\"white\",\"gridwidth\":2},\"yaxis\":{\"backgroundcolor\":\"#E5ECF6\",\"gridcolor\":\"white\",\"linecolor\":\"white\",\"showbackground\":true,\"ticks\":\"\",\"zerolinecolor\":\"white\",\"gridwidth\":2},\"zaxis\":{\"backgroundcolor\":\"#E5ECF6\",\"gridcolor\":\"white\",\"linecolor\":\"white\",\"showbackground\":true,\"ticks\":\"\",\"zerolinecolor\":\"white\",\"gridwidth\":2}},\"shapedefaults\":{\"line\":{\"color\":\"#2a3f5f\"}},\"annotationdefaults\":{\"arrowcolor\":\"#2a3f5f\",\"arrowhead\":0,\"arrowwidth\":1},\"geo\":{\"bgcolor\":\"white\",\"landcolor\":\"#E5ECF6\",\"subunitcolor\":\"white\",\"showland\":true,\"showlakes\":true,\"lakecolor\":\"white\"},\"title\":{\"x\":0.05},\"mapbox\":{\"style\":\"light\"}}},\"geo\":{\"projection\":{\"type\":\"natural earth\"},\"showframe\":false,\"coastlinecolor\":\"white\",\"showcoastlines\":true},\"title\":{\"text\":\"Tasa Desempleo\"}},                        {\"responsive\": true}                    ).then(function(){\n",
              "                            \n",
              "var gd = document.getElementById('60ebf67d-4c97-4ecf-8503-1f90bbc13341');\n",
              "var x = new MutationObserver(function (mutations, observer) {{\n",
              "        var display = window.getComputedStyle(gd).display;\n",
              "        if (!display || display === 'none') {{\n",
              "            console.log([gd, 'removed!']);\n",
              "            Plotly.purge(gd);\n",
              "            observer.disconnect();\n",
              "        }}\n",
              "}});\n",
              "\n",
              "// Listen for the removal of the full notebook cells\n",
              "var notebookContainer = gd.closest('#notebook-container');\n",
              "if (notebookContainer) {{\n",
              "    x.observe(notebookContainer, {childList: true});\n",
              "}}\n",
              "\n",
              "// Listen for the clearing of the current output cell\n",
              "var outputEl = gd.closest('.output');\n",
              "if (outputEl) {{\n",
              "    x.observe(outputEl, {childList: true});\n",
              "}}\n",
              "\n",
              "                        })                };                            </script>        </div>\n",
              "</body>\n",
              "</html>"
            ]
          },
          "metadata": {}
        }
      ]
    },
    {
      "cell_type": "code",
      "source": [
        "# Crear subgráficos con tasas de no escolarización por nivel\n",
        "niveles_educacion = ['Preescolar', 'Primaria', 'Primer Ciclo Secundaria', 'Segundo Ciclo Secundaria']\n",
        "num_filas = 2\n",
        "\n",
        "fig = make_subplots(rows=num_filas, cols=len(niveles_educacion) // num_filas,\n",
        "                    subplot_titles=[f'{nivel} ' for nivel in niveles_educacion],\n",
        "                    specs=[[{'type': 'choropleth'}] * (len(niveles_educacion) // num_filas) for _ in range(num_filas)])\n",
        "\n",
        "colorbar_title = \"Tasa de No Escolarización\"\n",
        "zmin = 0  # Valor mínimo para la barra de colores\n",
        "zmax = 100  # Valor máximo para la barra de colores\n",
        "\n",
        "for i, nivel in enumerate(niveles_educacion, start=1): # Calculamos la tasa de no escolarización media entre varones y mujeres\n",
        "    columna_varones = f'Tasa No Escolarización {nivel} (Varones)'\n",
        "    columna_mujeres = f'Tasa No Escolarización {nivel} (Mujeres)'\n",
        "    df_eg[f'Tasa No Escolarización {nivel} (Media)'] = df_eg[[columna_varones, columna_mujeres]].mean(axis=1)\n",
        "\n",
        "    df_filtered = df_eg[df_eg[f'Tasa No Escolarización {nivel} (Media)'] > 0]\n",
        "    df_sorted = df_filtered.sort_values(by=f'Tasa No Escolarización {nivel} (Media)', ascending=False)\n",
        "\n",
        "    if not df_sorted.empty:\n",
        "        data = create_multi_choropleth(df_sorted, 'Paises', f'Tasa No Escolarización {nivel} (Media)',\n",
        "                                       f'Tasas de No Escolarización {nivel}', colorbar_title, zmin, zmax,)\n",
        "        data.colorscale = 'YlOrRd'\n",
        "        row = (i - 1) % num_filas + 1\n",
        "        col = (i - 1) // num_filas + 1\n",
        "        fig.add_trace(data, row=row, col=col)\n",
        "\n",
        "fig.update_geos(projection_type='natural earth')\n",
        "fig.update_layout(\n",
        "    height=800,\n",
        "    width=1400,\n",
        "    title_text=\"Tasas de No Escolarización por Nivel\"\n",
        ")\n",
        "fig.show()"
      ],
      "metadata": {
        "colab": {
          "base_uri": "https://localhost:8080/",
          "height": 817
        },
        "id": "g-5zIB5De3xW",
        "outputId": "735cab02-137b-409c-b41c-b9d259887c3f"
      },
      "execution_count": 122,
      "outputs": [
        {
          "output_type": "display_data",
          "data": {
            "text/html": [
              "<html>\n",
              "<head><meta charset=\"utf-8\" /></head>\n",
              "<body>\n",
              "    <div>            <script src=\"https://cdnjs.cloudflare.com/ajax/libs/mathjax/2.7.5/MathJax.js?config=TeX-AMS-MML_SVG\"></script><script type=\"text/javascript\">if (window.MathJax && window.MathJax.Hub && window.MathJax.Hub.Config) {window.MathJax.Hub.Config({SVG: {font: \"STIX-Web\"}});}</script>                <script type=\"text/javascript\">window.PlotlyConfig = {MathJaxConfig: 'local'};</script>\n",
              "        <script charset=\"utf-8\" src=\"https://cdn.plot.ly/plotly-2.24.1.min.js\"></script>                <div id=\"65c7eda0-31e6-4d12-b484-1053fff605b0\" class=\"plotly-graph-div\" style=\"height:800px; width:1400px;\"></div>            <script type=\"text/javascript\">                                    window.PLOTLYENV=window.PLOTLYENV || {};                                    if (document.getElementById(\"65c7eda0-31e6-4d12-b484-1053fff605b0\")) {                    Plotly.newPlot(                        \"65c7eda0-31e6-4d12-b484-1053fff605b0\",                        [{\"colorbar\":{\"title\":{\"text\":\"Tasa de No Escolarizaci\\u00f3n\"}},\"colorscale\":[[0.0,\"rgb(255,255,204)\"],[0.125,\"rgb(255,237,160)\"],[0.25,\"rgb(254,217,118)\"],[0.375,\"rgb(254,178,76)\"],[0.5,\"rgb(253,141,60)\"],[0.625,\"rgb(252,78,42)\"],[0.75,\"rgb(227,26,28)\"],[0.875,\"rgb(189,0,38)\"],[1.0,\"rgb(128,0,38)\"]],\"locationmode\":\"country names\",\"locations\":[\"Yemen\",\"Myanmar\",\"Tajikistan\",\"Djibouti\",\"Chad\",\"Senegal\",\"Burkina Faso\",\"South Sudan\",\"Botswana\",\"Ivory Coast\",\"Niger\",\"Eritrea\",\"Bosnia and Herzegovina\",\"Republic of the Congo\",\"Comoros\",\"Samoa\",\"Ethiopia\",\"Egypt\",\"Syria\",\"Sudan\",\"Zimbabwe\",\"Bhutan\",\"Guinea\",\"Lesotho\",\"Sierra Leone\",\"Cameroon\",\"Equatorial Guinea\",\"Mali\",\"Jordan\",\"Uzbekistan\",\"Burundi\",\"North Macedonia\",\"Armenia\",\"East Timor\",\"Iran\",\"Saudi Arabia\",\"Rwanda\",\"S\\u00ef\\u00bf\\u00bd\\u00ef\\u00bf\\u00bd\\u00ef\\u00bf\\u00bd\\u00ef\\u00bf\\u00bd\\u00ef\\u00bf\\u00bd\\u00ef\\u00bf\\u00bd\\u00ef\\u00bf\\u00bd\\u00ef\\u00bf\",\"Cambodia\",\"Tanzania\",\"Madagascar\",\"The Gambia\",\"Vanuatu\",\"Morocco\",\"Angola\",\"Solomon Islands\",\"Palestinian National Authority\",\"Federated States of Micronesia\",\"Marshall Islands\",\"Namibia\",\"Paraguay\",\"Laos\",\"Bahrain\",\"Papua New Guinea\",\"South Africa\",\"Niue\",\"Azerbaijan\",\"Panama\",\"Turkey\",\"Montenegro\",\"Honduras\",\"Kazakhstan\",\"Liberia\",\"Bulgaria\",\"Cape Verde\",\"Kuwait\",\"Romania\",\"Brunei\",\"El Salvador\",\"Belize\",\"Montserrat\",\"Guatemala\",\"Slovakia\",\"Benin\",\"Oman\",\"Venezuela\",\"Dominica\",\"Australia\",\"Philippines\",\"Nepal\",\"Ghana\",\"San Marino\",\"Hungary\",\"Estonia\",\"Tuvalu\",\"Suriname\",\"Saint Kitts and Nevis\",\"Kyrgyzstan\",\"Tokelau\",\"Czech Republic\",\"United States\",\"Serbia\",\"Turks and Caicos Islands\",\"Russia\",\"Palau\",\"Antigua and Barbuda\",\"Bolivia\",\"Qatar\",\"Mauritius\",\"Barbados\",\"Chile\",\"Seychelles\",\"Anguilla\",\"Pakistan\",\"Nauru\",\"Jamaica\",\"Italy\",\"Maldives\",\"New Zealand\",\"Dominican Republic\",\"Saint Vincent and the Grenadines\",\"Ecuador\",\"British Virgin Islands\",\"Portugal\",\"Slovenia\",\"Greece\",\"Moldova\",\"Spain\",\"Croatia\",\"Indonesia\",\"Poland\",\"Costa Rica\",\"Mongolia\",\"Togo\",\"Iceland\",\"Albania\",\"Norway\",\"Lithuania\",\"Saint Lucia\",\"Belgium\",\"Malta\",\"Finland\",\"Grenada\",\"Argentina\",\"Belarus\",\"Denmark\",\"Latvia\",\"Colombia\",\"Cuba\",\"Republic of Ireland\",\"United Kingdom\",\"Liechtenstein\",\"Cook Islands\",\"Uruguay\",\"Cyprus\",\"Thailand\",\"Germany\",\"South Korea\",\"Malaysia\",\"Mexico\",\"Peru\",\"Luxembourg\",\"Fiji\",\"Switzerland\",\"Israel\",\"Brazil\",\"Netherlands\"],\"z\":[96.0,88.0,87.5,86.5,86.0,84.0,81.0,79.5,78.5,78.0,76.0,73.0,72.5,70.5,70.5,65.0,63.0,63.0,60.5,60.0,59.0,58.5,58.5,57.5,57.5,56.5,56.0,55.0,55.0,54.0,51.0,51.0,51.0,49.5,49.5,49.5,47.5,47.5,46.0,43.5,40.5,39.0,38.0,35.0,35.0,34.5,34.5,32.0,31.5,31.5,30.5,30.5,29.5,28.5,27.5,25.5,25.5,24.0,24.0,23.5,23.0,22.5,21.0,19.5,19.0,18.5,18.0,17.5,17.5,17.0,16.5,16.0,16.0,15.5,14.5,14.0,14.0,13.5,13.5,13.0,13.0,13.0,13.0,12.0,11.0,11.0,10.5,10.5,10.0,10.0,10.0,9.5,9.5,9.5,9.5,9.0,8.5,8.5,8.5,8.0,8.0,7.5,7.0,7.0,7.0,7.0,6.5,6.5,6.5,6.5,6.0,5.5,5.5,5.5,5.5,5.5,5.0,5.0,5.0,5.0,4.5,4.0,4.0,4.0,3.5,3.0,3.0,3.0,2.5,2.5,2.5,2.5,2.5,2.0,2.0,2.0,2.0,2.0,2.0,2.0,1.5,1.5,1.5,1.5,1.5,1.0,1.0,1.0,1.0,1.0,1.0,1.0,0.5,0.5,0.5,0.5,0.5],\"zmax\":100,\"zmin\":0,\"type\":\"choropleth\",\"geo\":\"geo\"},{\"colorbar\":{\"title\":{\"text\":\"Tasa de No Escolarizaci\\u00f3n\"}},\"colorscale\":[[0.0,\"rgb(255,255,204)\"],[0.125,\"rgb(255,237,160)\"],[0.25,\"rgb(254,217,118)\"],[0.375,\"rgb(254,178,76)\"],[0.5,\"rgb(253,141,60)\"],[0.625,\"rgb(252,78,42)\"],[0.75,\"rgb(227,26,28)\"],[0.875,\"rgb(189,0,38)\"],[1.0,\"rgb(128,0,38)\"]],\"locationmode\":\"country names\",\"locations\":[\"South Sudan\",\"Equatorial Guinea\",\"Eritrea\",\"Mali\",\"Niger\",\"Djibouti\",\"Sudan\",\"Syria\",\"Marshall Islands\",\"Chad\",\"Senegal\",\"Mauritania\",\"Guinea\",\"Burkina Faso\",\"Liberia\",\"Jordan\",\"Comoros\",\"Eswatini\",\"Yemen\",\"Republic of the Congo\",\"Montserrat\",\"Tuvalu\",\"Zambia\",\"The Gambia\",\"Ethiopia\",\"Tanzania\",\"El Salvador\",\"Panama\",\"Bulgaria\",\"Romania\",\"Suriname\",\"Honduras\",\"South Africa\",\"Botswana\",\"Guatemala\",\"Federated States of Micronesia\",\"Venezuela\",\"Moldova\",\"Kazakhstan\",\"Cambodia\",\"Armenia\",\"Laos\",\"Cameroon\",\"Azerbaijan\",\"Ukraine\",\"Burundi\",\"Vanuatu\",\"Papua New Guinea\",\"Benin\",\"Solomon Islands\",\"Cape Verde\",\"United Arab Emirates\",\"S\\u00ef\\u00bf\\u00bd\\u00ef\\u00bf\\u00bd\\u00ef\\u00bf\\u00bd\\u00ef\\u00bf\\u00bd\\u00ef\\u00bf\\u00bd\\u00ef\\u00bf\\u00bd\\u00ef\\u00bf\\u00bd\\u00ef\\u00bf\",\"Rwanda\",\"Indonesia\",\"Turkey\",\"Ivory Coast\",\"Bolivia\",\"East Timor\",\"Slovakia\",\"Uganda\",\"Albania\",\"Hungary\",\"Dominican Republic\",\"British Virgin Islands\",\"Dominica\",\"Bhutan\",\"Philippines\",\"Costa Rica\",\"Uruguay\",\"Togo\",\"Italy\",\"Palestinian National Authority\",\"Montenegro\",\"Spain\",\"Lesotho\",\"Antigua and Barbuda\",\"Sri Lanka\",\"Bahrain\",\"Colombia\",\"Kuwait\",\"Mongolia\",\"Liechtenstein\",\"Morocco\",\"Mozambique\",\"Georgia\",\"Sierra Leone\",\"Serbia\",\"Mauritius\",\"Saudi Arabia\",\"Estonia\",\"Maldives\",\"Poland\",\"Cook Islands\",\"India\",\"Tajikistan\",\"Latvia\",\"Barbados\",\"Belarus\",\"Chile\",\"Greece\",\"Saint Lucia\",\"Qatar\",\"South Korea\",\"Netherlands\",\"New Zealand\",\"Cuba\",\"Uzbekistan\",\"Luxembourg\",\"United States\",\"United Kingdom\",\"North Macedonia\",\"Fiji\",\"Finland\",\"Brazil\",\"Belize\",\"Iceland\",\"Slovenia\",\"Denmark\",\"Czech Republic\",\"Russia\",\"Cyprus\",\"Belgium\",\"Portugal\",\"Ghana\",\"Germany\"],\"z\":[62.5,55.5,47.5,41.0,41.0,33.5,33.0,27.5,26.0,26.0,25.5,23.0,22.0,21.5,21.5,18.5,18.0,16.0,15.5,15.5,15.0,15.0,15.0,14.5,14.5,13.5,13.5,13.5,13.0,12.5,12.5,12.5,11.0,11.0,10.5,10.0,10.0,10.0,9.5,9.0,9.0,8.5,8.5,8.5,8.0,7.5,7.5,7.0,6.5,6.5,6.5,6.5,6.0,6.0,5.5,5.0,5.0,5.0,5.0,4.5,4.5,4.5,4.5,4.0,3.5,3.5,3.5,3.0,3.0,3.0,3.0,3.0,3.0,3.0,3.0,2.5,2.5,2.5,2.5,2.5,2.5,2.5,2.5,2.5,2.5,2.0,2.0,2.0,2.0,2.0,2.0,2.0,2.0,2.0,2.0,1.5,1.5,1.5,1.5,1.5,1.5,1.5,1.5,1.0,1.0,1.0,1.0,1.0,1.0,1.0,1.0,1.0,1.0,1.0,1.0,1.0,0.5,0.5,0.5,0.5,0.5,0.5,0.5,0.5,0.5,0.5],\"zmax\":100,\"zmin\":0,\"type\":\"choropleth\",\"geo\":\"geo3\"},{\"colorbar\":{\"title\":{\"text\":\"Tasa de No Escolarizaci\\u00f3n\"}},\"colorscale\":[[0.0,\"rgb(255,255,204)\"],[0.125,\"rgb(255,237,160)\"],[0.25,\"rgb(254,217,118)\"],[0.375,\"rgb(254,178,76)\"],[0.5,\"rgb(253,141,60)\"],[0.625,\"rgb(252,78,42)\"],[0.75,\"rgb(227,26,28)\"],[0.875,\"rgb(189,0,38)\"],[1.0,\"rgb(128,0,38)\"]],\"locationmode\":\"country names\",\"locations\":[\"Niger\",\"Chad\",\"South Sudan\",\"Mali\",\"Guinea\",\"Sierra Leone\",\"Djibouti\",\"Ethiopia\",\"Burkina Faso\",\"Ivory Coast\",\"Mozambique\",\"Syria\",\"Honduras\",\"Cameroon\",\"Eritrea\",\"Benin\",\"Sudan\",\"Burundi\",\"Guatemala\",\"Marshall Islands\",\"Madagascar\",\"Jordan\",\"Tuvalu\",\"Yemen\",\"Mauritania\",\"Laos\",\"The Bahamas\",\"Togo\",\"Liberia\",\"Myanmar\",\"Turks and Caicos Islands\",\"Comoros\",\"Malawi\",\"Jamaica\",\"Lesotho\",\"El Salvador\",\"Indonesia\",\"Moldova\",\"Suriname\",\"India\",\"South Africa\",\"Papua New Guinea\",\"Venezuela\",\"Malaysia\",\"Bolivia\",\"Cape Verde\",\"Cambodia\",\"Federated States of Micronesia\",\"Bulgaria\",\"Panama\",\"Bhutan\",\"East Timor\",\"Philippines\",\"Ghana\",\"Cuba\",\"Belize\",\"Armenia\",\"Saint Lucia\",\"Morocco\",\"S\\u00ef\\u00bf\\u00bd\\u00ef\\u00bf\\u00bd\\u00ef\\u00bf\\u00bd\\u00ef\\u00bf\\u00bd\\u00ef\\u00bf\\u00bd\\u00ef\\u00bf\\u00bd\\u00ef\\u00bf\\u00bd\\u00ef\\u00bf\",\"Romania\",\"Nauru\",\"Mexico\",\"Montenegro\",\"British Virgin Islands\",\"Mongolia\",\"Kuwait\",\"Turkey\",\"Dominican Republic\",\"Chile\",\"Colombia\",\"Cook Islands\",\"Mauritius\",\"Tonga\",\"Qatar\",\"Slovakia\",\"Barbados\",\"Germany\",\"Ecuador\",\"Luxembourg\",\"Iran\",\"Liechtenstein\",\"Greece\",\"Rwanda\",\"Bahrain\",\"Ukraine\",\"Albania\",\"Eswatini\",\"Hungary\",\"Peru\",\"Vanuatu\",\"South Korea\",\"Netherlands\",\"Nepal\",\"Australia\",\"Brazil\",\"Egypt\",\"Palestinian National Authority\",\"United Arab Emirates\",\"Kyrgyzstan\",\"Costa Rica\",\"Serbia\",\"Dominica\",\"Croatia\",\"Italy\",\"United States\",\"Poland\",\"Cyprus\",\"United Kingdom\",\"Czech Republic\",\"Georgia\",\"Saudi Arabia\",\"Malta\",\"Slovenia\",\"Antigua and Barbuda\",\"Russia\",\"Saint Vincent and the Grenadines\",\"France\",\"Uzbekistan\",\"Latvia\",\"Spain\",\"New Zealand\",\"Belarus\",\"Estonia\",\"Switzerland\",\"Belgium\",\"Denmark\",\"Singapore\",\"Austria\",\"Uruguay\",\"Finland\",\"Norway\",\"Iceland\"],\"z\":[65.0,62.5,56.0,52.5,51.5,49.0,48.0,47.0,46.0,44.5,43.0,38.0,37.5,36.5,36.0,35.0,34.0,33.5,32.5,31.0,30.0,29.5,29.5,28.5,28.0,27.5,22.0,21.5,21.5,21.0,19.5,19.0,18.5,18.0,17.0,17.0,16.5,15.5,15.0,15.0,14.5,14.5,14.0,13.5,13.5,13.5,13.0,12.5,12.5,12.5,12.0,10.5,10.5,10.5,10.0,10.0,10.0,9.5,9.5,9.5,9.0,8.5,8.0,7.5,7.5,7.5,6.5,6.5,6.0,5.5,5.5,5.0,5.0,5.0,5.0,5.0,5.0,5.0,4.5,4.5,4.5,4.0,4.0,4.0,3.5,3.5,3.5,3.0,3.0,3.0,3.0,3.0,2.5,2.5,2.5,2.5,2.5,2.5,2.5,2.5,2.0,2.0,2.0,2.0,2.0,2.0,2.0,2.0,2.0,1.5,1.5,1.5,1.5,1.5,1.5,1.5,1.5,1.0,1.0,1.0,1.0,1.0,1.0,1.0,1.0,1.0,0.5,0.5,0.5,0.5,0.5,0.5,0.5],\"zmax\":100,\"zmin\":0,\"type\":\"choropleth\",\"geo\":\"geo2\"},{\"colorbar\":{\"title\":{\"text\":\"Tasa de No Escolarizaci\\u00f3n\"}},\"colorscale\":[[0.0,\"rgb(255,255,204)\"],[0.125,\"rgb(255,237,160)\"],[0.25,\"rgb(254,217,118)\"],[0.375,\"rgb(254,178,76)\"],[0.5,\"rgb(253,141,60)\"],[0.625,\"rgb(252,78,42)\"],[0.75,\"rgb(227,26,28)\"],[0.875,\"rgb(189,0,38)\"],[1.0,\"rgb(128,0,38)\"]],\"locationmode\":\"country names\",\"locations\":[\"Niger\",\"Tanzania\",\"Chad\",\"Ethiopia\",\"Mali\",\"Mozambique\",\"Malawi\",\"Djibouti\",\"Burkina Faso\",\"Syria\",\"Burundi\",\"Sierra Leone\",\"Guinea\",\"Madagascar\",\"South Sudan\",\"Mauritania\",\"Guatemala\",\"Honduras\",\"Ivory Coast\",\"Nauru\",\"Tuvalu\",\"Togo\",\"Yemen\",\"San Marino\",\"Benin\",\"Cameroon\",\"Afghanistan\",\"Sudan\",\"Comoros\",\"Rwanda\",\"Eritrea\",\"India\",\"Zimbabwe\",\"Jordan\",\"Tokelau\",\"Myanmar\",\"Papua New Guinea\",\"Marshall Islands\",\"Laos\",\"Vanuatu\",\"Tonga\",\"Bangladesh\",\"Suriname\",\"Malaysia\",\"Belize\",\"Moldova\",\"Lesotho\",\"El Salvador\",\"Panama\",\"Paraguay\",\"Turks and Caicos Islands\",\"Bhutan\",\"Cook Islands\",\"Kyrgyzstan\",\"Ghana\",\"Morocco\",\"Cape Verde\",\"Palestinian National Authority\",\"The Bahamas\",\"Mexico\",\"Iran\",\"East Timor\",\"Venezuela\",\"Jamaica\",\"Liberia\",\"Egypt\",\"Indonesia\",\"Mauritius\",\"Dominican Republic\",\"Bolivia\",\"Philippines\",\"Nepal\",\"Mongolia\",\"South Africa\",\"British Virgin Islands\",\"Colombia\",\"Bosnia and Herzegovina\",\"Thailand\",\"Luxembourg\",\"Saint Lucia\",\"Romania\",\"Seychelles\",\"Ecuador\",\"Kuwait\",\"Albania\",\"Dominica\",\"Cuba\",\"Brunei\",\"S\\u00ef\\u00bf\\u00bd\\u00ef\\u00bf\\u00bd\\u00ef\\u00bf\\u00bd\\u00ef\\u00bf\\u00bd\\u00ef\\u00bf\\u00bd\\u00ef\\u00bf\\u00bd\\u00ef\\u00bf\\u00bd\\u00ef\\u00bf\",\"Switzerland\",\"Peru\",\"Turkey\",\"Sri Lanka\",\"Eswatini\",\"Brazil\",\"Saint Vincent and the Grenadines\",\"Croatia\",\"Uzbekistan\",\"Liechtenstein\",\"Bahrain\",\"Iceland\",\"Germany\",\"Antigua and Barbuda\",\"Uruguay\",\"Serbia\",\"Argentina\",\"Hungary\",\"Armenia\",\"Samoa\",\"Bulgaria\",\"Montenegro\",\"Slovakia\",\"Oman\",\"Denmark\",\"Austria\",\"Malta\",\"Australia\",\"Grenada\",\"Norway\",\"Cyprus\",\"Costa Rica\",\"Georgia\",\"Ukraine\",\"Canada\",\"Italy\",\"Barbados\",\"Belarus\",\"Chile\",\"Saudi Arabia\",\"Latvia\",\"United Kingdom\",\"France\",\"Greece\",\"Saint Kitts and Nevis\",\"Poland\",\"South Korea\",\"United States\",\"Finland\",\"Lithuania\",\"New Zealand\",\"Russia\",\"Czech Republic\",\"Portugal\",\"United Arab Emirates\",\"Republic of Ireland\",\"Sweden\",\"Spain\",\"Slovenia\",\"Belgium\",\"Estonia\",\"Netherlands\"],\"z\":[85.66666666666667,85.33333333333333,75.66666666666667,73.66666666666667,73.66666666666667,67.66666666666667,66.66666666666667,66.33333333333333,66.33333333333333,66.0,65.33333333333333,65.0,64.66666666666667,63.333333333333336,62.0,61.666666666666664,58.333333333333336,56.666666666666664,56.0,54.666666666666664,53.666666666666664,53.333333333333336,53.333333333333336,53.0,52.666666666666664,52.666666666666664,52.333333333333336,52.0,50.666666666666664,49.666666666666664,47.666666666666664,47.333333333333336,46.666666666666664,46.333333333333336,45.333333333333336,44.0,43.666666666666664,43.666666666666664,43.333333333333336,42.666666666666664,39.666666666666664,39.333333333333336,39.333333333333336,38.0,37.0,35.666666666666664,35.0,33.666666666666664,33.666666666666664,32.0,31.0,29.333333333333332,29.0,28.666666666666668,28.0,27.333333333333332,27.333333333333332,27.333333333333332,27.333333333333332,26.666666666666668,25.666666666666668,25.333333333333332,25.0,24.0,23.666666666666668,23.333333333333332,22.666666666666668,22.333333333333332,22.333333333333332,22.0,21.666666666666668,21.666666666666668,21.333333333333332,21.333333333333332,21.333333333333332,21.333333333333332,21.0,21.0,20.333333333333332,20.333333333333332,20.333333333333332,20.0,19.333333333333332,19.0,19.0,18.333333333333332,18.333333333333332,18.0,18.0,17.333333333333332,17.0,17.0,16.333333333333332,15.333333333333334,15.333333333333334,15.333333333333334,14.333333333333334,14.333333333333334,14.0,14.0,13.666666666666666,13.333333333333334,13.333333333333334,13.0,13.0,12.333333333333334,12.0,12.0,11.666666666666666,11.333333333333334,11.333333333333334,11.0,11.0,10.333333333333334,9.666666666666666,9.0,8.666666666666666,7.666666666666667,7.666666666666667,6.666666666666667,6.333333333333333,6.0,6.0,6.0,5.666666666666667,5.666666666666667,5.333333333333333,5.0,5.0,4.666666666666667,4.666666666666667,4.666666666666667,4.666666666666667,4.333333333333333,4.0,4.0,3.6666666666666665,3.6666666666666665,3.3333333333333335,3.0,3.0,3.0,2.6666666666666665,2.0,1.6666666666666667,1.6666666666666667,1.6666666666666667,1.6666666666666667,1.3333333333333333,1.3333333333333333,1.0],\"zmax\":100,\"zmin\":0,\"type\":\"choropleth\",\"geo\":\"geo4\"}],                        {\"template\":{\"data\":{\"histogram2dcontour\":[{\"type\":\"histogram2dcontour\",\"colorbar\":{\"outlinewidth\":0,\"ticks\":\"\"},\"colorscale\":[[0.0,\"#0d0887\"],[0.1111111111111111,\"#46039f\"],[0.2222222222222222,\"#7201a8\"],[0.3333333333333333,\"#9c179e\"],[0.4444444444444444,\"#bd3786\"],[0.5555555555555556,\"#d8576b\"],[0.6666666666666666,\"#ed7953\"],[0.7777777777777778,\"#fb9f3a\"],[0.8888888888888888,\"#fdca26\"],[1.0,\"#f0f921\"]]}],\"choropleth\":[{\"type\":\"choropleth\",\"colorbar\":{\"outlinewidth\":0,\"ticks\":\"\"}}],\"histogram2d\":[{\"type\":\"histogram2d\",\"colorbar\":{\"outlinewidth\":0,\"ticks\":\"\"},\"colorscale\":[[0.0,\"#0d0887\"],[0.1111111111111111,\"#46039f\"],[0.2222222222222222,\"#7201a8\"],[0.3333333333333333,\"#9c179e\"],[0.4444444444444444,\"#bd3786\"],[0.5555555555555556,\"#d8576b\"],[0.6666666666666666,\"#ed7953\"],[0.7777777777777778,\"#fb9f3a\"],[0.8888888888888888,\"#fdca26\"],[1.0,\"#f0f921\"]]}],\"heatmap\":[{\"type\":\"heatmap\",\"colorbar\":{\"outlinewidth\":0,\"ticks\":\"\"},\"colorscale\":[[0.0,\"#0d0887\"],[0.1111111111111111,\"#46039f\"],[0.2222222222222222,\"#7201a8\"],[0.3333333333333333,\"#9c179e\"],[0.4444444444444444,\"#bd3786\"],[0.5555555555555556,\"#d8576b\"],[0.6666666666666666,\"#ed7953\"],[0.7777777777777778,\"#fb9f3a\"],[0.8888888888888888,\"#fdca26\"],[1.0,\"#f0f921\"]]}],\"heatmapgl\":[{\"type\":\"heatmapgl\",\"colorbar\":{\"outlinewidth\":0,\"ticks\":\"\"},\"colorscale\":[[0.0,\"#0d0887\"],[0.1111111111111111,\"#46039f\"],[0.2222222222222222,\"#7201a8\"],[0.3333333333333333,\"#9c179e\"],[0.4444444444444444,\"#bd3786\"],[0.5555555555555556,\"#d8576b\"],[0.6666666666666666,\"#ed7953\"],[0.7777777777777778,\"#fb9f3a\"],[0.8888888888888888,\"#fdca26\"],[1.0,\"#f0f921\"]]}],\"contourcarpet\":[{\"type\":\"contourcarpet\",\"colorbar\":{\"outlinewidth\":0,\"ticks\":\"\"}}],\"contour\":[{\"type\":\"contour\",\"colorbar\":{\"outlinewidth\":0,\"ticks\":\"\"},\"colorscale\":[[0.0,\"#0d0887\"],[0.1111111111111111,\"#46039f\"],[0.2222222222222222,\"#7201a8\"],[0.3333333333333333,\"#9c179e\"],[0.4444444444444444,\"#bd3786\"],[0.5555555555555556,\"#d8576b\"],[0.6666666666666666,\"#ed7953\"],[0.7777777777777778,\"#fb9f3a\"],[0.8888888888888888,\"#fdca26\"],[1.0,\"#f0f921\"]]}],\"surface\":[{\"type\":\"surface\",\"colorbar\":{\"outlinewidth\":0,\"ticks\":\"\"},\"colorscale\":[[0.0,\"#0d0887\"],[0.1111111111111111,\"#46039f\"],[0.2222222222222222,\"#7201a8\"],[0.3333333333333333,\"#9c179e\"],[0.4444444444444444,\"#bd3786\"],[0.5555555555555556,\"#d8576b\"],[0.6666666666666666,\"#ed7953\"],[0.7777777777777778,\"#fb9f3a\"],[0.8888888888888888,\"#fdca26\"],[1.0,\"#f0f921\"]]}],\"mesh3d\":[{\"type\":\"mesh3d\",\"colorbar\":{\"outlinewidth\":0,\"ticks\":\"\"}}],\"scatter\":[{\"fillpattern\":{\"fillmode\":\"overlay\",\"size\":10,\"solidity\":0.2},\"type\":\"scatter\"}],\"parcoords\":[{\"type\":\"parcoords\",\"line\":{\"colorbar\":{\"outlinewidth\":0,\"ticks\":\"\"}}}],\"scatterpolargl\":[{\"type\":\"scatterpolargl\",\"marker\":{\"colorbar\":{\"outlinewidth\":0,\"ticks\":\"\"}}}],\"bar\":[{\"error_x\":{\"color\":\"#2a3f5f\"},\"error_y\":{\"color\":\"#2a3f5f\"},\"marker\":{\"line\":{\"color\":\"#E5ECF6\",\"width\":0.5},\"pattern\":{\"fillmode\":\"overlay\",\"size\":10,\"solidity\":0.2}},\"type\":\"bar\"}],\"scattergeo\":[{\"type\":\"scattergeo\",\"marker\":{\"colorbar\":{\"outlinewidth\":0,\"ticks\":\"\"}}}],\"scatterpolar\":[{\"type\":\"scatterpolar\",\"marker\":{\"colorbar\":{\"outlinewidth\":0,\"ticks\":\"\"}}}],\"histogram\":[{\"marker\":{\"pattern\":{\"fillmode\":\"overlay\",\"size\":10,\"solidity\":0.2}},\"type\":\"histogram\"}],\"scattergl\":[{\"type\":\"scattergl\",\"marker\":{\"colorbar\":{\"outlinewidth\":0,\"ticks\":\"\"}}}],\"scatter3d\":[{\"type\":\"scatter3d\",\"line\":{\"colorbar\":{\"outlinewidth\":0,\"ticks\":\"\"}},\"marker\":{\"colorbar\":{\"outlinewidth\":0,\"ticks\":\"\"}}}],\"scattermapbox\":[{\"type\":\"scattermapbox\",\"marker\":{\"colorbar\":{\"outlinewidth\":0,\"ticks\":\"\"}}}],\"scatterternary\":[{\"type\":\"scatterternary\",\"marker\":{\"colorbar\":{\"outlinewidth\":0,\"ticks\":\"\"}}}],\"scattercarpet\":[{\"type\":\"scattercarpet\",\"marker\":{\"colorbar\":{\"outlinewidth\":0,\"ticks\":\"\"}}}],\"carpet\":[{\"aaxis\":{\"endlinecolor\":\"#2a3f5f\",\"gridcolor\":\"white\",\"linecolor\":\"white\",\"minorgridcolor\":\"white\",\"startlinecolor\":\"#2a3f5f\"},\"baxis\":{\"endlinecolor\":\"#2a3f5f\",\"gridcolor\":\"white\",\"linecolor\":\"white\",\"minorgridcolor\":\"white\",\"startlinecolor\":\"#2a3f5f\"},\"type\":\"carpet\"}],\"table\":[{\"cells\":{\"fill\":{\"color\":\"#EBF0F8\"},\"line\":{\"color\":\"white\"}},\"header\":{\"fill\":{\"color\":\"#C8D4E3\"},\"line\":{\"color\":\"white\"}},\"type\":\"table\"}],\"barpolar\":[{\"marker\":{\"line\":{\"color\":\"#E5ECF6\",\"width\":0.5},\"pattern\":{\"fillmode\":\"overlay\",\"size\":10,\"solidity\":0.2}},\"type\":\"barpolar\"}],\"pie\":[{\"automargin\":true,\"type\":\"pie\"}]},\"layout\":{\"autotypenumbers\":\"strict\",\"colorway\":[\"#636efa\",\"#EF553B\",\"#00cc96\",\"#ab63fa\",\"#FFA15A\",\"#19d3f3\",\"#FF6692\",\"#B6E880\",\"#FF97FF\",\"#FECB52\"],\"font\":{\"color\":\"#2a3f5f\"},\"hovermode\":\"closest\",\"hoverlabel\":{\"align\":\"left\"},\"paper_bgcolor\":\"white\",\"plot_bgcolor\":\"#E5ECF6\",\"polar\":{\"bgcolor\":\"#E5ECF6\",\"angularaxis\":{\"gridcolor\":\"white\",\"linecolor\":\"white\",\"ticks\":\"\"},\"radialaxis\":{\"gridcolor\":\"white\",\"linecolor\":\"white\",\"ticks\":\"\"}},\"ternary\":{\"bgcolor\":\"#E5ECF6\",\"aaxis\":{\"gridcolor\":\"white\",\"linecolor\":\"white\",\"ticks\":\"\"},\"baxis\":{\"gridcolor\":\"white\",\"linecolor\":\"white\",\"ticks\":\"\"},\"caxis\":{\"gridcolor\":\"white\",\"linecolor\":\"white\",\"ticks\":\"\"}},\"coloraxis\":{\"colorbar\":{\"outlinewidth\":0,\"ticks\":\"\"}},\"colorscale\":{\"sequential\":[[0.0,\"#0d0887\"],[0.1111111111111111,\"#46039f\"],[0.2222222222222222,\"#7201a8\"],[0.3333333333333333,\"#9c179e\"],[0.4444444444444444,\"#bd3786\"],[0.5555555555555556,\"#d8576b\"],[0.6666666666666666,\"#ed7953\"],[0.7777777777777778,\"#fb9f3a\"],[0.8888888888888888,\"#fdca26\"],[1.0,\"#f0f921\"]],\"sequentialminus\":[[0.0,\"#0d0887\"],[0.1111111111111111,\"#46039f\"],[0.2222222222222222,\"#7201a8\"],[0.3333333333333333,\"#9c179e\"],[0.4444444444444444,\"#bd3786\"],[0.5555555555555556,\"#d8576b\"],[0.6666666666666666,\"#ed7953\"],[0.7777777777777778,\"#fb9f3a\"],[0.8888888888888888,\"#fdca26\"],[1.0,\"#f0f921\"]],\"diverging\":[[0,\"#8e0152\"],[0.1,\"#c51b7d\"],[0.2,\"#de77ae\"],[0.3,\"#f1b6da\"],[0.4,\"#fde0ef\"],[0.5,\"#f7f7f7\"],[0.6,\"#e6f5d0\"],[0.7,\"#b8e186\"],[0.8,\"#7fbc41\"],[0.9,\"#4d9221\"],[1,\"#276419\"]]},\"xaxis\":{\"gridcolor\":\"white\",\"linecolor\":\"white\",\"ticks\":\"\",\"title\":{\"standoff\":15},\"zerolinecolor\":\"white\",\"automargin\":true,\"zerolinewidth\":2},\"yaxis\":{\"gridcolor\":\"white\",\"linecolor\":\"white\",\"ticks\":\"\",\"title\":{\"standoff\":15},\"zerolinecolor\":\"white\",\"automargin\":true,\"zerolinewidth\":2},\"scene\":{\"xaxis\":{\"backgroundcolor\":\"#E5ECF6\",\"gridcolor\":\"white\",\"linecolor\":\"white\",\"showbackground\":true,\"ticks\":\"\",\"zerolinecolor\":\"white\",\"gridwidth\":2},\"yaxis\":{\"backgroundcolor\":\"#E5ECF6\",\"gridcolor\":\"white\",\"linecolor\":\"white\",\"showbackground\":true,\"ticks\":\"\",\"zerolinecolor\":\"white\",\"gridwidth\":2},\"zaxis\":{\"backgroundcolor\":\"#E5ECF6\",\"gridcolor\":\"white\",\"linecolor\":\"white\",\"showbackground\":true,\"ticks\":\"\",\"zerolinecolor\":\"white\",\"gridwidth\":2}},\"shapedefaults\":{\"line\":{\"color\":\"#2a3f5f\"}},\"annotationdefaults\":{\"arrowcolor\":\"#2a3f5f\",\"arrowhead\":0,\"arrowwidth\":1},\"geo\":{\"bgcolor\":\"white\",\"landcolor\":\"#E5ECF6\",\"subunitcolor\":\"white\",\"showland\":true,\"showlakes\":true,\"lakecolor\":\"white\"},\"title\":{\"x\":0.05},\"mapbox\":{\"style\":\"light\"}}},\"geo\":{\"domain\":{\"x\":[0.0,0.45],\"y\":[0.625,1.0]},\"projection\":{\"type\":\"natural earth\"}},\"geo2\":{\"domain\":{\"x\":[0.55,1.0],\"y\":[0.625,1.0]},\"projection\":{\"type\":\"natural earth\"}},\"geo3\":{\"domain\":{\"x\":[0.0,0.45],\"y\":[0.0,0.375]},\"projection\":{\"type\":\"natural earth\"}},\"geo4\":{\"domain\":{\"x\":[0.55,1.0],\"y\":[0.0,0.375]},\"projection\":{\"type\":\"natural earth\"}},\"annotations\":[{\"font\":{\"size\":16},\"showarrow\":false,\"text\":\"Preescolar \",\"x\":0.225,\"xanchor\":\"center\",\"xref\":\"paper\",\"y\":1.0,\"yanchor\":\"bottom\",\"yref\":\"paper\"},{\"font\":{\"size\":16},\"showarrow\":false,\"text\":\"Primaria \",\"x\":0.775,\"xanchor\":\"center\",\"xref\":\"paper\",\"y\":1.0,\"yanchor\":\"bottom\",\"yref\":\"paper\"},{\"font\":{\"size\":16},\"showarrow\":false,\"text\":\"Primer Ciclo Secundaria \",\"x\":0.225,\"xanchor\":\"center\",\"xref\":\"paper\",\"y\":0.375,\"yanchor\":\"bottom\",\"yref\":\"paper\"},{\"font\":{\"size\":16},\"showarrow\":false,\"text\":\"Segundo Ciclo Secundaria \",\"x\":0.775,\"xanchor\":\"center\",\"xref\":\"paper\",\"y\":0.375,\"yanchor\":\"bottom\",\"yref\":\"paper\"}],\"title\":{\"text\":\"Tasas de No Escolarizaci\\u00f3n por Nivel\"},\"height\":800,\"width\":1400},                        {\"responsive\": true}                    ).then(function(){\n",
              "                            \n",
              "var gd = document.getElementById('65c7eda0-31e6-4d12-b484-1053fff605b0');\n",
              "var x = new MutationObserver(function (mutations, observer) {{\n",
              "        var display = window.getComputedStyle(gd).display;\n",
              "        if (!display || display === 'none') {{\n",
              "            console.log([gd, 'removed!']);\n",
              "            Plotly.purge(gd);\n",
              "            observer.disconnect();\n",
              "        }}\n",
              "}});\n",
              "\n",
              "// Listen for the removal of the full notebook cells\n",
              "var notebookContainer = gd.closest('#notebook-container');\n",
              "if (notebookContainer) {{\n",
              "    x.observe(notebookContainer, {childList: true});\n",
              "}}\n",
              "\n",
              "// Listen for the clearing of the current output cell\n",
              "var outputEl = gd.closest('.output');\n",
              "if (outputEl) {{\n",
              "    x.observe(outputEl, {childList: true});\n",
              "}}\n",
              "\n",
              "                        })                };                            </script>        </div>\n",
              "</body>\n",
              "</html>"
            ]
          },
          "metadata": {}
        }
      ]
    },
    {
      "cell_type": "code",
      "source": [
        "# Crear subgráficos con tasas de finalización por nivel y género\n",
        "niveles_educacion = ['Educación Primaria', 'Primer Ciclo Secundaria', 'Segundo Ciclo Secundaria']\n",
        "num_filas = 3\n",
        "\n",
        "fig = make_subplots(rows=num_filas, cols=len(niveles_educacion) // num_filas,\n",
        "                    subplot_titles=[f'{nivel} - Media de Géneros' for nivel in niveles_educacion],\n",
        "                    specs=[[{'type': 'choropleth'}] * (len(niveles_educacion) // num_filas) for _ in range(num_filas)])\n",
        "\n",
        "colorbar_title = \"Tasa Finalización\"\n",
        "zmin = 0  # Valor mínimo para la barra de colores\n",
        "zmax = 100  # Valor máximo para la barra de colores\n",
        "\n",
        "for i, nivel in enumerate(niveles_educacion, start=1):\n",
        "    columna_varones = f'Tasa Finalización {nivel} (Varones)'\n",
        "    columna_mujeres = f'Tasa Finalización {nivel} (Mujeres)'\n",
        "    df_eg[f'Tasa Finalización {nivel} (Media)'] = df_eg[[columna_varones, columna_mujeres]].mean(axis=1)\n",
        "\n",
        "    df_filtered = df_eg[df_eg[f'Tasa Finalización {nivel} (Media)'] > 0]\n",
        "    df_sorted = df_filtered.sort_values(by=f'Tasa Finalización {nivel} (Media)', ascending=False)\n",
        "\n",
        "    if not df_sorted.empty:\n",
        "        data = create_multi_choropleth(df_sorted, 'Paises', f'Tasa Finalización {nivel} (Media)',\n",
        "                                       f'Tasas de Finalización {nivel}', colorbar_title, zmin, zmax)\n",
        "        data.colorscale = 'Greens'\n",
        "        row = (i - 1) % num_filas + 1\n",
        "        col = ((i - 1) // num_filas) % (len(niveles_educacion) // num_filas) + 1\n",
        "        fig.add_trace(data, row=row, col=col)\n",
        "\n",
        "fig.update_geos(projection_type='natural earth')\n",
        "fig.update_layout(\n",
        "    height=1000,\n",
        "    width=1200,\n",
        "    title_text=\"Tasas de Finalización por Nivel\"\n",
        ")\n",
        "\n",
        "fig.show()"
      ],
      "metadata": {
        "colab": {
          "base_uri": "https://localhost:8080/",
          "height": 1000
        },
        "id": "FqcLQDtGfM1W",
        "outputId": "f83f447e-81a4-48b9-8c7a-a272b1df166b"
      },
      "execution_count": 123,
      "outputs": [
        {
          "output_type": "display_data",
          "data": {
            "text/html": [
              "<html>\n",
              "<head><meta charset=\"utf-8\" /></head>\n",
              "<body>\n",
              "    <div>            <script src=\"https://cdnjs.cloudflare.com/ajax/libs/mathjax/2.7.5/MathJax.js?config=TeX-AMS-MML_SVG\"></script><script type=\"text/javascript\">if (window.MathJax && window.MathJax.Hub && window.MathJax.Hub.Config) {window.MathJax.Hub.Config({SVG: {font: \"STIX-Web\"}});}</script>                <script type=\"text/javascript\">window.PlotlyConfig = {MathJaxConfig: 'local'};</script>\n",
              "        <script charset=\"utf-8\" src=\"https://cdn.plot.ly/plotly-2.24.1.min.js\"></script>                <div id=\"eef2d960-dfe3-411c-bdc8-0bbd5d976d7f\" class=\"plotly-graph-div\" style=\"height:1000px; width:1200px;\"></div>            <script type=\"text/javascript\">                                    window.PLOTLYENV=window.PLOTLYENV || {};                                    if (document.getElementById(\"eef2d960-dfe3-411c-bdc8-0bbd5d976d7f\")) {                    Plotly.newPlot(                        \"eef2d960-dfe3-411c-bdc8-0bbd5d976d7f\",                        [{\"colorbar\":{\"title\":{\"text\":\"Tasa Finalizaci\\u00f3n\"}},\"colorscale\":[[0.0,\"rgb(247,252,245)\"],[0.125,\"rgb(229,245,224)\"],[0.25,\"rgb(199,233,192)\"],[0.375,\"rgb(161,217,155)\"],[0.5,\"rgb(116,196,118)\"],[0.625,\"rgb(65,171,93)\"],[0.75,\"rgb(35,139,69)\"],[0.875,\"rgb(0,109,44)\"],[1.0,\"rgb(0,68,27)\"]],\"locationmode\":\"country names\",\"locations\":[\"Kazakhstan\",\"North Korea\",\"Georgia\",\"Belarus\",\"Turkmenistan\",\"Ukraine\",\"Jamaica\",\"Kyrgyzstan\",\"Serbia\",\"Palestinian National Authority\",\"Bosnia and Herzegovina\",\"Sri Lanka\",\"Cuba\",\"Saint Lucia\",\"Barbados\",\"Armenia\",\"Moldova\",\"North Macedonia\",\"Thailand\",\"Costa Rica\",\"Tajikistan\",\"Tonga\",\"Turkey\",\"Ecuador\",\"Mexico\",\"Guyana\",\"Uruguay\",\"Mongolia\",\"China\",\"Vietnam\",\"South Africa\",\"Montenegro\",\"Botswana\",\"Jordan\",\"Chile\",\"Brazil\",\"Panama\",\"Tunisia\",\"Belize\",\"Albania\",\"Peru\",\"Paraguay\",\"Kiribati\",\"Colombia\",\"Algeria\",\"Argentina\",\"Philippines\",\"Indonesia\",\"Egypt\",\"India\",\"Dominican Republic\",\"Zimbabwe\",\"El Salvador\",\"Suriname\",\"Honduras\",\"Laos\",\"Myanmar\",\"S\\u00ef\\u00bf\\u00bd\\u00ef\\u00bf\\u00bd\\u00ef\\u00bf\\u00bd\\u00ef\\u00bf\\u00bd\\u00ef\\u00bf\\u00bd\\u00ef\\u00bf\\u00bd\\u00ef\\u00bf\\u00bd\\u00ef\\u00bf\",\"Bangladesh\",\"Nepal\",\"East Timor\",\"Namibia\",\"Lesotho\",\"Republic of the Congo\",\"Togo\",\"Tanzania\",\"Kenya\",\"Guatemala\",\"Comoros\",\"Iraq\",\"Cameroon\",\"Cambodia\",\"Zambia\",\"Ghana\",\"Nigeria\",\"Gabon\",\"Eswatini\",\"Bhutan\",\"Democratic Republic of the Congo\",\"Sudan\",\"Sierra Leone\",\"Mauritania\",\"Yemen\",\"The Gambia\",\"Angola\",\"Pakistan\",\"Ivory Coast\",\"Madagascar\",\"Rwanda\",\"Afghanistan\",\"Haiti\",\"Burundi\",\"Malawi\",\"Benin\",\"Ethiopia\",\"Senegal\",\"Guinea\",\"Mali\",\"Central African Republic\",\"Mozambique\",\"Uganda\",\"Liberia\",\"Burkina Faso\",\"Niger\",\"Chad\",\"Guinea0Bissau\",\"South Sudan\"],\"z\":[100.0,100.0,100.0,100.0,100.0,99.5,99.5,99.5,99.5,99.5,99.5,99.0,99.0,99.0,99.0,99.0,99.0,98.5,98.5,98.5,98.5,98.5,98.5,98.0,98.0,97.5,97.0,97.0,97.0,96.5,96.5,96.5,96.5,96.5,96.5,96.0,95.5,95.5,95.5,95.0,95.0,94.5,94.0,93.0,93.0,92.5,92.0,91.5,91.5,91.5,91.0,89.0,86.5,85.0,84.0,83.5,83.0,82.5,82.5,82.0,81.0,80.5,80.5,80.0,79.5,79.5,79.5,78.0,76.0,75.5,74.5,73.5,72.0,71.0,71.0,70.5,70.5,69.0,66.5,65.0,64.0,63.0,62.5,62.0,60.0,59.5,56.5,56.0,54.5,53.5,53.5,50.0,47.5,47.5,47.5,47.0,45.5,45.5,43.5,41.5,41.0,34.5,30.5,29.5,27.5,27.0,24.5],\"zmax\":100,\"zmin\":0,\"type\":\"choropleth\",\"geo\":\"geo\"},{\"colorbar\":{\"title\":{\"text\":\"Tasa Finalizaci\\u00f3n\"}},\"colorscale\":[[0.0,\"rgb(247,252,245)\"],[0.125,\"rgb(229,245,224)\"],[0.25,\"rgb(199,233,192)\"],[0.375,\"rgb(161,217,155)\"],[0.5,\"rgb(116,196,118)\"],[0.625,\"rgb(65,171,93)\"],[0.75,\"rgb(35,139,69)\"],[0.875,\"rgb(0,109,44)\"],[1.0,\"rgb(0,68,27)\"]],\"locationmode\":\"country names\",\"locations\":[\"North Korea\",\"Belarus\",\"Kazakhstan\",\"Ukraine\",\"Turkmenistan\",\"Serbia\",\"Kyrgyzstan\",\"Barbados\",\"Georgia\",\"Albania\",\"Armenia\",\"Jamaica\",\"Bosnia and Herzegovina\",\"Moldova\",\"Cuba\",\"Chile\",\"Montenegro\",\"Sri Lanka\",\"Turkey\",\"North Macedonia\",\"Tajikistan\",\"China\",\"Botswana\",\"Saint Lucia\",\"Ecuador\",\"Mongolia\",\"Mexico\",\"South Africa\",\"Jordan\",\"Thailand\",\"Palestinian National Authority\",\"Brazil\",\"Guyana\",\"Vietnam\",\"Peru\",\"Dominican Republic\",\"Philippines\",\"India\",\"Paraguay\",\"Egypt\",\"Kiribati\",\"Panama\",\"Colombia\",\"Argentina\",\"Tunisia\",\"El Salvador\",\"Nepal\",\"Costa Rica\",\"Tonga\",\"Uruguay\",\"East Timor\",\"Bangladesh\",\"Kenya\",\"Nigeria\",\"Indonesia\",\"Belize\",\"Algeria\",\"Democratic Republic of the Congo\",\"Namibia\",\"Laos\",\"Zambia\",\"Republic of the Congo\",\"Eswatini\",\"Sudan\",\"Pakistan\",\"Suriname\",\"Zimbabwe\",\"Honduras\",\"The Gambia\",\"Guatemala\",\"Ghana\",\"Cameroon\",\"Yemen\",\"Togo\",\"Mauritania\",\"Iraq\",\"Comoros\",\"Myanmar\",\"Sierra Leone\",\"Lesotho\",\"Cambodia\",\"Bhutan\",\"Afghanistan\",\"Angola\",\"Haiti\",\"S\\u00ef\\u00bf\\u00bd\\u00ef\\u00bf\\u00bd\\u00ef\\u00bf\\u00bd\\u00ef\\u00bf\\u00bd\\u00ef\\u00bf\\u00bd\\u00ef\\u00bf\\u00bd\\u00ef\\u00bf\\u00bd\\u00ef\\u00bf\",\"Gabon\",\"Mali\",\"Tanzania\",\"Ivory Coast\",\"Senegal\",\"Rwanda\",\"Guinea\",\"Madagascar\",\"Liberia\",\"Uganda\",\"Burundi\",\"Malawi\",\"Ethiopia\",\"Benin\",\"Guinea0Bissau\",\"South Sudan\",\"Chad\",\"Mozambique\",\"Central African Republic\",\"Burkina Faso\",\"Niger\"],\"z\":[100.0,100.0,100.0,100.0,99.5,99.0,99.0,98.0,98.0,97.5,97.0,97.0,97.0,96.5,96.5,95.5,95.0,95.0,94.0,94.0,94.0,93.0,92.0,91.5,90.5,90.0,88.5,88.0,87.0,86.5,86.5,85.0,84.0,84.0,83.0,82.5,81.5,80.5,80.0,80.0,78.5,78.0,77.5,74.5,74.0,73.5,73.0,73.0,70.5,69.5,66.5,65.0,65.0,62.5,61.5,60.5,57.0,55.0,55.0,53.5,52.0,50.5,50.5,50.5,50.0,49.5,49.0,49.0,49.0,48.5,47.5,47.5,47.0,47.0,46.5,46.5,46.0,45.0,44.5,44.0,40.0,39.5,37.5,37.0,35.0,34.0,32.5,30.5,29.0,29.0,28.5,27.5,26.5,26.5,26.0,25.0,22.5,22.0,20.5,19.0,17.0,16.0,14.0,13.0,12.0,9.5,7.0],\"zmax\":100,\"zmin\":0,\"type\":\"choropleth\",\"geo\":\"geo2\"},{\"colorbar\":{\"title\":{\"text\":\"Tasa Finalizaci\\u00f3n\"}},\"colorscale\":[[0.0,\"rgb(247,252,245)\"],[0.125,\"rgb(229,245,224)\"],[0.25,\"rgb(199,233,192)\"],[0.375,\"rgb(161,217,155)\"],[0.5,\"rgb(116,196,118)\"],[0.625,\"rgb(65,171,93)\"],[0.75,\"rgb(35,139,69)\"],[0.875,\"rgb(0,109,44)\"],[1.0,\"rgb(0,68,27)\"]],\"locationmode\":\"country names\",\"locations\":[\"North Korea\",\"Ukraine\",\"Kazakhstan\",\"Barbados\",\"Turkmenistan\",\"Belarus\",\"Bosnia and Herzegovina\",\"Kyrgyzstan\",\"Montenegro\",\"Cuba\",\"Chile\",\"North Macedonia\",\"Jamaica\",\"Georgia\",\"Saint Lucia\",\"Philippines\",\"Ecuador\",\"Albania\",\"Serbia\",\"Peru\",\"Armenia\",\"Colombia\",\"Tajikistan\",\"Brazil\",\"Moldova\",\"Mongolia\",\"Thailand\",\"China\",\"Paraguay\",\"Panama\",\"Palestinian National Authority\",\"Botswana\",\"Mexico\",\"Costa Rica\",\"Dominican Republic\",\"Guyana\",\"Jordan\",\"Vietnam\",\"East Timor\",\"Tonga\",\"Nigeria\",\"Belize\",\"Argentina\",\"South Africa\",\"Tunisia\",\"Turkey\",\"Iraq\",\"India\",\"Egypt\",\"Kenya\",\"Indonesia\",\"Uruguay\",\"Sri Lanka\",\"Namibia\",\"El Salvador\",\"Lesotho\",\"Eswatini\",\"Honduras\",\"Laos\",\"Democratic Republic of the Congo\",\"The Gambia\",\"Sudan\",\"Zambia\",\"Yemen\",\"Algeria\",\"Bangladesh\",\"Tanzania\",\"Comoros\",\"Nepal\",\"Mauritania\",\"Guatemala\",\"Cameroon\",\"Republic of the Congo\",\"Pakistan\",\"Afghanistan\",\"Sierra Leone\",\"Suriname\",\"Bhutan\",\"Togo\",\"Cambodia\",\"Angola\",\"Guinea\",\"Mali\",\"Rwanda\",\"Uganda\",\"Myanmar\",\"Kiribati\",\"Haiti\",\"Ivory Coast\",\"Zimbabwe\",\"Madagascar\",\"Malawi\",\"Gabon\",\"Liberia\",\"Ethiopia\",\"Guinea0Bissau\",\"Ghana\",\"Chad\",\"Senegal\",\"Benin\",\"South Sudan\",\"Central African Republic\",\"Mozambique\",\"S\\u00ef\\u00bf\\u00bd\\u00ef\\u00bf\\u00bd\\u00ef\\u00bf\\u00bd\\u00ef\\u00bf\\u00bd\\u00ef\\u00bf\\u00bd\\u00ef\\u00bf\\u00bd\\u00ef\\u00bf\\u00bd\\u00ef\\u00bf\",\"Burkina Faso\",\"Burundi\",\"Niger\"],\"z\":[100.0,97.0,95.5,94.0,94.0,92.5,92.0,87.0,86.5,85.5,85.5,82.5,81.5,81.0,80.0,78.5,78.5,78.0,76.0,75.0,74.0,73.5,71.5,70.0,67.0,66.5,65.5,65.0,63.5,62.5,62.5,60.5,58.0,58.0,57.0,56.5,56.0,55.5,52.0,50.5,50.5,49.5,49.5,48.5,48.5,47.5,44.0,43.0,42.0,41.0,38.5,38.5,37.5,36.0,35.0,32.0,32.0,32.0,31.5,31.5,30.5,30.5,30.0,30.0,29.5,29.5,29.5,28.0,27.5,27.0,26.0,23.5,23.5,23.5,23.0,22.5,22.0,21.5,21.5,20.0,19.5,17.5,17.5,17.5,16.5,16.5,16.5,16.5,16.0,15.5,15.5,14.0,14.0,13.5,12.5,11.0,10.5,10.5,10.5,8.5,8.0,7.0,6.5,6.0,4.0,3.5,2.5],\"zmax\":100,\"zmin\":0,\"type\":\"choropleth\",\"geo\":\"geo3\"}],                        {\"template\":{\"data\":{\"histogram2dcontour\":[{\"type\":\"histogram2dcontour\",\"colorbar\":{\"outlinewidth\":0,\"ticks\":\"\"},\"colorscale\":[[0.0,\"#0d0887\"],[0.1111111111111111,\"#46039f\"],[0.2222222222222222,\"#7201a8\"],[0.3333333333333333,\"#9c179e\"],[0.4444444444444444,\"#bd3786\"],[0.5555555555555556,\"#d8576b\"],[0.6666666666666666,\"#ed7953\"],[0.7777777777777778,\"#fb9f3a\"],[0.8888888888888888,\"#fdca26\"],[1.0,\"#f0f921\"]]}],\"choropleth\":[{\"type\":\"choropleth\",\"colorbar\":{\"outlinewidth\":0,\"ticks\":\"\"}}],\"histogram2d\":[{\"type\":\"histogram2d\",\"colorbar\":{\"outlinewidth\":0,\"ticks\":\"\"},\"colorscale\":[[0.0,\"#0d0887\"],[0.1111111111111111,\"#46039f\"],[0.2222222222222222,\"#7201a8\"],[0.3333333333333333,\"#9c179e\"],[0.4444444444444444,\"#bd3786\"],[0.5555555555555556,\"#d8576b\"],[0.6666666666666666,\"#ed7953\"],[0.7777777777777778,\"#fb9f3a\"],[0.8888888888888888,\"#fdca26\"],[1.0,\"#f0f921\"]]}],\"heatmap\":[{\"type\":\"heatmap\",\"colorbar\":{\"outlinewidth\":0,\"ticks\":\"\"},\"colorscale\":[[0.0,\"#0d0887\"],[0.1111111111111111,\"#46039f\"],[0.2222222222222222,\"#7201a8\"],[0.3333333333333333,\"#9c179e\"],[0.4444444444444444,\"#bd3786\"],[0.5555555555555556,\"#d8576b\"],[0.6666666666666666,\"#ed7953\"],[0.7777777777777778,\"#fb9f3a\"],[0.8888888888888888,\"#fdca26\"],[1.0,\"#f0f921\"]]}],\"heatmapgl\":[{\"type\":\"heatmapgl\",\"colorbar\":{\"outlinewidth\":0,\"ticks\":\"\"},\"colorscale\":[[0.0,\"#0d0887\"],[0.1111111111111111,\"#46039f\"],[0.2222222222222222,\"#7201a8\"],[0.3333333333333333,\"#9c179e\"],[0.4444444444444444,\"#bd3786\"],[0.5555555555555556,\"#d8576b\"],[0.6666666666666666,\"#ed7953\"],[0.7777777777777778,\"#fb9f3a\"],[0.8888888888888888,\"#fdca26\"],[1.0,\"#f0f921\"]]}],\"contourcarpet\":[{\"type\":\"contourcarpet\",\"colorbar\":{\"outlinewidth\":0,\"ticks\":\"\"}}],\"contour\":[{\"type\":\"contour\",\"colorbar\":{\"outlinewidth\":0,\"ticks\":\"\"},\"colorscale\":[[0.0,\"#0d0887\"],[0.1111111111111111,\"#46039f\"],[0.2222222222222222,\"#7201a8\"],[0.3333333333333333,\"#9c179e\"],[0.4444444444444444,\"#bd3786\"],[0.5555555555555556,\"#d8576b\"],[0.6666666666666666,\"#ed7953\"],[0.7777777777777778,\"#fb9f3a\"],[0.8888888888888888,\"#fdca26\"],[1.0,\"#f0f921\"]]}],\"surface\":[{\"type\":\"surface\",\"colorbar\":{\"outlinewidth\":0,\"ticks\":\"\"},\"colorscale\":[[0.0,\"#0d0887\"],[0.1111111111111111,\"#46039f\"],[0.2222222222222222,\"#7201a8\"],[0.3333333333333333,\"#9c179e\"],[0.4444444444444444,\"#bd3786\"],[0.5555555555555556,\"#d8576b\"],[0.6666666666666666,\"#ed7953\"],[0.7777777777777778,\"#fb9f3a\"],[0.8888888888888888,\"#fdca26\"],[1.0,\"#f0f921\"]]}],\"mesh3d\":[{\"type\":\"mesh3d\",\"colorbar\":{\"outlinewidth\":0,\"ticks\":\"\"}}],\"scatter\":[{\"fillpattern\":{\"fillmode\":\"overlay\",\"size\":10,\"solidity\":0.2},\"type\":\"scatter\"}],\"parcoords\":[{\"type\":\"parcoords\",\"line\":{\"colorbar\":{\"outlinewidth\":0,\"ticks\":\"\"}}}],\"scatterpolargl\":[{\"type\":\"scatterpolargl\",\"marker\":{\"colorbar\":{\"outlinewidth\":0,\"ticks\":\"\"}}}],\"bar\":[{\"error_x\":{\"color\":\"#2a3f5f\"},\"error_y\":{\"color\":\"#2a3f5f\"},\"marker\":{\"line\":{\"color\":\"#E5ECF6\",\"width\":0.5},\"pattern\":{\"fillmode\":\"overlay\",\"size\":10,\"solidity\":0.2}},\"type\":\"bar\"}],\"scattergeo\":[{\"type\":\"scattergeo\",\"marker\":{\"colorbar\":{\"outlinewidth\":0,\"ticks\":\"\"}}}],\"scatterpolar\":[{\"type\":\"scatterpolar\",\"marker\":{\"colorbar\":{\"outlinewidth\":0,\"ticks\":\"\"}}}],\"histogram\":[{\"marker\":{\"pattern\":{\"fillmode\":\"overlay\",\"size\":10,\"solidity\":0.2}},\"type\":\"histogram\"}],\"scattergl\":[{\"type\":\"scattergl\",\"marker\":{\"colorbar\":{\"outlinewidth\":0,\"ticks\":\"\"}}}],\"scatter3d\":[{\"type\":\"scatter3d\",\"line\":{\"colorbar\":{\"outlinewidth\":0,\"ticks\":\"\"}},\"marker\":{\"colorbar\":{\"outlinewidth\":0,\"ticks\":\"\"}}}],\"scattermapbox\":[{\"type\":\"scattermapbox\",\"marker\":{\"colorbar\":{\"outlinewidth\":0,\"ticks\":\"\"}}}],\"scatterternary\":[{\"type\":\"scatterternary\",\"marker\":{\"colorbar\":{\"outlinewidth\":0,\"ticks\":\"\"}}}],\"scattercarpet\":[{\"type\":\"scattercarpet\",\"marker\":{\"colorbar\":{\"outlinewidth\":0,\"ticks\":\"\"}}}],\"carpet\":[{\"aaxis\":{\"endlinecolor\":\"#2a3f5f\",\"gridcolor\":\"white\",\"linecolor\":\"white\",\"minorgridcolor\":\"white\",\"startlinecolor\":\"#2a3f5f\"},\"baxis\":{\"endlinecolor\":\"#2a3f5f\",\"gridcolor\":\"white\",\"linecolor\":\"white\",\"minorgridcolor\":\"white\",\"startlinecolor\":\"#2a3f5f\"},\"type\":\"carpet\"}],\"table\":[{\"cells\":{\"fill\":{\"color\":\"#EBF0F8\"},\"line\":{\"color\":\"white\"}},\"header\":{\"fill\":{\"color\":\"#C8D4E3\"},\"line\":{\"color\":\"white\"}},\"type\":\"table\"}],\"barpolar\":[{\"marker\":{\"line\":{\"color\":\"#E5ECF6\",\"width\":0.5},\"pattern\":{\"fillmode\":\"overlay\",\"size\":10,\"solidity\":0.2}},\"type\":\"barpolar\"}],\"pie\":[{\"automargin\":true,\"type\":\"pie\"}]},\"layout\":{\"autotypenumbers\":\"strict\",\"colorway\":[\"#636efa\",\"#EF553B\",\"#00cc96\",\"#ab63fa\",\"#FFA15A\",\"#19d3f3\",\"#FF6692\",\"#B6E880\",\"#FF97FF\",\"#FECB52\"],\"font\":{\"color\":\"#2a3f5f\"},\"hovermode\":\"closest\",\"hoverlabel\":{\"align\":\"left\"},\"paper_bgcolor\":\"white\",\"plot_bgcolor\":\"#E5ECF6\",\"polar\":{\"bgcolor\":\"#E5ECF6\",\"angularaxis\":{\"gridcolor\":\"white\",\"linecolor\":\"white\",\"ticks\":\"\"},\"radialaxis\":{\"gridcolor\":\"white\",\"linecolor\":\"white\",\"ticks\":\"\"}},\"ternary\":{\"bgcolor\":\"#E5ECF6\",\"aaxis\":{\"gridcolor\":\"white\",\"linecolor\":\"white\",\"ticks\":\"\"},\"baxis\":{\"gridcolor\":\"white\",\"linecolor\":\"white\",\"ticks\":\"\"},\"caxis\":{\"gridcolor\":\"white\",\"linecolor\":\"white\",\"ticks\":\"\"}},\"coloraxis\":{\"colorbar\":{\"outlinewidth\":0,\"ticks\":\"\"}},\"colorscale\":{\"sequential\":[[0.0,\"#0d0887\"],[0.1111111111111111,\"#46039f\"],[0.2222222222222222,\"#7201a8\"],[0.3333333333333333,\"#9c179e\"],[0.4444444444444444,\"#bd3786\"],[0.5555555555555556,\"#d8576b\"],[0.6666666666666666,\"#ed7953\"],[0.7777777777777778,\"#fb9f3a\"],[0.8888888888888888,\"#fdca26\"],[1.0,\"#f0f921\"]],\"sequentialminus\":[[0.0,\"#0d0887\"],[0.1111111111111111,\"#46039f\"],[0.2222222222222222,\"#7201a8\"],[0.3333333333333333,\"#9c179e\"],[0.4444444444444444,\"#bd3786\"],[0.5555555555555556,\"#d8576b\"],[0.6666666666666666,\"#ed7953\"],[0.7777777777777778,\"#fb9f3a\"],[0.8888888888888888,\"#fdca26\"],[1.0,\"#f0f921\"]],\"diverging\":[[0,\"#8e0152\"],[0.1,\"#c51b7d\"],[0.2,\"#de77ae\"],[0.3,\"#f1b6da\"],[0.4,\"#fde0ef\"],[0.5,\"#f7f7f7\"],[0.6,\"#e6f5d0\"],[0.7,\"#b8e186\"],[0.8,\"#7fbc41\"],[0.9,\"#4d9221\"],[1,\"#276419\"]]},\"xaxis\":{\"gridcolor\":\"white\",\"linecolor\":\"white\",\"ticks\":\"\",\"title\":{\"standoff\":15},\"zerolinecolor\":\"white\",\"automargin\":true,\"zerolinewidth\":2},\"yaxis\":{\"gridcolor\":\"white\",\"linecolor\":\"white\",\"ticks\":\"\",\"title\":{\"standoff\":15},\"zerolinecolor\":\"white\",\"automargin\":true,\"zerolinewidth\":2},\"scene\":{\"xaxis\":{\"backgroundcolor\":\"#E5ECF6\",\"gridcolor\":\"white\",\"linecolor\":\"white\",\"showbackground\":true,\"ticks\":\"\",\"zerolinecolor\":\"white\",\"gridwidth\":2},\"yaxis\":{\"backgroundcolor\":\"#E5ECF6\",\"gridcolor\":\"white\",\"linecolor\":\"white\",\"showbackground\":true,\"ticks\":\"\",\"zerolinecolor\":\"white\",\"gridwidth\":2},\"zaxis\":{\"backgroundcolor\":\"#E5ECF6\",\"gridcolor\":\"white\",\"linecolor\":\"white\",\"showbackground\":true,\"ticks\":\"\",\"zerolinecolor\":\"white\",\"gridwidth\":2}},\"shapedefaults\":{\"line\":{\"color\":\"#2a3f5f\"}},\"annotationdefaults\":{\"arrowcolor\":\"#2a3f5f\",\"arrowhead\":0,\"arrowwidth\":1},\"geo\":{\"bgcolor\":\"white\",\"landcolor\":\"#E5ECF6\",\"subunitcolor\":\"white\",\"showland\":true,\"showlakes\":true,\"lakecolor\":\"white\"},\"title\":{\"x\":0.05},\"mapbox\":{\"style\":\"light\"}}},\"geo\":{\"domain\":{\"x\":[0.0,1.0],\"y\":[0.7777777777777778,1.0]},\"projection\":{\"type\":\"natural earth\"}},\"geo2\":{\"domain\":{\"x\":[0.0,1.0],\"y\":[0.3888888888888889,0.6111111111111112]},\"projection\":{\"type\":\"natural earth\"}},\"geo3\":{\"domain\":{\"x\":[0.0,1.0],\"y\":[0.0,0.22222222222222224]},\"projection\":{\"type\":\"natural earth\"}},\"annotations\":[{\"font\":{\"size\":16},\"showarrow\":false,\"text\":\"Educaci\\u00f3n Primaria - Media de G\\u00e9neros\",\"x\":0.5,\"xanchor\":\"center\",\"xref\":\"paper\",\"y\":1.0,\"yanchor\":\"bottom\",\"yref\":\"paper\"},{\"font\":{\"size\":16},\"showarrow\":false,\"text\":\"Primer Ciclo Secundaria - Media de G\\u00e9neros\",\"x\":0.5,\"xanchor\":\"center\",\"xref\":\"paper\",\"y\":0.6111111111111112,\"yanchor\":\"bottom\",\"yref\":\"paper\"},{\"font\":{\"size\":16},\"showarrow\":false,\"text\":\"Segundo Ciclo Secundaria - Media de G\\u00e9neros\",\"x\":0.5,\"xanchor\":\"center\",\"xref\":\"paper\",\"y\":0.22222222222222224,\"yanchor\":\"bottom\",\"yref\":\"paper\"}],\"title\":{\"text\":\"Tasas de Finalizaci\\u00f3n por Nivel\"},\"height\":1000,\"width\":1200},                        {\"responsive\": true}                    ).then(function(){\n",
              "                            \n",
              "var gd = document.getElementById('eef2d960-dfe3-411c-bdc8-0bbd5d976d7f');\n",
              "var x = new MutationObserver(function (mutations, observer) {{\n",
              "        var display = window.getComputedStyle(gd).display;\n",
              "        if (!display || display === 'none') {{\n",
              "            console.log([gd, 'removed!']);\n",
              "            Plotly.purge(gd);\n",
              "            observer.disconnect();\n",
              "        }}\n",
              "}});\n",
              "\n",
              "// Listen for the removal of the full notebook cells\n",
              "var notebookContainer = gd.closest('#notebook-container');\n",
              "if (notebookContainer) {{\n",
              "    x.observe(notebookContainer, {childList: true});\n",
              "}}\n",
              "\n",
              "// Listen for the clearing of the current output cell\n",
              "var outputEl = gd.closest('.output');\n",
              "if (outputEl) {{\n",
              "    x.observe(outputEl, {childList: true});\n",
              "}}\n",
              "\n",
              "                        })                };                            </script>        </div>\n",
              "</body>\n",
              "</html>"
            ]
          },
          "metadata": {}
        }
      ]
    },
    {
      "cell_type": "markdown",
      "source": [
        "##Clustering"
      ],
      "metadata": {
        "id": "JmZY3qvwJIb9"
      }
    },
    {
      "cell_type": "code",
      "source": [
        "from functools import reduce\n",
        "# Lista de dataframes\n",
        "\n",
        "df_desempleo = df_eg[['Paises','Tasa Desempleo']] # Nos quedamos solo con el Desempleo en el dataframe de Educacion Global, porque los datos de Escolarizacion tienen pocos paises registrados y para\n",
        "                                          #el clustering queriamos abarcar la mayor cantidad de naciones.\n",
        "\n",
        "\n",
        "dataframes = [df_le, df_f, df_desempleo , df_pbi, df_ev, df_s] #Clusterizamos segun Libertad Economica, Felicidad, Desempleo, PBI, Esperanza de vida y Tasa de Suicidios.\n",
        "\n",
        "# Utilizar la función reduce y merge para combinar dataframes en base a 'Paises'\n",
        "merged_df = reduce(lambda left, right: pd.merge(left, right, on='Paises', how='inner'), dataframes)\n",
        "\n"
      ],
      "metadata": {
        "id": "XK-DnaJdF4hb"
      },
      "execution_count": 124,
      "outputs": []
    },
    {
      "cell_type": "markdown",
      "source": [
        "#Hayar el K optimo"
      ],
      "metadata": {
        "id": "BTyaI2PuJM-a"
      }
    },
    {
      "cell_type": "code",
      "source": [
        "from sklearn.cluster import KMeans\n",
        "def find_optimal_clusters_kmeans(data, max_k):\n",
        "    sse = []  # Sum of squared errors\n",
        "    for k in range(1, max_k + 1):\n",
        "        kmeans = KMeans(n_clusters=k, n_init=10).fit(data)\n",
        "        sse.append(kmeans.inertia_)\n",
        "\n",
        "    plt.plot(range(1, max_k + 1), sse, 'o-')\n",
        "    plt.xlabel(\"Number of Clusters\")\n",
        "    plt.ylabel(\"Sum of Squared Errors (SSE)\")\n",
        "    plt.title(\"Figura 1\")\n",
        "    plt.show()\n",
        "\n",
        "find_optimal_clusters_kmeans(merged_df[['Libertad Economica', 'Felicidad', 'PBI', 'Esperanza de vida','Ratio de suicidios']], 10)\n"
      ],
      "metadata": {
        "colab": {
          "base_uri": "https://localhost:8080/",
          "height": 472
        },
        "id": "bYako9ToFoqD",
        "outputId": "2e4ee909-de56-45d1-ecb6-27215a1ed86d"
      },
      "execution_count": 125,
      "outputs": [
        {
          "output_type": "display_data",
          "data": {
            "text/plain": [
              "<Figure size 640x480 with 1 Axes>"
            ],
            "image/png": "[encoded data removed]"
          },
          "metadata": {}
        }
      ]
    },
    {
      "cell_type": "markdown",
      "source": [
        "#Clustering y Grafico"
      ],
      "metadata": {
        "id": "I67a309CJatx"
      }
    },
    {
      "cell_type": "code",
      "source": [
        "# Selecciona las columnas para el clustering\n",
        "data = merged_df[['Libertad Economica', 'Felicidad', 'PBI', 'Esperanza de vida', 'Ratio de suicidios']].values\n",
        "\n",
        "# Aplicar KMeans con n_clusters=3\n",
        "random_seed = 6\n",
        "kmeans = KMeans(n_clusters=3, random_state=random_seed, n_init=10, init='k-means++')\n",
        "clusters = kmeans.fit_predict(data)\n",
        "\n",
        "# Obtener las asignaciones de cluster para cada estado\n",
        "cluster_assignments = kmeans.labels_\n",
        "\n",
        "# Agregar la información de cluster al DataFrame original\n",
        "merged_df['Cluster'] = cluster_assignments"
      ],
      "metadata": {
        "id": "we22cwrxGLBV"
      },
      "execution_count": 126,
      "outputs": []
    },
    {
      "cell_type": "code",
      "source": [
        "fig = px.choropleth(merged_df,\n",
        "                    locations='Paises',\n",
        "                    locationmode='country names',\n",
        "                    color='Cluster',\n",
        "                    projection='orthographic',\n",
        "                    title='Mapa Mundial con Proyección en Globo',\n",
        "                    color_continuous_scale='Viridis')\n",
        "\n",
        "# Ajusta el centro para centrar la proyección\n",
        "fig.update_geos(center=dict(lon=0, lat=0))\n",
        "\n",
        "# Configura el colorbar con tickvals para mostrar solo valores enteros\n",
        "fig.update_coloraxes(colorbar=dict(tickvals=[0, 1, 2], ticktext=['0', '1', '2']))\n",
        "\n",
        "# Muestra el gráfico\n",
        "fig.show()"
      ],
      "metadata": {
        "id": "JOm7GS8iMKzM",
        "outputId": "0045614e-bc7d-4bd4-c4e4-4214d96b858a",
        "colab": {
          "base_uri": "https://localhost:8080/",
          "height": 542
        }
      },
      "execution_count": 127,
      "outputs": [
        {
          "output_type": "display_data",
          "data": {
            "text/html": [
              "<html>\n",
              "<head><meta charset=\"utf-8\" /></head>\n",
              "<body>\n",
              "    <div>            <script src=\"https://cdnjs.cloudflare.com/ajax/libs/mathjax/2.7.5/MathJax.js?config=TeX-AMS-MML_SVG\"></script><script type=\"text/javascript\">if (window.MathJax && window.MathJax.Hub && window.MathJax.Hub.Config) {window.MathJax.Hub.Config({SVG: {font: \"STIX-Web\"}});}</script>                <script type=\"text/javascript\">window.PlotlyConfig = {MathJaxConfig: 'local'};</script>\n",
              "        <script charset=\"utf-8\" src=\"https://cdn.plot.ly/plotly-2.24.1.min.js\"></script>                <div id=\"a5f6a958-83f0-4a60-a4c9-f11f9e0e029c\" class=\"plotly-graph-div\" style=\"height:525px; width:100%;\"></div>            <script type=\"text/javascript\">                                    window.PLOTLYENV=window.PLOTLYENV || {};                                    if (document.getElementById(\"a5f6a958-83f0-4a60-a4c9-f11f9e0e029c\")) {                    Plotly.newPlot(                        \"a5f6a958-83f0-4a60-a4c9-f11f9e0e029c\",                        [{\"coloraxis\":\"coloraxis\",\"geo\":\"geo\",\"hovertemplate\":\"Paises=%{location}\\u003cbr\\u003eCluster=%{z}\\u003cextra\\u003e\\u003c\\u002fextra\\u003e\",\"locationmode\":\"country names\",\"locations\":[\"Algeria\",\"Argentina\",\"Armenia\",\"Australia\",\"Austria\",\"Azerbaijan\",\"Bahrain\",\"Bangladesh\",\"Belarus\",\"Belgium\",\"Benin\",\"Bolivia\",\"Bosnia and Herzegovina\",\"Botswana\",\"Brazil\",\"Bulgaria\",\"Burkina Faso\",\"Burundi\",\"Cambodia\",\"Cameroon\",\"Canada\",\"Chad\",\"Chile\",\"China\",\"Colombia\",\"Costa Rica\",\"Croatia\",\"Cyprus\",\"Denmark\",\"Ecuador\",\"Egypt\",\"El Salvador\",\"Estonia\",\"Ethiopia\",\"Finland\",\"France\",\"Gabon\",\"Georgia\",\"Germany\",\"Ghana\",\"Greece\",\"Guatemala\",\"Guinea\",\"Guinea\",\"Guinea\",\"Guinea\",\"Guinea\",\"Guinea\",\"Guinea\",\"Guinea\",\"Haiti\",\"Honduras\",\"Hungary\",\"Iceland\",\"India\",\"Indonesia\",\"Iran\",\"Iraq\",\"Israel\",\"Italy\",\"Jamaica\",\"Japan\",\"Jordan\",\"Kazakhstan\",\"Kenya\",\"Kuwait\",\"Laos\",\"Latvia\",\"Lebanon\",\"Lesotho\",\"Liberia\",\"Libya\",\"Lithuania\",\"Luxembourg\",\"Madagascar\",\"Malawi\",\"Malaysia\",\"Mali\",\"Malta\",\"Mauritania\",\"Mauritius\",\"Mexico\",\"Moldova\",\"Mongolia\",\"Montenegro\",\"Morocco\",\"Mozambique\",\"Myanmar\",\"Namibia\",\"Nepal\",\"Netherlands\",\"New Zealand\",\"Nicaragua\",\"Niger\",\"Nigeria\",\"Norway\",\"Pakistan\",\"Panama\",\"Paraguay\",\"Peru\",\"Philippines\",\"Poland\",\"Portugal\",\"Romania\",\"Russia\",\"Rwanda\",\"Saudi Arabia\",\"Senegal\",\"Serbia\",\"Sierra Leone\",\"Singapore\",\"Slovenia\",\"South Africa\",\"Spain\",\"Sri Lanka\",\"Sweden\",\"Tajikistan\",\"Tanzania\",\"Thailand\",\"Togo\",\"Tunisia\",\"Turkey\",\"Uganda\",\"Ukraine\",\"United Kingdom\",\"United States\",\"Uruguay\",\"Venezuela\",\"Vietnam\",\"Zambia\",\"Zimbabwe\"],\"name\":\"\",\"z\":[0,0,0,2,2,0,2,0,0,2,0,0,0,0,0,0,0,0,0,0,2,0,2,0,0,0,2,2,2,0,0,0,2,0,2,2,0,0,2,0,2,0,0,0,0,0,0,0,0,0,0,0,2,2,0,0,0,0,2,2,0,2,0,2,0,2,0,2,0,0,0,0,2,1,0,0,2,0,2,0,0,0,0,0,0,0,0,0,0,0,2,2,0,0,0,1,0,2,0,0,0,2,2,2,2,0,2,0,0,0,1,2,0,2,0,2,0,0,0,0,0,2,0,0,2,2,0,0,0,0,0],\"type\":\"choropleth\"}],                        {\"template\":{\"data\":{\"histogram2dcontour\":[{\"type\":\"histogram2dcontour\",\"colorbar\":{\"outlinewidth\":0,\"ticks\":\"\"},\"colorscale\":[[0.0,\"#0d0887\"],[0.1111111111111111,\"#46039f\"],[0.2222222222222222,\"#7201a8\"],[0.3333333333333333,\"#9c179e\"],[0.4444444444444444,\"#bd3786\"],[0.5555555555555556,\"#d8576b\"],[0.6666666666666666,\"#ed7953\"],[0.7777777777777778,\"#fb9f3a\"],[0.8888888888888888,\"#fdca26\"],[1.0,\"#f0f921\"]]}],\"choropleth\":[{\"type\":\"choropleth\",\"colorbar\":{\"outlinewidth\":0,\"ticks\":\"\"}}],\"histogram2d\":[{\"type\":\"histogram2d\",\"colorbar\":{\"outlinewidth\":0,\"ticks\":\"\"},\"colorscale\":[[0.0,\"#0d0887\"],[0.1111111111111111,\"#46039f\"],[0.2222222222222222,\"#7201a8\"],[0.3333333333333333,\"#9c179e\"],[0.4444444444444444,\"#bd3786\"],[0.5555555555555556,\"#d8576b\"],[0.6666666666666666,\"#ed7953\"],[0.7777777777777778,\"#fb9f3a\"],[0.8888888888888888,\"#fdca26\"],[1.0,\"#f0f921\"]]}],\"heatmap\":[{\"type\":\"heatmap\",\"colorbar\":{\"outlinewidth\":0,\"ticks\":\"\"},\"colorscale\":[[0.0,\"#0d0887\"],[0.1111111111111111,\"#46039f\"],[0.2222222222222222,\"#7201a8\"],[0.3333333333333333,\"#9c179e\"],[0.4444444444444444,\"#bd3786\"],[0.5555555555555556,\"#d8576b\"],[0.6666666666666666,\"#ed7953\"],[0.7777777777777778,\"#fb9f3a\"],[0.8888888888888888,\"#fdca26\"],[1.0,\"#f0f921\"]]}],\"heatmapgl\":[{\"type\":\"heatmapgl\",\"colorbar\":{\"outlinewidth\":0,\"ticks\":\"\"},\"colorscale\":[[0.0,\"#0d0887\"],[0.1111111111111111,\"#46039f\"],[0.2222222222222222,\"#7201a8\"],[0.3333333333333333,\"#9c179e\"],[0.4444444444444444,\"#bd3786\"],[0.5555555555555556,\"#d8576b\"],[0.6666666666666666,\"#ed7953\"],[0.7777777777777778,\"#fb9f3a\"],[0.8888888888888888,\"#fdca26\"],[1.0,\"#f0f921\"]]}],\"contourcarpet\":[{\"type\":\"contourcarpet\",\"colorbar\":{\"outlinewidth\":0,\"ticks\":\"\"}}],\"contour\":[{\"type\":\"contour\",\"colorbar\":{\"outlinewidth\":0,\"ticks\":\"\"},\"colorscale\":[[0.0,\"#0d0887\"],[0.1111111111111111,\"#46039f\"],[0.2222222222222222,\"#7201a8\"],[0.3333333333333333,\"#9c179e\"],[0.4444444444444444,\"#bd3786\"],[0.5555555555555556,\"#d8576b\"],[0.6666666666666666,\"#ed7953\"],[0.7777777777777778,\"#fb9f3a\"],[0.8888888888888888,\"#fdca26\"],[1.0,\"#f0f921\"]]}],\"surface\":[{\"type\":\"surface\",\"colorbar\":{\"outlinewidth\":0,\"ticks\":\"\"},\"colorscale\":[[0.0,\"#0d0887\"],[0.1111111111111111,\"#46039f\"],[0.2222222222222222,\"#7201a8\"],[0.3333333333333333,\"#9c179e\"],[0.4444444444444444,\"#bd3786\"],[0.5555555555555556,\"#d8576b\"],[0.6666666666666666,\"#ed7953\"],[0.7777777777777778,\"#fb9f3a\"],[0.8888888888888888,\"#fdca26\"],[1.0,\"#f0f921\"]]}],\"mesh3d\":[{\"type\":\"mesh3d\",\"colorbar\":{\"outlinewidth\":0,\"ticks\":\"\"}}],\"scatter\":[{\"fillpattern\":{\"fillmode\":\"overlay\",\"size\":10,\"solidity\":0.2},\"type\":\"scatter\"}],\"parcoords\":[{\"type\":\"parcoords\",\"line\":{\"colorbar\":{\"outlinewidth\":0,\"ticks\":\"\"}}}],\"scatterpolargl\":[{\"type\":\"scatterpolargl\",\"marker\":{\"colorbar\":{\"outlinewidth\":0,\"ticks\":\"\"}}}],\"bar\":[{\"error_x\":{\"color\":\"#2a3f5f\"},\"error_y\":{\"color\":\"#2a3f5f\"},\"marker\":{\"line\":{\"color\":\"#E5ECF6\",\"width\":0.5},\"pattern\":{\"fillmode\":\"overlay\",\"size\":10,\"solidity\":0.2}},\"type\":\"bar\"}],\"scattergeo\":[{\"type\":\"scattergeo\",\"marker\":{\"colorbar\":{\"outlinewidth\":0,\"ticks\":\"\"}}}],\"scatterpolar\":[{\"type\":\"scatterpolar\",\"marker\":{\"colorbar\":{\"outlinewidth\":0,\"ticks\":\"\"}}}],\"histogram\":[{\"marker\":{\"pattern\":{\"fillmode\":\"overlay\",\"size\":10,\"solidity\":0.2}},\"type\":\"histogram\"}],\"scattergl\":[{\"type\":\"scattergl\",\"marker\":{\"colorbar\":{\"outlinewidth\":0,\"ticks\":\"\"}}}],\"scatter3d\":[{\"type\":\"scatter3d\",\"line\":{\"colorbar\":{\"outlinewidth\":0,\"ticks\":\"\"}},\"marker\":{\"colorbar\":{\"outlinewidth\":0,\"ticks\":\"\"}}}],\"scattermapbox\":[{\"type\":\"scattermapbox\",\"marker\":{\"colorbar\":{\"outlinewidth\":0,\"ticks\":\"\"}}}],\"scatterternary\":[{\"type\":\"scatterternary\",\"marker\":{\"colorbar\":{\"outlinewidth\":0,\"ticks\":\"\"}}}],\"scattercarpet\":[{\"type\":\"scattercarpet\",\"marker\":{\"colorbar\":{\"outlinewidth\":0,\"ticks\":\"\"}}}],\"carpet\":[{\"aaxis\":{\"endlinecolor\":\"#2a3f5f\",\"gridcolor\":\"white\",\"linecolor\":\"white\",\"minorgridcolor\":\"white\",\"startlinecolor\":\"#2a3f5f\"},\"baxis\":{\"endlinecolor\":\"#2a3f5f\",\"gridcolor\":\"white\",\"linecolor\":\"white\",\"minorgridcolor\":\"white\",\"startlinecolor\":\"#2a3f5f\"},\"type\":\"carpet\"}],\"table\":[{\"cells\":{\"fill\":{\"color\":\"#EBF0F8\"},\"line\":{\"color\":\"white\"}},\"header\":{\"fill\":{\"color\":\"#C8D4E3\"},\"line\":{\"color\":\"white\"}},\"type\":\"table\"}],\"barpolar\":[{\"marker\":{\"line\":{\"color\":\"#E5ECF6\",\"width\":0.5},\"pattern\":{\"fillmode\":\"overlay\",\"size\":10,\"solidity\":0.2}},\"type\":\"barpolar\"}],\"pie\":[{\"automargin\":true,\"type\":\"pie\"}]},\"layout\":{\"autotypenumbers\":\"strict\",\"colorway\":[\"#636efa\",\"#EF553B\",\"#00cc96\",\"#ab63fa\",\"#FFA15A\",\"#19d3f3\",\"#FF6692\",\"#B6E880\",\"#FF97FF\",\"#FECB52\"],\"font\":{\"color\":\"#2a3f5f\"},\"hovermode\":\"closest\",\"hoverlabel\":{\"align\":\"left\"},\"paper_bgcolor\":\"white\",\"plot_bgcolor\":\"#E5ECF6\",\"polar\":{\"bgcolor\":\"#E5ECF6\",\"angularaxis\":{\"gridcolor\":\"white\",\"linecolor\":\"white\",\"ticks\":\"\"},\"radialaxis\":{\"gridcolor\":\"white\",\"linecolor\":\"white\",\"ticks\":\"\"}},\"ternary\":{\"bgcolor\":\"#E5ECF6\",\"aaxis\":{\"gridcolor\":\"white\",\"linecolor\":\"white\",\"ticks\":\"\"},\"baxis\":{\"gridcolor\":\"white\",\"linecolor\":\"white\",\"ticks\":\"\"},\"caxis\":{\"gridcolor\":\"white\",\"linecolor\":\"white\",\"ticks\":\"\"}},\"coloraxis\":{\"colorbar\":{\"outlinewidth\":0,\"ticks\":\"\"}},\"colorscale\":{\"sequential\":[[0.0,\"#0d0887\"],[0.1111111111111111,\"#46039f\"],[0.2222222222222222,\"#7201a8\"],[0.3333333333333333,\"#9c179e\"],[0.4444444444444444,\"#bd3786\"],[0.5555555555555556,\"#d8576b\"],[0.6666666666666666,\"#ed7953\"],[0.7777777777777778,\"#fb9f3a\"],[0.8888888888888888,\"#fdca26\"],[1.0,\"#f0f921\"]],\"sequentialminus\":[[0.0,\"#0d0887\"],[0.1111111111111111,\"#46039f\"],[0.2222222222222222,\"#7201a8\"],[0.3333333333333333,\"#9c179e\"],[0.4444444444444444,\"#bd3786\"],[0.5555555555555556,\"#d8576b\"],[0.6666666666666666,\"#ed7953\"],[0.7777777777777778,\"#fb9f3a\"],[0.8888888888888888,\"#fdca26\"],[1.0,\"#f0f921\"]],\"diverging\":[[0,\"#8e0152\"],[0.1,\"#c51b7d\"],[0.2,\"#de77ae\"],[0.3,\"#f1b6da\"],[0.4,\"#fde0ef\"],[0.5,\"#f7f7f7\"],[0.6,\"#e6f5d0\"],[0.7,\"#b8e186\"],[0.8,\"#7fbc41\"],[0.9,\"#4d9221\"],[1,\"#276419\"]]},\"xaxis\":{\"gridcolor\":\"white\",\"linecolor\":\"white\",\"ticks\":\"\",\"title\":{\"standoff\":15},\"zerolinecolor\":\"white\",\"automargin\":true,\"zerolinewidth\":2},\"yaxis\":{\"gridcolor\":\"white\",\"linecolor\":\"white\",\"ticks\":\"\",\"title\":{\"standoff\":15},\"zerolinecolor\":\"white\",\"automargin\":true,\"zerolinewidth\":2},\"scene\":{\"xaxis\":{\"backgroundcolor\":\"#E5ECF6\",\"gridcolor\":\"white\",\"linecolor\":\"white\",\"showbackground\":true,\"ticks\":\"\",\"zerolinecolor\":\"white\",\"gridwidth\":2},\"yaxis\":{\"backgroundcolor\":\"#E5ECF6\",\"gridcolor\":\"white\",\"linecolor\":\"white\",\"showbackground\":true,\"ticks\":\"\",\"zerolinecolor\":\"white\",\"gridwidth\":2},\"zaxis\":{\"backgroundcolor\":\"#E5ECF6\",\"gridcolor\":\"white\",\"linecolor\":\"white\",\"showbackground\":true,\"ticks\":\"\",\"zerolinecolor\":\"white\",\"gridwidth\":2}},\"shapedefaults\":{\"line\":{\"color\":\"#2a3f5f\"}},\"annotationdefaults\":{\"arrowcolor\":\"#2a3f5f\",\"arrowhead\":0,\"arrowwidth\":1},\"geo\":{\"bgcolor\":\"white\",\"landcolor\":\"#E5ECF6\",\"subunitcolor\":\"white\",\"showland\":true,\"showlakes\":true,\"lakecolor\":\"white\"},\"title\":{\"x\":0.05},\"mapbox\":{\"style\":\"light\"}}},\"geo\":{\"domain\":{\"x\":[0.0,1.0],\"y\":[0.0,1.0]},\"projection\":{\"type\":\"orthographic\"},\"center\":{\"lon\":0,\"lat\":0}},\"coloraxis\":{\"colorbar\":{\"title\":{\"text\":\"Cluster\"},\"tickvals\":[0,1,2],\"ticktext\":[\"0\",\"1\",\"2\"]},\"colorscale\":[[0.0,\"#440154\"],[0.1111111111111111,\"#482878\"],[0.2222222222222222,\"#3e4989\"],[0.3333333333333333,\"#31688e\"],[0.4444444444444444,\"#26828e\"],[0.5555555555555556,\"#1f9e89\"],[0.6666666666666666,\"#35b779\"],[0.7777777777777778,\"#6ece58\"],[0.8888888888888888,\"#b5de2b\"],[1.0,\"#fde725\"]]},\"legend\":{\"tracegroupgap\":0},\"title\":{\"text\":\"Mapa Mundial con Proyecci\\u00f3n en Globo\"}},                        {\"responsive\": true}                    ).then(function(){\n",
              "                            \n",
              "var gd = document.getElementById('a5f6a958-83f0-4a60-a4c9-f11f9e0e029c');\n",
              "var x = new MutationObserver(function (mutations, observer) {{\n",
              "        var display = window.getComputedStyle(gd).display;\n",
              "        if (!display || display === 'none') {{\n",
              "            console.log([gd, 'removed!']);\n",
              "            Plotly.purge(gd);\n",
              "            observer.disconnect();\n",
              "        }}\n",
              "}});\n",
              "\n",
              "// Listen for the removal of the full notebook cells\n",
              "var notebookContainer = gd.closest('#notebook-container');\n",
              "if (notebookContainer) {{\n",
              "    x.observe(notebookContainer, {childList: true});\n",
              "}}\n",
              "\n",
              "// Listen for the clearing of the current output cell\n",
              "var outputEl = gd.closest('.output');\n",
              "if (outputEl) {{\n",
              "    x.observe(outputEl, {childList: true});\n",
              "}}\n",
              "\n",
              "                        })                };                            </script>        </div>\n",
              "</body>\n",
              "</html>"
            ]
          },
          "metadata": {}
        }
      ]
    }
  ]
}