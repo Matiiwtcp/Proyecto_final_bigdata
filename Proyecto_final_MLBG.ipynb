{
  "nbformat": 4,
  "nbformat_minor": 0,
  "metadata": {
    "colab": {
      "provenance": [],
      "authorship_tag": "ABX9TyNcq6FhYnH0EUgYu9xtkzRm",
      "include_colab_link": true
    },
    "kernelspec": {
      "name": "python3",
      "display_name": "Python 3"
    },
    "language_info": {
      "name": "python"
    }
  },
  "cells": [
    {
      "cell_type": "markdown",
      "metadata": {
        "id": "view-in-github",
        "colab_type": "text"
      },
      "source": [
        "<a href=\"https://colab.research.google.com/github/Matiiwtcp/Proyecto_final_bigdata/blob/main/Proyecto_final_MLBG.ipynb\" target=\"_parent\"><img src=\"https://colab.research.google.com/assets/colab-badge.svg\" alt=\"Open In Colab\"/></a>"
      ]
    },
    {
      "cell_type": "markdown",
      "source": [
        "## Setup"
      ],
      "metadata": {
        "id": "oJFUbacqG85l"
      }
    },
    {
      "cell_type": "markdown",
      "source": [
        "Conectar drive"
      ],
      "metadata": {
        "id": "WJvsVoFHHBgt"
      }
    },
    {
      "cell_type": "code",
      "source": [
        "from google.colab import drive\n",
        "drive.mount('/content/drive')"
      ],
      "metadata": {
        "colab": {
          "base_uri": "https://localhost:8080/"
        },
        "id": "8dCkby2RJAi0",
        "outputId": "c20d4371-d544-4ee3-a2fc-33105ceb021a"
      },
      "execution_count": 1,
      "outputs": [
        {
          "output_type": "stream",
          "name": "stdout",
          "text": [
            "Drive already mounted at /content/drive; to attempt to forcibly remount, call drive.mount(\"/content/drive\", force_remount=True).\n"
          ]
        }
      ]
    },
    {
      "cell_type": "markdown",
      "source": [
        "Importamos librerias"
      ],
      "metadata": {
        "id": "IdAP9gjOKPAu"
      }
    },
    {
      "cell_type": "code",
      "source": [
        "#import os\n",
        "import numpy as np\n",
        "import pandas as pd\n",
        "import geopandas as gpd\n",
        "#import matplotlib.pyplot as plt\n",
        "#import plotly.express as px\n",
        "import plotly.graph_objects as go\n",
        "from plotly.subplots import make_subplots\n"
      ],
      "metadata": {
        "id": "ICrNHVnpKW-E"
      },
      "execution_count": 2,
      "outputs": []
    },
    {
      "cell_type": "markdown",
      "source": [
        "Cargamos dataset"
      ],
      "metadata": {
        "id": "UsTGCd5gLOG0"
      }
    },
    {
      "cell_type": "code",
      "execution_count": 3,
      "metadata": {
        "id": "kXdWnxGuFjzB"
      },
      "outputs": [],
      "source": [
        "ruta_de_archivos = '/content/drive/MyDrive/Global_Education.csv'\n",
        "dataframe = pd.read_csv(ruta_de_archivos, encoding='latin1')\n",
        "df = dataframe.copy ()"
      ]
    },
    {
      "cell_type": "code",
      "source": [
        "# Convertir valores nulos a NaN\n",
        "df.replace('Datos nulos', np.nan, inplace=True)\n",
        "# Eliminar filas con NaN\n",
        "df_cleaned = df.dropna()\n",
        "\n",
        "# Ajustar nombres de columnas eliminando espacios adicionales\n",
        "df.columns = df.columns.str.strip()\n",
        "\n",
        "# Diccionario de traducción de nombres de columnas\n",
        "nuevos_nombres = {\n",
        "    'Countries and areas': 'Países y Zonas',\n",
        "    'Latitude': 'Latitud',\n",
        "    'Longitude': 'Longitud',\n",
        "    'OOSR_Pre0Primary_Age_Male': 'Tasa No Escolarización Preescolar (Varones)',\n",
        "    'OOSR_Pre0Primary_Age_Female': 'Tasa No Escolarización Preescolar (Mujeres)',\n",
        "    'OOSR_Primary_Age_Male': 'Tasa No Escolarización Primaria (Varones)',\n",
        "    'OOSR_Primary_Age_Female': 'Tasa No Escolarización Primaria (Mujeres)',\n",
        "    'OOSR_Lower_Secondary_Age_Male': 'Tasa No Escolarización Primer Ciclo Secundaria (Varones)',\n",
        "    'OOSR_Lower_Secondary_Age_Female': 'Tasa No Escolarización Primer Ciclo Secundaria (Mujeres)',\n",
        "    'OOSR_Upper_Secondary_Age_Male': 'Tasa No Escolarización Segundo Ciclo Secundaria (Varones)',\n",
        "    'OOSR_Upper_Secondary_Age_Female': 'Tasa No Escolarización Segundo Ciclo Secundaria (Mujeres)',\n",
        "    'Completion_Rate_Primary_Male': 'Tasa Finalización Educación Primaria (Varones)',\n",
        "    'Completion_Rate_Primary_Female': 'Tasa Finalización Educación Primaria (Mujeres)',\n",
        "    'Completion_Rate_Lower_Secondary_Male': 'Tasa Finalización Primer Ciclo Secundaria (Varones)',\n",
        "    'Completion_Rate_Lower_Secondary_Female': 'Tasa Finalización Primer Ciclo Secundaria (Mujeres)',\n",
        "    'Completion_Rate_Upper_Secondary_Male': 'Tasa Finalización Segundo Ciclo Secundaria (Varones)',\n",
        "    'Completion_Rate_Upper_Secondary_Female': 'Tasa Finalización Segundo Ciclo Secundaria (Mujeres)',\n",
        "    'Grade_2_3_Proficiency_Reading': 'Competencia Lectura 2º y 3º Grado',\n",
        "    'Grade_2_3_Proficiency_Math': 'Competencia Matemáticas 2º y 3º Grado',\n",
        "    'Primary_End_Proficiency_Reading': 'Competencia Lectora Final Educación Primaria',\n",
        "    'Primary_End_Proficiency_Math': 'Dominio Matemáticas Final Educación Primaria',\n",
        "    'Lower_Secondary_End_Proficiency_Reading': 'Competencia Lectora Final Primer Ciclo Secundaria',\n",
        "    'Lower_Secondary_End_Proficiency_Math': 'Dominio Matemáticas Final Primer Ciclo Secundaria',\n",
        "    'Youth_15_24_Literacy_Rate_Male': 'Tasa Alfabetización Jóvenes (Varones 15-24 años)',\n",
        "    'Youth_15_24_Literacy_Rate_Female': 'Tasa Alfabetización Jóvenes (Mujeres 15-24 años)',\n",
        "    'Birth_Rate': 'Tasa Natalidad',\n",
        "    'Gross_Primary_Education_Enrollment': 'Matrícula Bruta Educación Primaria',\n",
        "    'Gross_Tertiary_Education_Enrollment': 'Matrícula Bruta Educación Terciaria',\n",
        "    'Unemployment_Rate': 'Tasa Desempleo'\n",
        "}\n",
        "\n",
        "\n",
        "# Renombrar las columnas en el DataFrame\n",
        "df.rename(columns=nuevos_nombres, inplace=True)"
      ],
      "metadata": {
        "id": "IvfxzPMjLStJ"
      },
      "execution_count": 4,
      "outputs": []
    },
    {
      "cell_type": "code",
      "source": [
        "# Crear mapas para tasas de no escolarización por nivel y media de géneros en dos filas\n",
        "niveles_educacion = ['Preescolar', 'Primaria', 'Primer Ciclo Secundaria', 'Segundo Ciclo Secundaria']\n",
        "num_filas = 2\n",
        "\n",
        "fig = make_subplots(rows=num_filas, cols=len(niveles_educacion)//num_filas,\n",
        "                    subplot_titles=[f'{nivel} - Media de Géneros' for nivel in niveles_educacion],\n",
        "                    specs=[[{'type': 'choropleth'}] * (len(niveles_educacion)//num_filas) for _ in range(num_filas)])\n",
        "\n",
        "colorbar_title = \"Tasa de No Escolarización (Media)\"\n",
        "zmin = 0  # Valor mínimo para la barra de colores\n",
        "zmax = 100  # Valor máximo para la barra de colores\n",
        "\n",
        "for i, nivel in enumerate(niveles_educacion, start=1):\n",
        "    # Calcular la media de las tasas para ambos géneros\n",
        "    columna_varones = f'Tasa No Escolarización {nivel} (Varones)'\n",
        "    columna_mujeres = f'Tasa No Escolarización {nivel} (Mujeres)'\n",
        "    df[f'Tasa No Escolarización {nivel} (Media)'] = df[[columna_varones, columna_mujeres]].mean(axis=1)\n",
        "\n",
        "    # Ordenar el DataFrame por la tasa media\n",
        "    df_sorted = df.sort_values(by=f'Tasa No Escolarización {nivel} (Media)', ascending=False)\n",
        "\n",
        "    # Obtener datos para el choropleth\n",
        "    data = go.Choropleth(\n",
        "        locations=df_sorted['Países y Zonas'],\n",
        "        locationmode='country names',\n",
        "        z=df_sorted[f'Tasa No Escolarización {nivel} (Media)'],\n",
        "        colorscale='Viridis',\n",
        "        colorbar=dict(title=colorbar_title),\n",
        "        zmin=zmin,  # Establecer valor mínimo para la escala de colores\n",
        "        zmax=zmax  # Establecer valor máximo para la escala de colores\n",
        "    )\n",
        "\n",
        "    # Añadir la traza al subgráfico correspondiente\n",
        "    row = (i - 1) % num_filas + 1\n",
        "    col = (i - 1) // num_filas + 1\n",
        "    fig.add_trace(data, row=row, col=col)\n",
        "\n",
        "fig.update_geos(projection_type='natural earth')\n",
        "fig.update_layout(title_text=\"Tasas de No Escolarización por Nivel y Media de Géneros\")\n",
        "fig.show()"
      ],
      "metadata": {
        "id": "HH4iFR8MjLsQ",
        "outputId": "935dad12-4485-46ff-e318-46e3482aface",
        "colab": {
          "base_uri": "https://localhost:8080/",
          "height": 542
        }
      },
      "execution_count": 27,
      "outputs": [
        {
          "output_type": "display_data",
          "data": {
            "text/html": [
              "<html>\n",
              "<head><meta charset=\"utf-8\" /></head>\n",
              "<body>\n",
              "    <div>            <script src=\"https://cdnjs.cloudflare.com/ajax/libs/mathjax/2.7.5/MathJax.js?config=TeX-AMS-MML_SVG\"></script><script type=\"text/javascript\">if (window.MathJax && window.MathJax.Hub && window.MathJax.Hub.Config) {window.MathJax.Hub.Config({SVG: {font: \"STIX-Web\"}});}</script>                <script type=\"text/javascript\">window.PlotlyConfig = {MathJaxConfig: 'local'};</script>\n",
              "        <script charset=\"utf-8\" src=\"https://cdn.plot.ly/plotly-2.24.1.min.js\"></script>                <div id=\"5a6de092-d5ea-43bc-9f9f-b124cd015138\" class=\"plotly-graph-div\" style=\"height:525px; width:100%;\"></div>            <script type=\"text/javascript\">                                    window.PLOTLYENV=window.PLOTLYENV || {};                                    if (document.getElementById(\"5a6de092-d5ea-43bc-9f9f-b124cd015138\")) {                    Plotly.newPlot(                        \"5a6de092-d5ea-43bc-9f9f-b124cd015138\",                        [{\"colorbar\":{\"title\":{\"text\":\"Tasa de No Escolarizaci\\u00f3n (Media)\"}},\"colorscale\":[[0.0,\"#440154\"],[0.1111111111111111,\"#482878\"],[0.2222222222222222,\"#3e4989\"],[0.3333333333333333,\"#31688e\"],[0.4444444444444444,\"#26828e\"],[0.5555555555555556,\"#1f9e89\"],[0.6666666666666666,\"#35b779\"],[0.7777777777777778,\"#6ece58\"],[0.8888888888888888,\"#b5de2b\"],[1.0,\"#fde725\"]],\"locationmode\":\"country names\",\"locations\":[\"Yemen\",\"Myanmar\",\"Tajikistan\",\"Djibouti\",\"Chad\",\"Senegal\",\"Burkina Faso\",\"South Sudan\",\"Botswana\",\"Ivory Coast\",\"Niger\",\"Eritrea\",\"Bosnia and Herzegovina\",\"Republic of the Congo\",\"Comoros\",\"Samoa\",\"Egypt\",\"Ethiopia\",\"Syria\",\"Sudan\",\"Zimbabwe\",\"Guinea\",\"Bhutan\",\"Lesotho\",\"Sierra Leone\",\"Cameroon\",\"Equatorial Guinea\",\"Mali\",\"Jordan\",\"Uzbekistan\",\"Armenia\",\"North Macedonia\",\"Burundi\",\"Iran\",\"East Timor\",\"Saudi Arabia\",\"Rwanda\",\"S\\u00ef\\u00bf\\u00bd\\u00ef\\u00bf\\u00bd\\u00ef\\u00bf\\u00bd\\u00ef\\u00bf\\u00bd\\u00ef\\u00bf\\u00bd\\u00ef\\u00bf\\u00bd\\u00ef\\u00bf\\u00bd\\u00ef\\u00bf\",\"Cambodia\",\"Tanzania\",\"Madagascar\",\"The Gambia\",\"Vanuatu\",\"Angola\",\"Morocco\",\"Palestinian National Authority\",\"Solomon Islands\",\"Federated States of Micronesia\",\"Namibia\",\"Marshall Islands\",\"Paraguay\",\"Laos\",\"Bahrain\",\"Papua New Guinea\",\"South Africa\",\"Azerbaijan\",\"Niue\",\"Turkey\",\"Panama\",\"Montenegro\",\"Honduras\",\"Kazakhstan\",\"Liberia\",\"Bulgaria\",\"Cape Verde\",\"Kuwait\",\"Romania\",\"El Salvador\",\"Brunei\",\"Belize\",\"Montserrat\",\"Slovakia\",\"Guatemala\",\"Benin\",\"Oman\",\"Dominica\",\"Venezuela\",\"Philippines\",\"Australia\",\"San Marino\",\"Hungary\",\"Ghana\",\"Nepal\",\"Estonia\",\"Tuvalu\",\"Suriname\",\"Kyrgyzstan\",\"Saint Kitts and Nevis\",\"Tokelau\",\"United States\",\"Czech Republic\",\"Russia\",\"Serbia\",\"Palau\",\"Turks and Caicos Islands\",\"Antigua and Barbuda\",\"Mauritius\",\"Qatar\",\"Bolivia\",\"Chile\",\"Barbados\",\"Seychelles\",\"Jamaica\",\"Anguilla\",\"Nauru\",\"Pakistan\",\"Maldives\",\"Italy\",\"Dominican Republic\",\"New Zealand\",\"Saint Vincent and the Grenadines\",\"Ecuador\",\"Greece\",\"British Virgin Islands\",\"Slovenia\",\"Portugal\",\"Moldova\",\"Spain\",\"Indonesia\",\"Croatia\",\"Poland\",\"Costa Rica\",\"Togo\",\"Mongolia\",\"Iceland\",\"Lithuania\",\"Albania\",\"Norway\",\"Grenada\",\"Finland\",\"Belgium\",\"Malta\",\"Saint Lucia\",\"Cuba\",\"Argentina\",\"Latvia\",\"Belarus\",\"Colombia\",\"Republic of Ireland\",\"Denmark\",\"Cook Islands\",\"Cyprus\",\"United Kingdom\",\"Uruguay\",\"Liechtenstein\",\"Thailand\",\"South Korea\",\"Luxembourg\",\"Malaysia\",\"Germany\",\"Mexico\",\"Peru\",\"Brazil\",\"Fiji\",\"Netherlands\",\"Israel\",\"Switzerland\",\"Trinidad and Tobago\",\"Sri Lanka\",\"Zambia\",\"Tunisia\",\"Sweden\",\"Turkmenistan\",\"Uganda\",\"Ukraine\",\"Vietnam\",\"United Arab Emirates\",\"Tonga\",\"Afghanistan\",\"Somalia\",\"Guinea0Bissau\",\"Algeria\",\"Andorra\",\"Austria\",\"The Bahamas\",\"Bangladesh\",\"Canada\",\"Central African Republic\",\"China\",\"North Korea\",\"Democratic Republic of the Congo\",\"Eswatini\",\"France\",\"Gabon\",\"Georgia\",\"Guyana\",\"Singapore\",\"Haiti\",\"Vatican City\",\"India\",\"Iraq\",\"Japan\",\"Kenya\",\"Kiribati\",\"Lebanon\",\"Malawi\",\"Mauritania\",\"Monaco\",\"Mozambique\",\"Nicaragua\",\"Nigeria\",\"Libya\"],\"z\":[96.0,88.0,87.5,86.5,86.0,84.0,81.0,79.5,78.5,78.0,76.0,73.0,72.5,70.5,70.5,65.0,63.0,63.0,60.5,60.0,59.0,58.5,58.5,57.5,57.5,56.5,56.0,55.0,55.0,54.0,51.0,51.0,51.0,49.5,49.5,49.5,47.5,47.5,46.0,43.5,40.5,39.0,38.0,35.0,35.0,34.5,34.5,32.0,31.5,31.5,30.5,30.5,29.5,28.5,27.5,25.5,25.5,24.0,24.0,23.5,23.0,22.5,21.0,19.5,19.0,18.5,18.0,17.5,17.5,17.0,16.5,16.0,16.0,15.5,14.5,14.0,14.0,13.5,13.5,13.0,13.0,13.0,13.0,12.0,11.0,11.0,10.5,10.5,10.0,10.0,10.0,9.5,9.5,9.5,9.5,9.0,8.5,8.5,8.5,8.0,8.0,7.5,7.0,7.0,7.0,7.0,6.5,6.5,6.5,6.5,6.0,5.5,5.5,5.5,5.5,5.5,5.0,5.0,5.0,5.0,4.5,4.0,4.0,4.0,3.5,3.0,3.0,3.0,2.5,2.5,2.5,2.5,2.5,2.0,2.0,2.0,2.0,2.0,2.0,2.0,1.5,1.5,1.5,1.5,1.5,1.0,1.0,1.0,1.0,1.0,1.0,1.0,0.5,0.5,0.5,0.5,0.5,0.0,0.0,0.0,0.0,0.0,0.0,0.0,0.0,0.0,0.0,0.0,0.0,0.0,0.0,0.0,0.0,0.0,0.0,0.0,0.0,0.0,0.0,0.0,0.0,0.0,0.0,0.0,0.0,0.0,0.0,0.0,0.0,0.0,0.0,0.0,0.0,0.0,0.0,0.0,0.0,0.0,0.0,0.0,0.0,0.0],\"zmax\":100,\"zmin\":0,\"type\":\"choropleth\",\"geo\":\"geo\"},{\"colorbar\":{\"title\":{\"text\":\"Tasa de No Escolarizaci\\u00f3n (Media)\"}},\"colorscale\":[[0.0,\"#440154\"],[0.1111111111111111,\"#482878\"],[0.2222222222222222,\"#3e4989\"],[0.3333333333333333,\"#31688e\"],[0.4444444444444444,\"#26828e\"],[0.5555555555555556,\"#1f9e89\"],[0.6666666666666666,\"#35b779\"],[0.7777777777777778,\"#6ece58\"],[0.8888888888888888,\"#b5de2b\"],[1.0,\"#fde725\"]],\"locationmode\":\"country names\",\"locations\":[\"South Sudan\",\"Equatorial Guinea\",\"Eritrea\",\"Niger\",\"Mali\",\"Djibouti\",\"Sudan\",\"Syria\",\"Marshall Islands\",\"Chad\",\"Senegal\",\"Mauritania\",\"Guinea\",\"Liberia\",\"Burkina Faso\",\"Jordan\",\"Comoros\",\"Eswatini\",\"Republic of the Congo\",\"Yemen\",\"Zambia\",\"Tuvalu\",\"Montserrat\",\"The Gambia\",\"Ethiopia\",\"El Salvador\",\"Tanzania\",\"Panama\",\"Bulgaria\",\"Honduras\",\"Romania\",\"Suriname\",\"South Africa\",\"Botswana\",\"Guatemala\",\"Venezuela\",\"Federated States of Micronesia\",\"Moldova\",\"Kazakhstan\",\"Cambodia\",\"Armenia\",\"Cameroon\",\"Azerbaijan\",\"Laos\",\"Ukraine\",\"Vanuatu\",\"Burundi\",\"Papua New Guinea\",\"Solomon Islands\",\"United Arab Emirates\",\"Cape Verde\",\"Benin\",\"Rwanda\",\"S\\u00ef\\u00bf\\u00bd\\u00ef\\u00bf\\u00bd\\u00ef\\u00bf\\u00bd\\u00ef\\u00bf\\u00bd\\u00ef\\u00bf\\u00bd\\u00ef\\u00bf\\u00bd\\u00ef\\u00bf\\u00bd\\u00ef\\u00bf\",\"Indonesia\",\"Turkey\",\"Bolivia\",\"Ivory Coast\",\"East Timor\",\"Slovakia\",\"Uganda\",\"Albania\",\"Hungary\",\"Dominican Republic\",\"British Virgin Islands\",\"Bhutan\",\"Dominica\",\"Philippines\",\"Uruguay\",\"Spain\",\"Italy\",\"Palestinian National Authority\",\"Togo\",\"Costa Rica\",\"Montenegro\",\"Bahrain\",\"Liechtenstein\",\"Mozambique\",\"Morocco\",\"Sri Lanka\",\"Kuwait\",\"Antigua and Barbuda\",\"Lesotho\",\"Mongolia\",\"Colombia\",\"Sierra Leone\",\"Mauritius\",\"Poland\",\"Maldives\",\"Serbia\",\"Georgia\",\"Saudi Arabia\",\"India\",\"Cook Islands\",\"Estonia\",\"Qatar\",\"Saint Lucia\",\"Barbados\",\"Greece\",\"Tajikistan\",\"Belarus\",\"Latvia\",\"Chile\",\"Belize\",\"United Kingdom\",\"South Korea\",\"Cuba\",\"Brazil\",\"Uzbekistan\",\"Fiji\",\"Netherlands\",\"Finland\",\"North Macedonia\",\"Luxembourg\",\"New Zealand\",\"United States\",\"Russia\",\"Portugal\",\"Slovenia\",\"Belgium\",\"Iceland\",\"Cyprus\",\"Czech Republic\",\"Ghana\",\"Germany\",\"Denmark\",\"Seychelles\",\"Saint Kitts and Nevis\",\"Vietnam\",\"Turks and Caicos Islands\",\"Turkmenistan\",\"Tunisia\",\"Trinidad and Tobago\",\"Tokelau\",\"Tonga\",\"Singapore\",\"Saint Vincent and the Grenadines\",\"Samoa\",\"Thailand\",\"San Marino\",\"Switzerland\",\"Sweden\",\"Somalia\",\"Afghanistan\",\"Libya\",\"Peru\",\"Iran\",\"Haiti\",\"Guyana\",\"Guinea0Bissau\",\"Grenada\",\"Gabon\",\"France\",\"Egypt\",\"Ecuador\",\"Democratic Republic of the Congo\",\"North Korea\",\"Croatia\",\"China\",\"Central African Republic\",\"Canada\",\"Brunei\",\"Bosnia and Herzegovina\",\"Bangladesh\",\"The Bahamas\",\"Austria\",\"Australia\",\"Argentina\",\"Anguilla\",\"Angola\",\"Andorra\",\"Algeria\",\"Vatican City\",\"Iraq\",\"Paraguay\",\"Republic of Ireland\",\"Palau\",\"Pakistan\",\"Oman\",\"Norway\",\"Niue\",\"Nigeria\",\"Nicaragua\",\"Nepal\",\"Nauru\",\"Namibia\",\"Myanmar\",\"Monaco\",\"Mexico\",\"Malta\",\"Malaysia\",\"Malawi\",\"Madagascar\",\"Lithuania\",\"Lebanon\",\"Kyrgyzstan\",\"Kiribati\",\"Kenya\",\"Japan\",\"Jamaica\",\"Israel\",\"Zimbabwe\"],\"z\":[62.5,55.5,47.5,41.0,41.0,33.5,33.0,27.5,26.0,26.0,25.5,23.0,22.0,21.5,21.5,18.5,18.0,16.0,15.5,15.5,15.0,15.0,15.0,14.5,14.5,13.5,13.5,13.5,13.0,12.5,12.5,12.5,11.0,11.0,10.5,10.0,10.0,10.0,9.5,9.0,9.0,8.5,8.5,8.5,8.0,7.5,7.5,7.0,6.5,6.5,6.5,6.5,6.0,6.0,5.5,5.0,5.0,5.0,5.0,4.5,4.5,4.5,4.5,4.0,3.5,3.5,3.5,3.0,3.0,3.0,3.0,3.0,3.0,3.0,3.0,2.5,2.5,2.5,2.5,2.5,2.5,2.5,2.5,2.5,2.5,2.0,2.0,2.0,2.0,2.0,2.0,2.0,2.0,2.0,2.0,1.5,1.5,1.5,1.5,1.5,1.5,1.5,1.5,1.0,1.0,1.0,1.0,1.0,1.0,1.0,1.0,1.0,1.0,1.0,1.0,1.0,0.5,0.5,0.5,0.5,0.5,0.5,0.5,0.5,0.5,0.5,0.0,0.0,0.0,0.0,0.0,0.0,0.0,0.0,0.0,0.0,0.0,0.0,0.0,0.0,0.0,0.0,0.0,0.0,0.0,0.0,0.0,0.0,0.0,0.0,0.0,0.0,0.0,0.0,0.0,0.0,0.0,0.0,0.0,0.0,0.0,0.0,0.0,0.0,0.0,0.0,0.0,0.0,0.0,0.0,0.0,0.0,0.0,0.0,0.0,0.0,0.0,0.0,0.0,0.0,0.0,0.0,0.0,0.0,0.0,0.0,0.0,0.0,0.0,0.0,0.0,0.0,0.0,0.0,0.0,0.0,0.0,0.0,0.0,0.0,0.0,0.0],\"zmax\":100,\"zmin\":0,\"type\":\"choropleth\",\"geo\":\"geo3\"},{\"colorbar\":{\"title\":{\"text\":\"Tasa de No Escolarizaci\\u00f3n (Media)\"}},\"colorscale\":[[0.0,\"#440154\"],[0.1111111111111111,\"#482878\"],[0.2222222222222222,\"#3e4989\"],[0.3333333333333333,\"#31688e\"],[0.4444444444444444,\"#26828e\"],[0.5555555555555556,\"#1f9e89\"],[0.6666666666666666,\"#35b779\"],[0.7777777777777778,\"#6ece58\"],[0.8888888888888888,\"#b5de2b\"],[1.0,\"#fde725\"]],\"locationmode\":\"country names\",\"locations\":[\"Niger\",\"Chad\",\"South Sudan\",\"Mali\",\"Guinea\",\"Sierra Leone\",\"Djibouti\",\"Ethiopia\",\"Burkina Faso\",\"Ivory Coast\",\"Mozambique\",\"Syria\",\"Honduras\",\"Cameroon\",\"Eritrea\",\"Benin\",\"Sudan\",\"Burundi\",\"Guatemala\",\"Marshall Islands\",\"Madagascar\",\"Jordan\",\"Tuvalu\",\"Yemen\",\"Mauritania\",\"Laos\",\"The Bahamas\",\"Liberia\",\"Togo\",\"Myanmar\",\"Turks and Caicos Islands\",\"Comoros\",\"Malawi\",\"Jamaica\",\"El Salvador\",\"Lesotho\",\"Indonesia\",\"Moldova\",\"India\",\"Suriname\",\"South Africa\",\"Papua New Guinea\",\"Venezuela\",\"Cape Verde\",\"Bolivia\",\"Malaysia\",\"Cambodia\",\"Federated States of Micronesia\",\"Panama\",\"Bulgaria\",\"Bhutan\",\"Ghana\",\"Philippines\",\"East Timor\",\"Cuba\",\"Armenia\",\"Belize\",\"S\\u00ef\\u00bf\\u00bd\\u00ef\\u00bf\\u00bd\\u00ef\\u00bf\\u00bd\\u00ef\\u00bf\\u00bd\\u00ef\\u00bf\\u00bd\\u00ef\\u00bf\\u00bd\\u00ef\\u00bf\\u00bd\\u00ef\\u00bf\",\"Morocco\",\"Saint Lucia\",\"Romania\",\"Nauru\",\"Mexico\",\"Mongolia\",\"British Virgin Islands\",\"Montenegro\",\"Kuwait\",\"Turkey\",\"Dominican Republic\",\"Colombia\",\"Chile\",\"Mauritius\",\"Germany\",\"Slovakia\",\"Tonga\",\"Qatar\",\"Cook Islands\",\"Barbados\",\"Luxembourg\",\"Ecuador\",\"Iran\",\"Rwanda\",\"Liechtenstein\",\"Greece\",\"Bahrain\",\"Albania\",\"Ukraine\",\"Hungary\",\"Peru\",\"Vanuatu\",\"South Korea\",\"Eswatini\",\"Kyrgyzstan\",\"Nepal\",\"Palestinian National Authority\",\"Australia\",\"Netherlands\",\"Egypt\",\"United Arab Emirates\",\"Brazil\",\"Serbia\",\"Croatia\",\"Dominica\",\"Italy\",\"Poland\",\"United States\",\"United Kingdom\",\"Costa Rica\",\"Cyprus\",\"Antigua and Barbuda\",\"Slovenia\",\"Russia\",\"Czech Republic\",\"Georgia\",\"Saint Vincent and the Grenadines\",\"Malta\",\"Saudi Arabia\",\"Estonia\",\"Switzerland\",\"Uzbekistan\",\"New Zealand\",\"Belarus\",\"Belgium\",\"Latvia\",\"France\",\"Spain\",\"Iceland\",\"Denmark\",\"Uruguay\",\"Austria\",\"Singapore\",\"Finland\",\"Norway\",\"San Marino\",\"Samoa\",\"Afghanistan\",\"Senegal\",\"Seychelles\",\"Solomon Islands\",\"Somalia\",\"Sri Lanka\",\"Sweden\",\"Tajikistan\",\"Tokelau\",\"Trinidad and Tobago\",\"Tunisia\",\"Turkmenistan\",\"Uganda\",\"Tanzania\",\"Vietnam\",\"Zambia\",\"Thailand\",\"Libya\",\"Saint Kitts and Nevis\",\"Guyana\",\"Grenada\",\"The Gambia\",\"Gabon\",\"Fiji\",\"Equatorial Guinea\",\"Democratic Republic of the Congo\",\"North Korea\",\"Republic of the Congo\",\"China\",\"Central African Republic\",\"Canada\",\"Brunei\",\"Botswana\",\"Bosnia and Herzegovina\",\"Bangladesh\",\"Azerbaijan\",\"Argentina\",\"Anguilla\",\"Angola\",\"Andorra\",\"Algeria\",\"Guinea0Bissau\",\"Haiti\",\"Portugal\",\"Vatican City\",\"Paraguay\",\"Palau\",\"Pakistan\",\"Oman\",\"North Macedonia\",\"Niue\",\"Nigeria\",\"Nicaragua\",\"Namibia\",\"Montserrat\",\"Monaco\",\"Maldives\",\"Lithuania\",\"Lebanon\",\"Kiribati\",\"Kenya\",\"Kazakhstan\",\"Japan\",\"Israel\",\"Republic of Ireland\",\"Iraq\",\"Zimbabwe\"],\"z\":[65.0,62.5,56.0,52.5,51.5,49.0,48.0,47.0,46.0,44.5,43.0,38.0,37.5,36.5,36.0,35.0,34.0,33.5,32.5,31.0,30.0,29.5,29.5,28.5,28.0,27.5,22.0,21.5,21.5,21.0,19.5,19.0,18.5,18.0,17.0,17.0,16.5,15.5,15.0,15.0,14.5,14.5,14.0,13.5,13.5,13.5,13.0,12.5,12.5,12.5,12.0,10.5,10.5,10.5,10.0,10.0,10.0,9.5,9.5,9.5,9.0,8.5,8.0,7.5,7.5,7.5,6.5,6.5,6.0,5.5,5.5,5.0,5.0,5.0,5.0,5.0,5.0,5.0,4.5,4.5,4.5,4.0,4.0,4.0,3.5,3.5,3.5,3.0,3.0,3.0,3.0,3.0,2.5,2.5,2.5,2.5,2.5,2.5,2.5,2.5,2.0,2.0,2.0,2.0,2.0,2.0,2.0,2.0,2.0,1.5,1.5,1.5,1.5,1.5,1.5,1.5,1.5,1.0,1.0,1.0,1.0,1.0,1.0,1.0,1.0,1.0,0.5,0.5,0.5,0.5,0.5,0.5,0.5,0.0,0.0,0.0,0.0,0.0,0.0,0.0,0.0,0.0,0.0,0.0,0.0,0.0,0.0,0.0,0.0,0.0,0.0,0.0,0.0,0.0,0.0,0.0,0.0,0.0,0.0,0.0,0.0,0.0,0.0,0.0,0.0,0.0,0.0,0.0,0.0,0.0,0.0,0.0,0.0,0.0,0.0,0.0,0.0,0.0,0.0,0.0,0.0,0.0,0.0,0.0,0.0,0.0,0.0,0.0,0.0,0.0,0.0,0.0,0.0,0.0,0.0,0.0,0.0,0.0,0.0,0.0,0.0,0.0],\"zmax\":100,\"zmin\":0,\"type\":\"choropleth\",\"geo\":\"geo2\"},{\"colorbar\":{\"title\":{\"text\":\"Tasa de No Escolarizaci\\u00f3n (Media)\"}},\"colorscale\":[[0.0,\"#440154\"],[0.1111111111111111,\"#482878\"],[0.2222222222222222,\"#3e4989\"],[0.3333333333333333,\"#31688e\"],[0.4444444444444444,\"#26828e\"],[0.5555555555555556,\"#1f9e89\"],[0.6666666666666666,\"#35b779\"],[0.7777777777777778,\"#6ece58\"],[0.8888888888888888,\"#b5de2b\"],[1.0,\"#fde725\"]],\"locationmode\":\"country names\",\"locations\":[\"Niger\",\"Tanzania\",\"Chad\",\"Mali\",\"Ethiopia\",\"Mozambique\",\"Malawi\",\"Guinea\",\"Djibouti\",\"Syria\",\"Burkina Faso\",\"Sierra Leone\",\"Burundi\",\"South Sudan\",\"Madagascar\",\"Mauritania\",\"Guatemala\",\"Ivory Coast\",\"Yemen\",\"Afghanistan\",\"Togo\",\"Honduras\",\"Benin\",\"Nauru\",\"Cameroon\",\"San Marino\",\"Sudan\",\"Comoros\",\"Tuvalu\",\"Rwanda\",\"Eritrea\",\"India\",\"Zimbabwe\",\"Jordan\",\"Papua New Guinea\",\"Laos\",\"Vanuatu\",\"Marshall Islands\",\"Myanmar\",\"Tokelau\",\"Bangladesh\",\"Suriname\",\"Tonga\",\"Malaysia\",\"Belize\",\"Moldova\",\"El Salvador\",\"Lesotho\",\"Panama\",\"Turks and Caicos Islands\",\"Paraguay\",\"Cook Islands\",\"Ghana\",\"Kyrgyzstan\",\"Morocco\",\"Bhutan\",\"Cape Verde\",\"The Bahamas\",\"Mexico\",\"Iran\",\"Liberia\",\"Palestinian National Authority\",\"East Timor\",\"Egypt\",\"Jamaica\",\"Venezuela\",\"Indonesia\",\"Dominican Republic\",\"Bolivia\",\"South Africa\",\"Mauritius\",\"Mongolia\",\"Thailand\",\"Colombia\",\"Saint Lucia\",\"Philippines\",\"Bosnia and Herzegovina\",\"British Virgin Islands\",\"Romania\",\"Luxembourg\",\"Nepal\",\"Ecuador\",\"Kuwait\",\"Peru\",\"Albania\",\"Switzerland\",\"Dominica\",\"Seychelles\",\"Cuba\",\"S\\u00ef\\u00bf\\u00bd\\u00ef\\u00bf\\u00bd\\u00ef\\u00bf\\u00bd\\u00ef\\u00bf\\u00bd\\u00ef\\u00bf\\u00bd\\u00ef\\u00bf\\u00bd\\u00ef\\u00bf\\u00bd\\u00ef\\u00bf\",\"Brunei\",\"Turkey\",\"Eswatini\",\"Liechtenstein\",\"Sri Lanka\",\"Brazil\",\"Saint Vincent and the Grenadines\",\"Uzbekistan\",\"Germany\",\"Croatia\",\"Antigua and Barbuda\",\"Iceland\",\"Oman\",\"Serbia\",\"Bahrain\",\"Hungary\",\"Bulgaria\",\"Uruguay\",\"Slovakia\",\"Montenegro\",\"Argentina\",\"Samoa\",\"Denmark\",\"Armenia\",\"Austria\",\"Malta\",\"Australia\",\"Norway\",\"Grenada\",\"Cyprus\",\"Saudi Arabia\",\"Canada\",\"Costa Rica\",\"Georgia\",\"Italy\",\"Ukraine\",\"Greece\",\"Chile\",\"Barbados\",\"Belarus\",\"France\",\"Saint Kitts and Nevis\",\"Latvia\",\"United Kingdom\",\"South Korea\",\"Finland\",\"Poland\",\"United States\",\"Russia\",\"Czech Republic\",\"Portugal\",\"Lithuania\",\"New Zealand\",\"United Arab Emirates\",\"Sweden\",\"Belgium\",\"Slovenia\",\"Estonia\",\"Spain\",\"Republic of Ireland\",\"Netherlands\",\"North Korea\",\"Tajikistan\",\"Fiji\",\"Equatorial Guinea\",\"Anguilla\",\"Democratic Republic of the Congo\",\"Montserrat\",\"Trinidad and Tobago\",\"Tunisia\",\"Turkmenistan\",\"Angola\",\"Gabon\",\"Andorra\",\"Republic of the Congo\",\"China\",\"Cambodia\",\"Vietnam\",\"Algeria\",\"Zambia\",\"Uganda\",\"Guinea0Bissau\",\"The Gambia\",\"Botswana\",\"Central African Republic\",\"Monaco\",\"Nicaragua\",\"Federated States of Micronesia\",\"Nigeria\",\"Niue\",\"North Macedonia\",\"Pakistan\",\"Palau\",\"Maldives\",\"Lebanon\",\"Qatar\",\"Kiribati\",\"Kenya\",\"Azerbaijan\",\"Kazakhstan\",\"Japan\",\"Israel\",\"Iraq\",\"Senegal\",\"Vatican City\",\"Haiti\",\"Guyana\",\"Singapore\",\"Namibia\",\"Solomon Islands\",\"Somalia\",\"Libya\"],\"z\":[86.5,86.0,78.0,75.0,74.0,69.0,69.0,67.5,66.5,66.0,66.0,65.5,64.5,64.5,63.5,61.0,59.0,58.0,57.0,56.5,56.5,56.0,56.0,56.0,54.0,54.0,51.5,50.0,50.0,49.5,49.0,47.5,47.5,45.5,45.5,44.0,43.5,43.0,42.5,41.5,38.5,38.0,38.0,36.5,36.5,35.5,34.0,33.5,33.0,32.0,31.5,28.5,28.0,28.0,28.0,27.5,26.5,26.5,26.0,26.0,25.5,25.0,24.5,23.5,23.5,23.5,22.5,22.0,22.0,21.0,21.0,21.0,21.0,21.0,20.5,20.5,20.5,20.0,20.0,19.5,19.5,19.0,18.5,18.0,18.0,18.0,18.0,18.0,17.5,17.5,17.5,17.0,16.0,16.0,15.5,15.0,15.0,14.5,14.0,13.5,13.0,13.0,12.5,12.5,12.0,12.0,12.0,12.0,11.0,11.0,11.0,10.0,10.0,10.0,9.5,8.5,8.0,7.5,7.5,7.0,6.0,6.0,6.0,5.5,5.5,5.5,5.0,5.0,5.0,5.0,4.5,4.5,4.5,4.5,4.0,4.0,4.0,3.5,3.0,3.0,3.0,3.0,2.5,2.0,2.0,1.5,1.5,1.5,1.5,1.5,1.0,0.0,0.0,0.0,0.0,0.0,0.0,0.0,0.0,0.0,0.0,0.0,0.0,0.0,0.0,0.0,0.0,0.0,0.0,0.0,0.0,0.0,0.0,0.0,0.0,0.0,0.0,0.0,0.0,0.0,0.0,0.0,0.0,0.0,0.0,0.0,0.0,0.0,0.0,0.0,0.0,0.0,0.0,0.0,0.0,0.0,0.0,0.0,0.0,0.0,0.0,0.0],\"zmax\":100,\"zmin\":0,\"type\":\"choropleth\",\"geo\":\"geo4\"}],                        {\"template\":{\"data\":{\"histogram2dcontour\":[{\"type\":\"histogram2dcontour\",\"colorbar\":{\"outlinewidth\":0,\"ticks\":\"\"},\"colorscale\":[[0.0,\"#0d0887\"],[0.1111111111111111,\"#46039f\"],[0.2222222222222222,\"#7201a8\"],[0.3333333333333333,\"#9c179e\"],[0.4444444444444444,\"#bd3786\"],[0.5555555555555556,\"#d8576b\"],[0.6666666666666666,\"#ed7953\"],[0.7777777777777778,\"#fb9f3a\"],[0.8888888888888888,\"#fdca26\"],[1.0,\"#f0f921\"]]}],\"choropleth\":[{\"type\":\"choropleth\",\"colorbar\":{\"outlinewidth\":0,\"ticks\":\"\"}}],\"histogram2d\":[{\"type\":\"histogram2d\",\"colorbar\":{\"outlinewidth\":0,\"ticks\":\"\"},\"colorscale\":[[0.0,\"#0d0887\"],[0.1111111111111111,\"#46039f\"],[0.2222222222222222,\"#7201a8\"],[0.3333333333333333,\"#9c179e\"],[0.4444444444444444,\"#bd3786\"],[0.5555555555555556,\"#d8576b\"],[0.6666666666666666,\"#ed7953\"],[0.7777777777777778,\"#fb9f3a\"],[0.8888888888888888,\"#fdca26\"],[1.0,\"#f0f921\"]]}],\"heatmap\":[{\"type\":\"heatmap\",\"colorbar\":{\"outlinewidth\":0,\"ticks\":\"\"},\"colorscale\":[[0.0,\"#0d0887\"],[0.1111111111111111,\"#46039f\"],[0.2222222222222222,\"#7201a8\"],[0.3333333333333333,\"#9c179e\"],[0.4444444444444444,\"#bd3786\"],[0.5555555555555556,\"#d8576b\"],[0.6666666666666666,\"#ed7953\"],[0.7777777777777778,\"#fb9f3a\"],[0.8888888888888888,\"#fdca26\"],[1.0,\"#f0f921\"]]}],\"heatmapgl\":[{\"type\":\"heatmapgl\",\"colorbar\":{\"outlinewidth\":0,\"ticks\":\"\"},\"colorscale\":[[0.0,\"#0d0887\"],[0.1111111111111111,\"#46039f\"],[0.2222222222222222,\"#7201a8\"],[0.3333333333333333,\"#9c179e\"],[0.4444444444444444,\"#bd3786\"],[0.5555555555555556,\"#d8576b\"],[0.6666666666666666,\"#ed7953\"],[0.7777777777777778,\"#fb9f3a\"],[0.8888888888888888,\"#fdca26\"],[1.0,\"#f0f921\"]]}],\"contourcarpet\":[{\"type\":\"contourcarpet\",\"colorbar\":{\"outlinewidth\":0,\"ticks\":\"\"}}],\"contour\":[{\"type\":\"contour\",\"colorbar\":{\"outlinewidth\":0,\"ticks\":\"\"},\"colorscale\":[[0.0,\"#0d0887\"],[0.1111111111111111,\"#46039f\"],[0.2222222222222222,\"#7201a8\"],[0.3333333333333333,\"#9c179e\"],[0.4444444444444444,\"#bd3786\"],[0.5555555555555556,\"#d8576b\"],[0.6666666666666666,\"#ed7953\"],[0.7777777777777778,\"#fb9f3a\"],[0.8888888888888888,\"#fdca26\"],[1.0,\"#f0f921\"]]}],\"surface\":[{\"type\":\"surface\",\"colorbar\":{\"outlinewidth\":0,\"ticks\":\"\"},\"colorscale\":[[0.0,\"#0d0887\"],[0.1111111111111111,\"#46039f\"],[0.2222222222222222,\"#7201a8\"],[0.3333333333333333,\"#9c179e\"],[0.4444444444444444,\"#bd3786\"],[0.5555555555555556,\"#d8576b\"],[0.6666666666666666,\"#ed7953\"],[0.7777777777777778,\"#fb9f3a\"],[0.8888888888888888,\"#fdca26\"],[1.0,\"#f0f921\"]]}],\"mesh3d\":[{\"type\":\"mesh3d\",\"colorbar\":{\"outlinewidth\":0,\"ticks\":\"\"}}],\"scatter\":[{\"fillpattern\":{\"fillmode\":\"overlay\",\"size\":10,\"solidity\":0.2},\"type\":\"scatter\"}],\"parcoords\":[{\"type\":\"parcoords\",\"line\":{\"colorbar\":{\"outlinewidth\":0,\"ticks\":\"\"}}}],\"scatterpolargl\":[{\"type\":\"scatterpolargl\",\"marker\":{\"colorbar\":{\"outlinewidth\":0,\"ticks\":\"\"}}}],\"bar\":[{\"error_x\":{\"color\":\"#2a3f5f\"},\"error_y\":{\"color\":\"#2a3f5f\"},\"marker\":{\"line\":{\"color\":\"#E5ECF6\",\"width\":0.5},\"pattern\":{\"fillmode\":\"overlay\",\"size\":10,\"solidity\":0.2}},\"type\":\"bar\"}],\"scattergeo\":[{\"type\":\"scattergeo\",\"marker\":{\"colorbar\":{\"outlinewidth\":0,\"ticks\":\"\"}}}],\"scatterpolar\":[{\"type\":\"scatterpolar\",\"marker\":{\"colorbar\":{\"outlinewidth\":0,\"ticks\":\"\"}}}],\"histogram\":[{\"marker\":{\"pattern\":{\"fillmode\":\"overlay\",\"size\":10,\"solidity\":0.2}},\"type\":\"histogram\"}],\"scattergl\":[{\"type\":\"scattergl\",\"marker\":{\"colorbar\":{\"outlinewidth\":0,\"ticks\":\"\"}}}],\"scatter3d\":[{\"type\":\"scatter3d\",\"line\":{\"colorbar\":{\"outlinewidth\":0,\"ticks\":\"\"}},\"marker\":{\"colorbar\":{\"outlinewidth\":0,\"ticks\":\"\"}}}],\"scattermapbox\":[{\"type\":\"scattermapbox\",\"marker\":{\"colorbar\":{\"outlinewidth\":0,\"ticks\":\"\"}}}],\"scatterternary\":[{\"type\":\"scatterternary\",\"marker\":{\"colorbar\":{\"outlinewidth\":0,\"ticks\":\"\"}}}],\"scattercarpet\":[{\"type\":\"scattercarpet\",\"marker\":{\"colorbar\":{\"outlinewidth\":0,\"ticks\":\"\"}}}],\"carpet\":[{\"aaxis\":{\"endlinecolor\":\"#2a3f5f\",\"gridcolor\":\"white\",\"linecolor\":\"white\",\"minorgridcolor\":\"white\",\"startlinecolor\":\"#2a3f5f\"},\"baxis\":{\"endlinecolor\":\"#2a3f5f\",\"gridcolor\":\"white\",\"linecolor\":\"white\",\"minorgridcolor\":\"white\",\"startlinecolor\":\"#2a3f5f\"},\"type\":\"carpet\"}],\"table\":[{\"cells\":{\"fill\":{\"color\":\"#EBF0F8\"},\"line\":{\"color\":\"white\"}},\"header\":{\"fill\":{\"color\":\"#C8D4E3\"},\"line\":{\"color\":\"white\"}},\"type\":\"table\"}],\"barpolar\":[{\"marker\":{\"line\":{\"color\":\"#E5ECF6\",\"width\":0.5},\"pattern\":{\"fillmode\":\"overlay\",\"size\":10,\"solidity\":0.2}},\"type\":\"barpolar\"}],\"pie\":[{\"automargin\":true,\"type\":\"pie\"}]},\"layout\":{\"autotypenumbers\":\"strict\",\"colorway\":[\"#636efa\",\"#EF553B\",\"#00cc96\",\"#ab63fa\",\"#FFA15A\",\"#19d3f3\",\"#FF6692\",\"#B6E880\",\"#FF97FF\",\"#FECB52\"],\"font\":{\"color\":\"#2a3f5f\"},\"hovermode\":\"closest\",\"hoverlabel\":{\"align\":\"left\"},\"paper_bgcolor\":\"white\",\"plot_bgcolor\":\"#E5ECF6\",\"polar\":{\"bgcolor\":\"#E5ECF6\",\"angularaxis\":{\"gridcolor\":\"white\",\"linecolor\":\"white\",\"ticks\":\"\"},\"radialaxis\":{\"gridcolor\":\"white\",\"linecolor\":\"white\",\"ticks\":\"\"}},\"ternary\":{\"bgcolor\":\"#E5ECF6\",\"aaxis\":{\"gridcolor\":\"white\",\"linecolor\":\"white\",\"ticks\":\"\"},\"baxis\":{\"gridcolor\":\"white\",\"linecolor\":\"white\",\"ticks\":\"\"},\"caxis\":{\"gridcolor\":\"white\",\"linecolor\":\"white\",\"ticks\":\"\"}},\"coloraxis\":{\"colorbar\":{\"outlinewidth\":0,\"ticks\":\"\"}},\"colorscale\":{\"sequential\":[[0.0,\"#0d0887\"],[0.1111111111111111,\"#46039f\"],[0.2222222222222222,\"#7201a8\"],[0.3333333333333333,\"#9c179e\"],[0.4444444444444444,\"#bd3786\"],[0.5555555555555556,\"#d8576b\"],[0.6666666666666666,\"#ed7953\"],[0.7777777777777778,\"#fb9f3a\"],[0.8888888888888888,\"#fdca26\"],[1.0,\"#f0f921\"]],\"sequentialminus\":[[0.0,\"#0d0887\"],[0.1111111111111111,\"#46039f\"],[0.2222222222222222,\"#7201a8\"],[0.3333333333333333,\"#9c179e\"],[0.4444444444444444,\"#bd3786\"],[0.5555555555555556,\"#d8576b\"],[0.6666666666666666,\"#ed7953\"],[0.7777777777777778,\"#fb9f3a\"],[0.8888888888888888,\"#fdca26\"],[1.0,\"#f0f921\"]],\"diverging\":[[0,\"#8e0152\"],[0.1,\"#c51b7d\"],[0.2,\"#de77ae\"],[0.3,\"#f1b6da\"],[0.4,\"#fde0ef\"],[0.5,\"#f7f7f7\"],[0.6,\"#e6f5d0\"],[0.7,\"#b8e186\"],[0.8,\"#7fbc41\"],[0.9,\"#4d9221\"],[1,\"#276419\"]]},\"xaxis\":{\"gridcolor\":\"white\",\"linecolor\":\"white\",\"ticks\":\"\",\"title\":{\"standoff\":15},\"zerolinecolor\":\"white\",\"automargin\":true,\"zerolinewidth\":2},\"yaxis\":{\"gridcolor\":\"white\",\"linecolor\":\"white\",\"ticks\":\"\",\"title\":{\"standoff\":15},\"zerolinecolor\":\"white\",\"automargin\":true,\"zerolinewidth\":2},\"scene\":{\"xaxis\":{\"backgroundcolor\":\"#E5ECF6\",\"gridcolor\":\"white\",\"linecolor\":\"white\",\"showbackground\":true,\"ticks\":\"\",\"zerolinecolor\":\"white\",\"gridwidth\":2},\"yaxis\":{\"backgroundcolor\":\"#E5ECF6\",\"gridcolor\":\"white\",\"linecolor\":\"white\",\"showbackground\":true,\"ticks\":\"\",\"zerolinecolor\":\"white\",\"gridwidth\":2},\"zaxis\":{\"backgroundcolor\":\"#E5ECF6\",\"gridcolor\":\"white\",\"linecolor\":\"white\",\"showbackground\":true,\"ticks\":\"\",\"zerolinecolor\":\"white\",\"gridwidth\":2}},\"shapedefaults\":{\"line\":{\"color\":\"#2a3f5f\"}},\"annotationdefaults\":{\"arrowcolor\":\"#2a3f5f\",\"arrowhead\":0,\"arrowwidth\":1},\"geo\":{\"bgcolor\":\"white\",\"landcolor\":\"#E5ECF6\",\"subunitcolor\":\"white\",\"showland\":true,\"showlakes\":true,\"lakecolor\":\"white\"},\"title\":{\"x\":0.05},\"mapbox\":{\"style\":\"light\"}}},\"geo\":{\"domain\":{\"x\":[0.0,0.45],\"y\":[0.625,1.0]},\"projection\":{\"type\":\"natural earth\"}},\"geo2\":{\"domain\":{\"x\":[0.55,1.0],\"y\":[0.625,1.0]},\"projection\":{\"type\":\"natural earth\"}},\"geo3\":{\"domain\":{\"x\":[0.0,0.45],\"y\":[0.0,0.375]},\"projection\":{\"type\":\"natural earth\"}},\"geo4\":{\"domain\":{\"x\":[0.55,1.0],\"y\":[0.0,0.375]},\"projection\":{\"type\":\"natural earth\"}},\"annotations\":[{\"font\":{\"size\":16},\"showarrow\":false,\"text\":\"Preescolar - Media de G\\u00e9neros\",\"x\":0.225,\"xanchor\":\"center\",\"xref\":\"paper\",\"y\":1.0,\"yanchor\":\"bottom\",\"yref\":\"paper\"},{\"font\":{\"size\":16},\"showarrow\":false,\"text\":\"Primaria - Media de G\\u00e9neros\",\"x\":0.775,\"xanchor\":\"center\",\"xref\":\"paper\",\"y\":1.0,\"yanchor\":\"bottom\",\"yref\":\"paper\"},{\"font\":{\"size\":16},\"showarrow\":false,\"text\":\"Primer Ciclo Secundaria - Media de G\\u00e9neros\",\"x\":0.225,\"xanchor\":\"center\",\"xref\":\"paper\",\"y\":0.375,\"yanchor\":\"bottom\",\"yref\":\"paper\"},{\"font\":{\"size\":16},\"showarrow\":false,\"text\":\"Segundo Ciclo Secundaria - Media de G\\u00e9neros\",\"x\":0.775,\"xanchor\":\"center\",\"xref\":\"paper\",\"y\":0.375,\"yanchor\":\"bottom\",\"yref\":\"paper\"}],\"title\":{\"text\":\"Tasas de No Escolarizaci\\u00f3n por Nivel y Media de G\\u00e9neros\"}},                        {\"responsive\": true}                    ).then(function(){\n",
              "                            \n",
              "var gd = document.getElementById('5a6de092-d5ea-43bc-9f9f-b124cd015138');\n",
              "var x = new MutationObserver(function (mutations, observer) {{\n",
              "        var display = window.getComputedStyle(gd).display;\n",
              "        if (!display || display === 'none') {{\n",
              "            console.log([gd, 'removed!']);\n",
              "            Plotly.purge(gd);\n",
              "            observer.disconnect();\n",
              "        }}\n",
              "}});\n",
              "\n",
              "// Listen for the removal of the full notebook cells\n",
              "var notebookContainer = gd.closest('#notebook-container');\n",
              "if (notebookContainer) {{\n",
              "    x.observe(notebookContainer, {childList: true});\n",
              "}}\n",
              "\n",
              "// Listen for the clearing of the current output cell\n",
              "var outputEl = gd.closest('.output');\n",
              "if (outputEl) {{\n",
              "    x.observe(outputEl, {childList: true});\n",
              "}}\n",
              "\n",
              "                        })                };                            </script>        </div>\n",
              "</body>\n",
              "</html>"
            ]
          },
          "metadata": {}
        }
      ]
    },
    {
      "cell_type": "code",
      "source": [
        "import plotly.graph_objects as go\n",
        "from plotly.subplots import make_subplots\n",
        "\n",
        "# Crear mapas para tasas de no escolarización por nivel y media de géneros en dos filas\n",
        "niveles_educacion = ['Educación Primaria', 'Primer Ciclo Secundaria', 'Segundo Ciclo Secundaria']\n",
        "num_filas = 3\n",
        "\n",
        "fig = make_subplots(rows=num_filas, cols=len(niveles_educacion)//num_filas,\n",
        "                    subplot_titles=[f'{nivel} - Media de Géneros' for nivel in niveles_educacion],\n",
        "                    specs=[[{'type': 'choropleth'}] * (len(niveles_educacion)//num_filas) for _ in range(num_filas)])\n",
        "\n",
        "colorbar_title = \"Tasa Finalización (Media)\"\n",
        "zmin = 0  # Valor mínimo para la barra de colores\n",
        "zmax = 100  # Valor máximo para la barra de colores\n",
        "\n",
        "for i, nivel in enumerate(niveles_educacion, start=1):\n",
        "    # Calcular la media de las tasas para ambos géneros\n",
        "    columna_varones = f'Tasa Finalización {nivel} (Varones)'\n",
        "    columna_mujeres = f'Tasa Finalización {nivel} (Mujeres)'\n",
        "    df[f'Tasa Finalización {nivel} (Media)'] = df[[columna_varones, columna_mujeres]].mean(axis=1)\n",
        "\n",
        "    # Ordenar el DataFrame por la tasa media\n",
        "    df_sorted = df.sort_values(by=f'Tasa Finalización {nivel} (Media)', ascending=False)\n",
        "\n",
        "    # Obtener datos para el choropleth\n",
        "    data = go.Choropleth(\n",
        "        locations=df_sorted['Países y Zonas'],\n",
        "        locationmode='country names',\n",
        "        z=df_sorted[f'Tasa Finalización {nivel} (Media)'],\n",
        "        colorscale='Viridis',\n",
        "        colorbar=dict(title=colorbar_title),\n",
        "        zmin=zmin,  # Establecer valor mínimo para la escala de colores\n",
        "        zmax=zmax  # Establecer valor máximo para la escala de colores\n",
        "    )\n",
        "\n",
        "      # Añadir la traza al subgráfico correspondiente\n",
        "    row = (i - 1) % num_filas + 1\n",
        "    col = ((i - 1) // num_filas) % (len(niveles_educacion) // num_filas) + 1\n",
        "    fig.add_trace(data, row=row, col=col)\n",
        "\n",
        "fig.update_geos(projection_type='natural earth')\n",
        "fig.update_layout(title_text=\"Tasa Finalización por Nivel y Media de Géneros\")\n",
        "fig.show()"
      ],
      "metadata": {
        "id": "_asrk_N9qT5d",
        "outputId": "6fabd0a4-9e27-4a41-b764-6823e8ba2735",
        "colab": {
          "base_uri": "https://localhost:8080/",
          "height": 542
        }
      },
      "execution_count": 29,
      "outputs": [
        {
          "output_type": "display_data",
          "data": {
            "text/html": [
              "<html>\n",
              "<head><meta charset=\"utf-8\" /></head>\n",
              "<body>\n",
              "    <div>            <script src=\"https://cdnjs.cloudflare.com/ajax/libs/mathjax/2.7.5/MathJax.js?config=TeX-AMS-MML_SVG\"></script><script type=\"text/javascript\">if (window.MathJax && window.MathJax.Hub && window.MathJax.Hub.Config) {window.MathJax.Hub.Config({SVG: {font: \"STIX-Web\"}});}</script>                <script type=\"text/javascript\">window.PlotlyConfig = {MathJaxConfig: 'local'};</script>\n",
              "        <script charset=\"utf-8\" src=\"https://cdn.plot.ly/plotly-2.24.1.min.js\"></script>                <div id=\"53332b06-9045-4f59-9db4-3dd0a8cc2d2f\" class=\"plotly-graph-div\" style=\"height:525px; width:100%;\"></div>            <script type=\"text/javascript\">                                    window.PLOTLYENV=window.PLOTLYENV || {};                                    if (document.getElementById(\"53332b06-9045-4f59-9db4-3dd0a8cc2d2f\")) {                    Plotly.newPlot(                        \"53332b06-9045-4f59-9db4-3dd0a8cc2d2f\",                        [{\"colorbar\":{\"title\":{\"text\":\"Tasa Finalizaci\\u00f3n (Media)\"}},\"colorscale\":[[0.0,\"#440154\"],[0.1111111111111111,\"#482878\"],[0.2222222222222222,\"#3e4989\"],[0.3333333333333333,\"#31688e\"],[0.4444444444444444,\"#26828e\"],[0.5555555555555556,\"#1f9e89\"],[0.6666666666666666,\"#35b779\"],[0.7777777777777778,\"#6ece58\"],[0.8888888888888888,\"#b5de2b\"],[1.0,\"#fde725\"]],\"locationmode\":\"country names\",\"locations\":[\"North Korea\",\"Kazakhstan\",\"Georgia\",\"Turkmenistan\",\"Belarus\",\"Jamaica\",\"Kyrgyzstan\",\"Serbia\",\"Palestinian National Authority\",\"Ukraine\",\"Bosnia and Herzegovina\",\"Barbados\",\"Saint Lucia\",\"Cuba\",\"Sri Lanka\",\"Moldova\",\"Armenia\",\"Thailand\",\"Tonga\",\"Costa Rica\",\"North Macedonia\",\"Turkey\",\"Tajikistan\",\"Ecuador\",\"Mexico\",\"Guyana\",\"China\",\"Mongolia\",\"Uruguay\",\"Vietnam\",\"Botswana\",\"Montenegro\",\"Jordan\",\"South Africa\",\"Chile\",\"Brazil\",\"Belize\",\"Panama\",\"Tunisia\",\"Albania\",\"Peru\",\"Paraguay\",\"Kiribati\",\"Algeria\",\"Colombia\",\"Argentina\",\"Philippines\",\"Egypt\",\"Indonesia\",\"India\",\"Dominican Republic\",\"Zimbabwe\",\"El Salvador\",\"Suriname\",\"Honduras\",\"Laos\",\"Myanmar\",\"Bangladesh\",\"S\\u00ef\\u00bf\\u00bd\\u00ef\\u00bf\\u00bd\\u00ef\\u00bf\\u00bd\\u00ef\\u00bf\\u00bd\\u00ef\\u00bf\\u00bd\\u00ef\\u00bf\\u00bd\\u00ef\\u00bf\\u00bd\\u00ef\\u00bf\",\"Nepal\",\"East Timor\",\"Lesotho\",\"Namibia\",\"Republic of the Congo\",\"Togo\",\"Kenya\",\"Tanzania\",\"Guatemala\",\"Comoros\",\"Iraq\",\"Cameroon\",\"Cambodia\",\"Zambia\",\"Nigeria\",\"Ghana\",\"Gabon\",\"Eswatini\",\"Bhutan\",\"Democratic Republic of the Congo\",\"Sudan\",\"Sierra Leone\",\"Mauritania\",\"Yemen\",\"The Gambia\",\"Angola\",\"Pakistan\",\"Ivory Coast\",\"Madagascar\",\"Rwanda\",\"Afghanistan\",\"Haiti\",\"Burundi\",\"Malawi\",\"Benin\",\"Ethiopia\",\"Senegal\",\"Mali\",\"Guinea\",\"Central African Republic\",\"Mozambique\",\"Uganda\",\"Liberia\",\"Burkina Faso\",\"Niger\",\"Chad\",\"Guinea0Bissau\",\"South Sudan\",\"Canada\",\"Cape Verde\",\"Spain\",\"Japan\",\"Somalia\",\"Switzerland\",\"Solomon Islands\",\"Slovenia\",\"Slovakia\",\"Singapore\",\"Seychelles\",\"Cook Islands\",\"Saudi Arabia\",\"Croatia\",\"San Marino\",\"Samoa\",\"Sweden\",\"British Virgin Islands\",\"Syria\",\"United Arab Emirates\",\"Andorra\",\"Anguilla\",\"Antigua and Barbuda\",\"Venezuela\",\"Vanuatu\",\"Uzbekistan\",\"Australia\",\"United States\",\"Austria\",\"United Kingdom\",\"Azerbaijan\",\"Bulgaria\",\"Tuvalu\",\"Turks and Caicos Islands\",\"The Bahamas\",\"Bahrain\",\"Belgium\",\"Trinidad and Tobago\",\"Tokelau\",\"Bolivia\",\"Cyprus\",\"Brunei\",\"Saint Vincent and the Grenadines\",\"Denmark\",\"Saint Kitts and Nevis\",\"Luxembourg\",\"Montserrat\",\"Greece\",\"Grenada\",\"Monaco\",\"Federated States of Micronesia\",\"Mauritius\",\"Marshall Islands\",\"Malta\",\"Maldives\",\"Malaysia\",\"Lithuania\",\"Germany\",\"Liechtenstein\",\"Vatican City\",\"Hungary\",\"Lebanon\",\"Latvia\",\"Iceland\",\"Iran\",\"Kuwait\",\"Republic of Ireland\",\"Israel\",\"Morocco\",\"France\",\"Czech Republic\",\"Papua New Guinea\",\"Russia\",\"Romania\",\"Italy\",\"South Korea\",\"Qatar\",\"Portugal\",\"Poland\",\"Djibouti\",\"Dominica\",\"Equatorial Guinea\",\"Eritrea\",\"Nauru\",\"Palau\",\"Estonia\",\"Oman\",\"Norway\",\"Niue\",\"Fiji\",\"Nicaragua\",\"New Zealand\",\"Netherlands\",\"Finland\",\"Libya\"],\"z\":[100.0,100.0,100.0,100.0,100.0,99.5,99.5,99.5,99.5,99.5,99.5,99.0,99.0,99.0,99.0,99.0,99.0,98.5,98.5,98.5,98.5,98.5,98.5,98.0,98.0,97.5,97.0,97.0,97.0,96.5,96.5,96.5,96.5,96.5,96.5,96.0,95.5,95.5,95.5,95.0,95.0,94.5,94.0,93.0,93.0,92.5,92.0,91.5,91.5,91.5,91.0,89.0,86.5,85.0,84.0,83.5,83.0,82.5,82.5,82.0,81.0,80.5,80.5,80.0,79.5,79.5,79.5,78.0,76.0,75.5,74.5,73.5,72.0,71.0,71.0,70.5,70.5,69.0,66.5,65.0,64.0,63.0,62.5,62.0,60.0,59.5,56.5,56.0,54.5,53.5,53.5,50.0,47.5,47.5,47.5,47.0,45.5,45.5,43.5,41.5,41.0,34.5,30.5,29.5,27.5,27.0,24.5,0.0,0.0,0.0,0.0,0.0,0.0,0.0,0.0,0.0,0.0,0.0,0.0,0.0,0.0,0.0,0.0,0.0,0.0,0.0,0.0,0.0,0.0,0.0,0.0,0.0,0.0,0.0,0.0,0.0,0.0,0.0,0.0,0.0,0.0,0.0,0.0,0.0,0.0,0.0,0.0,0.0,0.0,0.0,0.0,0.0,0.0,0.0,0.0,0.0,0.0,0.0,0.0,0.0,0.0,0.0,0.0,0.0,0.0,0.0,0.0,0.0,0.0,0.0,0.0,0.0,0.0,0.0,0.0,0.0,0.0,0.0,0.0,0.0,0.0,0.0,0.0,0.0,0.0,0.0,0.0,0.0,0.0,0.0,0.0,0.0,0.0,0.0,0.0,0.0,0.0,0.0,0.0,0.0,0.0,0.0],\"zmax\":100,\"zmin\":0,\"type\":\"choropleth\",\"geo\":\"geo\"},{\"colorbar\":{\"title\":{\"text\":\"Tasa Finalizaci\\u00f3n (Media)\"}},\"colorscale\":[[0.0,\"#440154\"],[0.1111111111111111,\"#482878\"],[0.2222222222222222,\"#3e4989\"],[0.3333333333333333,\"#31688e\"],[0.4444444444444444,\"#26828e\"],[0.5555555555555556,\"#1f9e89\"],[0.6666666666666666,\"#35b779\"],[0.7777777777777778,\"#6ece58\"],[0.8888888888888888,\"#b5de2b\"],[1.0,\"#fde725\"]],\"locationmode\":\"country names\",\"locations\":[\"Kazakhstan\",\"North Korea\",\"Ukraine\",\"Belarus\",\"Turkmenistan\",\"Serbia\",\"Kyrgyzstan\",\"Barbados\",\"Georgia\",\"Albania\",\"Jamaica\",\"Armenia\",\"Bosnia and Herzegovina\",\"Moldova\",\"Cuba\",\"Chile\",\"Montenegro\",\"Sri Lanka\",\"Turkey\",\"Tajikistan\",\"North Macedonia\",\"China\",\"Botswana\",\"Saint Lucia\",\"Ecuador\",\"Mongolia\",\"Mexico\",\"South Africa\",\"Jordan\",\"Thailand\",\"Palestinian National Authority\",\"Brazil\",\"Guyana\",\"Vietnam\",\"Peru\",\"Dominican Republic\",\"Philippines\",\"India\",\"Egypt\",\"Paraguay\",\"Kiribati\",\"Panama\",\"Colombia\",\"Argentina\",\"Tunisia\",\"El Salvador\",\"Nepal\",\"Costa Rica\",\"Tonga\",\"Uruguay\",\"East Timor\",\"Bangladesh\",\"Kenya\",\"Nigeria\",\"Indonesia\",\"Belize\",\"Algeria\",\"Namibia\",\"Democratic Republic of the Congo\",\"Laos\",\"Zambia\",\"Eswatini\",\"Republic of the Congo\",\"Sudan\",\"Pakistan\",\"Suriname\",\"Zimbabwe\",\"Honduras\",\"The Gambia\",\"Guatemala\",\"Ghana\",\"Cameroon\",\"Yemen\",\"Togo\",\"Mauritania\",\"Iraq\",\"Comoros\",\"Myanmar\",\"Sierra Leone\",\"Lesotho\",\"Cambodia\",\"Bhutan\",\"Afghanistan\",\"Angola\",\"Haiti\",\"S\\u00ef\\u00bf\\u00bd\\u00ef\\u00bf\\u00bd\\u00ef\\u00bf\\u00bd\\u00ef\\u00bf\\u00bd\\u00ef\\u00bf\\u00bd\\u00ef\\u00bf\\u00bd\\u00ef\\u00bf\\u00bd\\u00ef\\u00bf\",\"Gabon\",\"Mali\",\"Ivory Coast\",\"Tanzania\",\"Senegal\",\"Rwanda\",\"Guinea\",\"Madagascar\",\"Liberia\",\"Uganda\",\"Burundi\",\"Malawi\",\"Ethiopia\",\"Benin\",\"Guinea0Bissau\",\"South Sudan\",\"Chad\",\"Mozambique\",\"Central African Republic\",\"Burkina Faso\",\"Niger\",\"Cape Verde\",\"Bulgaria\",\"Saint Vincent and the Grenadines\",\"Spain\",\"Samoa\",\"Seychelles\",\"Solomon Islands\",\"San Marino\",\"Slovenia\",\"Slovakia\",\"Saudi Arabia\",\"Singapore\",\"Canada\",\"Brunei\",\"Somalia\",\"Iran\",\"Sweden\",\"Tuvalu\",\"Andorra\",\"Anguilla\",\"Venezuela\",\"Vanuatu\",\"Uzbekistan\",\"Antigua and Barbuda\",\"United States\",\"United Kingdom\",\"United Arab Emirates\",\"Australia\",\"Turks and Caicos Islands\",\"Switzerland\",\"Austria\",\"Azerbaijan\",\"The Bahamas\",\"Trinidad and Tobago\",\"Bahrain\",\"Tokelau\",\"Belgium\",\"Bolivia\",\"British Virgin Islands\",\"Syria\",\"Saint Kitts and Nevis\",\"Poland\",\"Russia\",\"Fiji\",\"Federated States of Micronesia\",\"Finland\",\"Mauritius\",\"France\",\"Marshall Islands\",\"Malta\",\"Maldives\",\"Malaysia\",\"Luxembourg\",\"Lithuania\",\"Liechtenstein\",\"Germany\",\"Lebanon\",\"Latvia\",\"Greece\",\"Grenada\",\"Kuwait\",\"Vatican City\",\"Japan\",\"Hungary\",\"Italy\",\"Israel\",\"Republic of Ireland\",\"Monaco\",\"Montserrat\",\"Romania\",\"Morocco\",\"Cook Islands\",\"South Korea\",\"Qatar\",\"Portugal\",\"Iceland\",\"Croatia\",\"Cyprus\",\"Papua New Guinea\",\"Czech Republic\",\"Palau\",\"Denmark\",\"Oman\",\"Norway\",\"Djibouti\",\"Niue\",\"Dominica\",\"Nicaragua\",\"New Zealand\",\"Netherlands\",\"Equatorial Guinea\",\"Nauru\",\"Eritrea\",\"Estonia\",\"Libya\"],\"z\":[100.0,100.0,100.0,100.0,99.5,99.0,99.0,98.0,98.0,97.5,97.0,97.0,97.0,96.5,96.5,95.5,95.0,95.0,94.0,94.0,94.0,93.0,92.0,91.5,90.5,90.0,88.5,88.0,87.0,86.5,86.5,85.0,84.0,84.0,83.0,82.5,81.5,80.5,80.0,80.0,78.5,78.0,77.5,74.5,74.0,73.5,73.0,73.0,70.5,69.5,66.5,65.0,65.0,62.5,61.5,60.5,57.0,55.0,55.0,53.5,52.0,50.5,50.5,50.5,50.0,49.5,49.0,49.0,49.0,48.5,47.5,47.5,47.0,47.0,46.5,46.5,46.0,45.0,44.5,44.0,40.0,39.5,37.5,37.0,35.0,34.0,32.5,30.5,29.0,29.0,28.5,27.5,26.5,26.5,26.0,25.0,22.5,22.0,20.5,19.0,17.0,16.0,14.0,13.0,12.0,9.5,7.0,0.0,0.0,0.0,0.0,0.0,0.0,0.0,0.0,0.0,0.0,0.0,0.0,0.0,0.0,0.0,0.0,0.0,0.0,0.0,0.0,0.0,0.0,0.0,0.0,0.0,0.0,0.0,0.0,0.0,0.0,0.0,0.0,0.0,0.0,0.0,0.0,0.0,0.0,0.0,0.0,0.0,0.0,0.0,0.0,0.0,0.0,0.0,0.0,0.0,0.0,0.0,0.0,0.0,0.0,0.0,0.0,0.0,0.0,0.0,0.0,0.0,0.0,0.0,0.0,0.0,0.0,0.0,0.0,0.0,0.0,0.0,0.0,0.0,0.0,0.0,0.0,0.0,0.0,0.0,0.0,0.0,0.0,0.0,0.0,0.0,0.0,0.0,0.0,0.0,0.0,0.0,0.0,0.0,0.0,0.0],\"zmax\":100,\"zmin\":0,\"type\":\"choropleth\",\"geo\":\"geo2\"},{\"colorbar\":{\"title\":{\"text\":\"Tasa Finalizaci\\u00f3n (Media)\"}},\"colorscale\":[[0.0,\"#440154\"],[0.1111111111111111,\"#482878\"],[0.2222222222222222,\"#3e4989\"],[0.3333333333333333,\"#31688e\"],[0.4444444444444444,\"#26828e\"],[0.5555555555555556,\"#1f9e89\"],[0.6666666666666666,\"#35b779\"],[0.7777777777777778,\"#6ece58\"],[0.8888888888888888,\"#b5de2b\"],[1.0,\"#fde725\"]],\"locationmode\":\"country names\",\"locations\":[\"North Korea\",\"Ukraine\",\"Kazakhstan\",\"Barbados\",\"Turkmenistan\",\"Belarus\",\"Bosnia and Herzegovina\",\"Kyrgyzstan\",\"Montenegro\",\"Chile\",\"Cuba\",\"North Macedonia\",\"Jamaica\",\"Georgia\",\"Saint Lucia\",\"Ecuador\",\"Philippines\",\"Albania\",\"Serbia\",\"Peru\",\"Armenia\",\"Colombia\",\"Tajikistan\",\"Brazil\",\"Moldova\",\"Mongolia\",\"Thailand\",\"China\",\"Paraguay\",\"Palestinian National Authority\",\"Panama\",\"Botswana\",\"Mexico\",\"Costa Rica\",\"Dominican Republic\",\"Guyana\",\"Jordan\",\"Vietnam\",\"East Timor\",\"Nigeria\",\"Tonga\",\"Belize\",\"Argentina\",\"South Africa\",\"Tunisia\",\"Turkey\",\"Iraq\",\"India\",\"Egypt\",\"Kenya\",\"Indonesia\",\"Uruguay\",\"Sri Lanka\",\"Namibia\",\"El Salvador\",\"Honduras\",\"Lesotho\",\"Eswatini\",\"Democratic Republic of the Congo\",\"Laos\",\"The Gambia\",\"Sudan\",\"Zambia\",\"Yemen\",\"Algeria\",\"Tanzania\",\"Bangladesh\",\"Comoros\",\"Nepal\",\"Mauritania\",\"Guatemala\",\"Pakistan\",\"Cameroon\",\"Republic of the Congo\",\"Afghanistan\",\"Sierra Leone\",\"Suriname\",\"Bhutan\",\"Togo\",\"Cambodia\",\"Angola\",\"Mali\",\"Guinea\",\"Rwanda\",\"Kiribati\",\"Myanmar\",\"Haiti\",\"Uganda\",\"Ivory Coast\",\"Madagascar\",\"Zimbabwe\",\"Gabon\",\"Malawi\",\"Liberia\",\"Ethiopia\",\"Guinea0Bissau\",\"Ghana\",\"Chad\",\"Senegal\",\"Benin\",\"South Sudan\",\"Central African Republic\",\"Mozambique\",\"S\\u00ef\\u00bf\\u00bd\\u00ef\\u00bf\\u00bd\\u00ef\\u00bf\\u00bd\\u00ef\\u00bf\\u00bd\\u00ef\\u00bf\\u00bd\\u00ef\\u00bf\\u00bd\\u00ef\\u00bf\\u00bd\\u00ef\\u00bf\",\"Burkina Faso\",\"Burundi\",\"Niger\",\"Spain\",\"Canada\",\"Cape Verde\",\"Sweden\",\"Japan\",\"Switzerland\",\"Solomon Islands\",\"Slovenia\",\"Slovakia\",\"Singapore\",\"Cook Islands\",\"Seychelles\",\"Croatia\",\"Saudi Arabia\",\"San Marino\",\"Samoa\",\"Somalia\",\"Bulgaria\",\"Syria\",\"United Arab Emirates\",\"Andorra\",\"Anguilla\",\"Antigua and Barbuda\",\"Venezuela\",\"Vanuatu\",\"Uzbekistan\",\"Australia\",\"United States\",\"Austria\",\"United Kingdom\",\"Azerbaijan\",\"Cyprus\",\"The Bahamas\",\"Tuvalu\",\"Turks and Caicos Islands\",\"Bahrain\",\"Belgium\",\"Trinidad and Tobago\",\"Bolivia\",\"Tokelau\",\"British Virgin Islands\",\"Brunei\",\"Saint Vincent and the Grenadines\",\"Denmark\",\"Saint Kitts and Nevis\",\"Vatican City\",\"Germany\",\"Monaco\",\"Federated States of Micronesia\",\"Greece\",\"Mauritius\",\"Grenada\",\"Marshall Islands\",\"Malta\",\"Maldives\",\"Malaysia\",\"Luxembourg\",\"Morocco\",\"Lithuania\",\"Liechtenstein\",\"Hungary\",\"Iceland\",\"Lebanon\",\"Latvia\",\"Iran\",\"Republic of Ireland\",\"Kuwait\",\"Israel\",\"Montserrat\",\"France\",\"Czech Republic\",\"Papua New Guinea\",\"Russia\",\"Romania\",\"Italy\",\"South Korea\",\"Qatar\",\"Portugal\",\"Poland\",\"Djibouti\",\"Dominica\",\"Equatorial Guinea\",\"Eritrea\",\"Nauru\",\"Palau\",\"Estonia\",\"Oman\",\"Norway\",\"Niue\",\"Fiji\",\"Nicaragua\",\"New Zealand\",\"Netherlands\",\"Finland\",\"Libya\"],\"z\":[100.0,97.0,95.5,94.0,94.0,92.5,92.0,87.0,86.5,85.5,85.5,82.5,81.5,81.0,80.0,78.5,78.5,78.0,76.0,75.0,74.0,73.5,71.5,70.0,67.0,66.5,65.5,65.0,63.5,62.5,62.5,60.5,58.0,58.0,57.0,56.5,56.0,55.5,52.0,50.5,50.5,49.5,49.5,48.5,48.5,47.5,44.0,43.0,42.0,41.0,38.5,38.5,37.5,36.0,35.0,32.0,32.0,32.0,31.5,31.5,30.5,30.5,30.0,30.0,29.5,29.5,29.5,28.0,27.5,27.0,26.0,23.5,23.5,23.5,23.0,22.5,22.0,21.5,21.5,20.0,19.5,17.5,17.5,17.5,16.5,16.5,16.5,16.5,16.0,15.5,15.5,14.0,14.0,13.5,12.5,11.0,10.5,10.5,10.5,8.5,8.0,7.0,6.5,6.0,4.0,3.5,2.5,0.0,0.0,0.0,0.0,0.0,0.0,0.0,0.0,0.0,0.0,0.0,0.0,0.0,0.0,0.0,0.0,0.0,0.0,0.0,0.0,0.0,0.0,0.0,0.0,0.0,0.0,0.0,0.0,0.0,0.0,0.0,0.0,0.0,0.0,0.0,0.0,0.0,0.0,0.0,0.0,0.0,0.0,0.0,0.0,0.0,0.0,0.0,0.0,0.0,0.0,0.0,0.0,0.0,0.0,0.0,0.0,0.0,0.0,0.0,0.0,0.0,0.0,0.0,0.0,0.0,0.0,0.0,0.0,0.0,0.0,0.0,0.0,0.0,0.0,0.0,0.0,0.0,0.0,0.0,0.0,0.0,0.0,0.0,0.0,0.0,0.0,0.0,0.0,0.0,0.0,0.0,0.0,0.0,0.0,0.0],\"zmax\":100,\"zmin\":0,\"type\":\"choropleth\",\"geo\":\"geo3\"}],                        {\"template\":{\"data\":{\"histogram2dcontour\":[{\"type\":\"histogram2dcontour\",\"colorbar\":{\"outlinewidth\":0,\"ticks\":\"\"},\"colorscale\":[[0.0,\"#0d0887\"],[0.1111111111111111,\"#46039f\"],[0.2222222222222222,\"#7201a8\"],[0.3333333333333333,\"#9c179e\"],[0.4444444444444444,\"#bd3786\"],[0.5555555555555556,\"#d8576b\"],[0.6666666666666666,\"#ed7953\"],[0.7777777777777778,\"#fb9f3a\"],[0.8888888888888888,\"#fdca26\"],[1.0,\"#f0f921\"]]}],\"choropleth\":[{\"type\":\"choropleth\",\"colorbar\":{\"outlinewidth\":0,\"ticks\":\"\"}}],\"histogram2d\":[{\"type\":\"histogram2d\",\"colorbar\":{\"outlinewidth\":0,\"ticks\":\"\"},\"colorscale\":[[0.0,\"#0d0887\"],[0.1111111111111111,\"#46039f\"],[0.2222222222222222,\"#7201a8\"],[0.3333333333333333,\"#9c179e\"],[0.4444444444444444,\"#bd3786\"],[0.5555555555555556,\"#d8576b\"],[0.6666666666666666,\"#ed7953\"],[0.7777777777777778,\"#fb9f3a\"],[0.8888888888888888,\"#fdca26\"],[1.0,\"#f0f921\"]]}],\"heatmap\":[{\"type\":\"heatmap\",\"colorbar\":{\"outlinewidth\":0,\"ticks\":\"\"},\"colorscale\":[[0.0,\"#0d0887\"],[0.1111111111111111,\"#46039f\"],[0.2222222222222222,\"#7201a8\"],[0.3333333333333333,\"#9c179e\"],[0.4444444444444444,\"#bd3786\"],[0.5555555555555556,\"#d8576b\"],[0.6666666666666666,\"#ed7953\"],[0.7777777777777778,\"#fb9f3a\"],[0.8888888888888888,\"#fdca26\"],[1.0,\"#f0f921\"]]}],\"heatmapgl\":[{\"type\":\"heatmapgl\",\"colorbar\":{\"outlinewidth\":0,\"ticks\":\"\"},\"colorscale\":[[0.0,\"#0d0887\"],[0.1111111111111111,\"#46039f\"],[0.2222222222222222,\"#7201a8\"],[0.3333333333333333,\"#9c179e\"],[0.4444444444444444,\"#bd3786\"],[0.5555555555555556,\"#d8576b\"],[0.6666666666666666,\"#ed7953\"],[0.7777777777777778,\"#fb9f3a\"],[0.8888888888888888,\"#fdca26\"],[1.0,\"#f0f921\"]]}],\"contourcarpet\":[{\"type\":\"contourcarpet\",\"colorbar\":{\"outlinewidth\":0,\"ticks\":\"\"}}],\"contour\":[{\"type\":\"contour\",\"colorbar\":{\"outlinewidth\":0,\"ticks\":\"\"},\"colorscale\":[[0.0,\"#0d0887\"],[0.1111111111111111,\"#46039f\"],[0.2222222222222222,\"#7201a8\"],[0.3333333333333333,\"#9c179e\"],[0.4444444444444444,\"#bd3786\"],[0.5555555555555556,\"#d8576b\"],[0.6666666666666666,\"#ed7953\"],[0.7777777777777778,\"#fb9f3a\"],[0.8888888888888888,\"#fdca26\"],[1.0,\"#f0f921\"]]}],\"surface\":[{\"type\":\"surface\",\"colorbar\":{\"outlinewidth\":0,\"ticks\":\"\"},\"colorscale\":[[0.0,\"#0d0887\"],[0.1111111111111111,\"#46039f\"],[0.2222222222222222,\"#7201a8\"],[0.3333333333333333,\"#9c179e\"],[0.4444444444444444,\"#bd3786\"],[0.5555555555555556,\"#d8576b\"],[0.6666666666666666,\"#ed7953\"],[0.7777777777777778,\"#fb9f3a\"],[0.8888888888888888,\"#fdca26\"],[1.0,\"#f0f921\"]]}],\"mesh3d\":[{\"type\":\"mesh3d\",\"colorbar\":{\"outlinewidth\":0,\"ticks\":\"\"}}],\"scatter\":[{\"fillpattern\":{\"fillmode\":\"overlay\",\"size\":10,\"solidity\":0.2},\"type\":\"scatter\"}],\"parcoords\":[{\"type\":\"parcoords\",\"line\":{\"colorbar\":{\"outlinewidth\":0,\"ticks\":\"\"}}}],\"scatterpolargl\":[{\"type\":\"scatterpolargl\",\"marker\":{\"colorbar\":{\"outlinewidth\":0,\"ticks\":\"\"}}}],\"bar\":[{\"error_x\":{\"color\":\"#2a3f5f\"},\"error_y\":{\"color\":\"#2a3f5f\"},\"marker\":{\"line\":{\"color\":\"#E5ECF6\",\"width\":0.5},\"pattern\":{\"fillmode\":\"overlay\",\"size\":10,\"solidity\":0.2}},\"type\":\"bar\"}],\"scattergeo\":[{\"type\":\"scattergeo\",\"marker\":{\"colorbar\":{\"outlinewidth\":0,\"ticks\":\"\"}}}],\"scatterpolar\":[{\"type\":\"scatterpolar\",\"marker\":{\"colorbar\":{\"outlinewidth\":0,\"ticks\":\"\"}}}],\"histogram\":[{\"marker\":{\"pattern\":{\"fillmode\":\"overlay\",\"size\":10,\"solidity\":0.2}},\"type\":\"histogram\"}],\"scattergl\":[{\"type\":\"scattergl\",\"marker\":{\"colorbar\":{\"outlinewidth\":0,\"ticks\":\"\"}}}],\"scatter3d\":[{\"type\":\"scatter3d\",\"line\":{\"colorbar\":{\"outlinewidth\":0,\"ticks\":\"\"}},\"marker\":{\"colorbar\":{\"outlinewidth\":0,\"ticks\":\"\"}}}],\"scattermapbox\":[{\"type\":\"scattermapbox\",\"marker\":{\"colorbar\":{\"outlinewidth\":0,\"ticks\":\"\"}}}],\"scatterternary\":[{\"type\":\"scatterternary\",\"marker\":{\"colorbar\":{\"outlinewidth\":0,\"ticks\":\"\"}}}],\"scattercarpet\":[{\"type\":\"scattercarpet\",\"marker\":{\"colorbar\":{\"outlinewidth\":0,\"ticks\":\"\"}}}],\"carpet\":[{\"aaxis\":{\"endlinecolor\":\"#2a3f5f\",\"gridcolor\":\"white\",\"linecolor\":\"white\",\"minorgridcolor\":\"white\",\"startlinecolor\":\"#2a3f5f\"},\"baxis\":{\"endlinecolor\":\"#2a3f5f\",\"gridcolor\":\"white\",\"linecolor\":\"white\",\"minorgridcolor\":\"white\",\"startlinecolor\":\"#2a3f5f\"},\"type\":\"carpet\"}],\"table\":[{\"cells\":{\"fill\":{\"color\":\"#EBF0F8\"},\"line\":{\"color\":\"white\"}},\"header\":{\"fill\":{\"color\":\"#C8D4E3\"},\"line\":{\"color\":\"white\"}},\"type\":\"table\"}],\"barpolar\":[{\"marker\":{\"line\":{\"color\":\"#E5ECF6\",\"width\":0.5},\"pattern\":{\"fillmode\":\"overlay\",\"size\":10,\"solidity\":0.2}},\"type\":\"barpolar\"}],\"pie\":[{\"automargin\":true,\"type\":\"pie\"}]},\"layout\":{\"autotypenumbers\":\"strict\",\"colorway\":[\"#636efa\",\"#EF553B\",\"#00cc96\",\"#ab63fa\",\"#FFA15A\",\"#19d3f3\",\"#FF6692\",\"#B6E880\",\"#FF97FF\",\"#FECB52\"],\"font\":{\"color\":\"#2a3f5f\"},\"hovermode\":\"closest\",\"hoverlabel\":{\"align\":\"left\"},\"paper_bgcolor\":\"white\",\"plot_bgcolor\":\"#E5ECF6\",\"polar\":{\"bgcolor\":\"#E5ECF6\",\"angularaxis\":{\"gridcolor\":\"white\",\"linecolor\":\"white\",\"ticks\":\"\"},\"radialaxis\":{\"gridcolor\":\"white\",\"linecolor\":\"white\",\"ticks\":\"\"}},\"ternary\":{\"bgcolor\":\"#E5ECF6\",\"aaxis\":{\"gridcolor\":\"white\",\"linecolor\":\"white\",\"ticks\":\"\"},\"baxis\":{\"gridcolor\":\"white\",\"linecolor\":\"white\",\"ticks\":\"\"},\"caxis\":{\"gridcolor\":\"white\",\"linecolor\":\"white\",\"ticks\":\"\"}},\"coloraxis\":{\"colorbar\":{\"outlinewidth\":0,\"ticks\":\"\"}},\"colorscale\":{\"sequential\":[[0.0,\"#0d0887\"],[0.1111111111111111,\"#46039f\"],[0.2222222222222222,\"#7201a8\"],[0.3333333333333333,\"#9c179e\"],[0.4444444444444444,\"#bd3786\"],[0.5555555555555556,\"#d8576b\"],[0.6666666666666666,\"#ed7953\"],[0.7777777777777778,\"#fb9f3a\"],[0.8888888888888888,\"#fdca26\"],[1.0,\"#f0f921\"]],\"sequentialminus\":[[0.0,\"#0d0887\"],[0.1111111111111111,\"#46039f\"],[0.2222222222222222,\"#7201a8\"],[0.3333333333333333,\"#9c179e\"],[0.4444444444444444,\"#bd3786\"],[0.5555555555555556,\"#d8576b\"],[0.6666666666666666,\"#ed7953\"],[0.7777777777777778,\"#fb9f3a\"],[0.8888888888888888,\"#fdca26\"],[1.0,\"#f0f921\"]],\"diverging\":[[0,\"#8e0152\"],[0.1,\"#c51b7d\"],[0.2,\"#de77ae\"],[0.3,\"#f1b6da\"],[0.4,\"#fde0ef\"],[0.5,\"#f7f7f7\"],[0.6,\"#e6f5d0\"],[0.7,\"#b8e186\"],[0.8,\"#7fbc41\"],[0.9,\"#4d9221\"],[1,\"#276419\"]]},\"xaxis\":{\"gridcolor\":\"white\",\"linecolor\":\"white\",\"ticks\":\"\",\"title\":{\"standoff\":15},\"zerolinecolor\":\"white\",\"automargin\":true,\"zerolinewidth\":2},\"yaxis\":{\"gridcolor\":\"white\",\"linecolor\":\"white\",\"ticks\":\"\",\"title\":{\"standoff\":15},\"zerolinecolor\":\"white\",\"automargin\":true,\"zerolinewidth\":2},\"scene\":{\"xaxis\":{\"backgroundcolor\":\"#E5ECF6\",\"gridcolor\":\"white\",\"linecolor\":\"white\",\"showbackground\":true,\"ticks\":\"\",\"zerolinecolor\":\"white\",\"gridwidth\":2},\"yaxis\":{\"backgroundcolor\":\"#E5ECF6\",\"gridcolor\":\"white\",\"linecolor\":\"white\",\"showbackground\":true,\"ticks\":\"\",\"zerolinecolor\":\"white\",\"gridwidth\":2},\"zaxis\":{\"backgroundcolor\":\"#E5ECF6\",\"gridcolor\":\"white\",\"linecolor\":\"white\",\"showbackground\":true,\"ticks\":\"\",\"zerolinecolor\":\"white\",\"gridwidth\":2}},\"shapedefaults\":{\"line\":{\"color\":\"#2a3f5f\"}},\"annotationdefaults\":{\"arrowcolor\":\"#2a3f5f\",\"arrowhead\":0,\"arrowwidth\":1},\"geo\":{\"bgcolor\":\"white\",\"landcolor\":\"#E5ECF6\",\"subunitcolor\":\"white\",\"showland\":true,\"showlakes\":true,\"lakecolor\":\"white\"},\"title\":{\"x\":0.05},\"mapbox\":{\"style\":\"light\"}}},\"geo\":{\"domain\":{\"x\":[0.0,1.0],\"y\":[0.7777777777777778,1.0]},\"projection\":{\"type\":\"natural earth\"}},\"geo2\":{\"domain\":{\"x\":[0.0,1.0],\"y\":[0.3888888888888889,0.6111111111111112]},\"projection\":{\"type\":\"natural earth\"}},\"geo3\":{\"domain\":{\"x\":[0.0,1.0],\"y\":[0.0,0.22222222222222224]},\"projection\":{\"type\":\"natural earth\"}},\"annotations\":[{\"font\":{\"size\":16},\"showarrow\":false,\"text\":\"Educaci\\u00f3n Primaria - Media de G\\u00e9neros\",\"x\":0.5,\"xanchor\":\"center\",\"xref\":\"paper\",\"y\":1.0,\"yanchor\":\"bottom\",\"yref\":\"paper\"},{\"font\":{\"size\":16},\"showarrow\":false,\"text\":\"Primer Ciclo Secundaria - Media de G\\u00e9neros\",\"x\":0.5,\"xanchor\":\"center\",\"xref\":\"paper\",\"y\":0.6111111111111112,\"yanchor\":\"bottom\",\"yref\":\"paper\"},{\"font\":{\"size\":16},\"showarrow\":false,\"text\":\"Segundo Ciclo Secundaria - Media de G\\u00e9neros\",\"x\":0.5,\"xanchor\":\"center\",\"xref\":\"paper\",\"y\":0.22222222222222224,\"yanchor\":\"bottom\",\"yref\":\"paper\"}],\"title\":{\"text\":\"Tasa Finalizaci\\u00f3n por Nivel y Media de G\\u00e9neros\"}},                        {\"responsive\": true}                    ).then(function(){\n",
              "                            \n",
              "var gd = document.getElementById('53332b06-9045-4f59-9db4-3dd0a8cc2d2f');\n",
              "var x = new MutationObserver(function (mutations, observer) {{\n",
              "        var display = window.getComputedStyle(gd).display;\n",
              "        if (!display || display === 'none') {{\n",
              "            console.log([gd, 'removed!']);\n",
              "            Plotly.purge(gd);\n",
              "            observer.disconnect();\n",
              "        }}\n",
              "}});\n",
              "\n",
              "// Listen for the removal of the full notebook cells\n",
              "var notebookContainer = gd.closest('#notebook-container');\n",
              "if (notebookContainer) {{\n",
              "    x.observe(notebookContainer, {childList: true});\n",
              "}}\n",
              "\n",
              "// Listen for the clearing of the current output cell\n",
              "var outputEl = gd.closest('.output');\n",
              "if (outputEl) {{\n",
              "    x.observe(outputEl, {childList: true});\n",
              "}}\n",
              "\n",
              "                        })                };                            </script>        </div>\n",
              "</body>\n",
              "</html>"
            ]
          },
          "metadata": {}
        }
      ]
    }
  ]
}